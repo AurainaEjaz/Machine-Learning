{
  "nbformat": 4,
  "nbformat_minor": 0,
  "metadata": {
    "colab": {
      "provenance": [],
      "gpuType": "T4"
    },
    "kernelspec": {
      "name": "python3",
      "display_name": "Python 3"
    },
    "language_info": {
      "name": "python"
    },
    "accelerator": "GPU",
    "gpuClass": "standard"
  },
  "cells": [
    {
      "cell_type": "markdown",
      "source": [
        "## **QUESTION 1: TASK 1** \n",
        "\n",
        "\n"
      ],
      "metadata": {
        "id": "Ad1e9aXpsqHw"
      }
    },
    {
      "cell_type": "code",
      "source": [
        "# importing all the necessary modules\n",
        "import seaborn as sns\n",
        "import pandas as pd\n",
        "import numpy as np\n",
        "import matplotlib.pyplot as plt\n",
        "import nltk\n",
        "from nltk import word_tokenize, sent_tokenize, FreqDist\n",
        "from nltk.corpus import stopwords\n",
        "from nltk.stem import LancasterStemmer, WordNetLemmatizer\n",
        "import re, string, unicodedata\n",
        "from collections import Counter\n",
        "from wordcloud import WordCloud\n",
        "nltk.download\n",
        "nltk.download('wordnet')\n",
        "nltk.download('stopwords')\n",
        "from nltk.tokenize import TweetTokenizer\n",
        "!pip install ekphrasis\n",
        "!pip install tweet-preprocessor\n",
        "import preprocessor as p\n",
        "from wordcloud import WordCloud, STOPWORDS\n",
        "from sklearn.decomposition import LatentDirichletAllocation\n",
        "from collections import Counter\n",
        "from nltk.sentiment import SentimentIntensityAnalyzer\n",
        "from textblob import TextBlob\n",
        "nltk.download('vader_lexicon')\n",
        "nltk.download('punkt')\n"
      ],
      "metadata": {
        "colab": {
          "base_uri": "https://localhost:8080/"
        },
        "id": "YjznZGwBtDUk",
        "outputId": "f57c676b-fc71-476c-dd34-7d236f2ca88a"
      },
      "execution_count": 2,
      "outputs": [
        {
          "output_type": "stream",
          "name": "stderr",
          "text": [
            "[nltk_data] Downloading package wordnet to /root/nltk_data...\n",
            "[nltk_data]   Package wordnet is already up-to-date!\n",
            "[nltk_data] Downloading package stopwords to /root/nltk_data...\n",
            "[nltk_data]   Package stopwords is already up-to-date!\n"
          ]
        },
        {
          "output_type": "stream",
          "name": "stdout",
          "text": [
            "Looking in indexes: https://pypi.org/simple, https://us-python.pkg.dev/colab-wheels/public/simple/\n",
            "Requirement already satisfied: ekphrasis in /usr/local/lib/python3.10/dist-packages (0.5.4)\n",
            "Requirement already satisfied: termcolor in /usr/local/lib/python3.10/dist-packages (from ekphrasis) (2.3.0)\n",
            "Requirement already satisfied: tqdm in /usr/local/lib/python3.10/dist-packages (from ekphrasis) (4.65.0)\n",
            "Requirement already satisfied: colorama in /usr/local/lib/python3.10/dist-packages (from ekphrasis) (0.4.6)\n",
            "Requirement already satisfied: ujson in /usr/local/lib/python3.10/dist-packages (from ekphrasis) (5.7.0)\n",
            "Requirement already satisfied: matplotlib in /usr/local/lib/python3.10/dist-packages (from ekphrasis) (3.7.1)\n",
            "Requirement already satisfied: nltk in /usr/local/lib/python3.10/dist-packages (from ekphrasis) (3.8.1)\n",
            "Requirement already satisfied: ftfy in /usr/local/lib/python3.10/dist-packages (from ekphrasis) (6.1.1)\n",
            "Requirement already satisfied: numpy in /usr/local/lib/python3.10/dist-packages (from ekphrasis) (1.22.4)\n",
            "Requirement already satisfied: wcwidth>=0.2.5 in /usr/local/lib/python3.10/dist-packages (from ftfy->ekphrasis) (0.2.6)\n",
            "Requirement already satisfied: contourpy>=1.0.1 in /usr/local/lib/python3.10/dist-packages (from matplotlib->ekphrasis) (1.0.7)\n",
            "Requirement already satisfied: cycler>=0.10 in /usr/local/lib/python3.10/dist-packages (from matplotlib->ekphrasis) (0.11.0)\n",
            "Requirement already satisfied: fonttools>=4.22.0 in /usr/local/lib/python3.10/dist-packages (from matplotlib->ekphrasis) (4.39.3)\n",
            "Requirement already satisfied: kiwisolver>=1.0.1 in /usr/local/lib/python3.10/dist-packages (from matplotlib->ekphrasis) (1.4.4)\n",
            "Requirement already satisfied: packaging>=20.0 in /usr/local/lib/python3.10/dist-packages (from matplotlib->ekphrasis) (23.1)\n",
            "Requirement already satisfied: pillow>=6.2.0 in /usr/local/lib/python3.10/dist-packages (from matplotlib->ekphrasis) (8.4.0)\n",
            "Requirement already satisfied: pyparsing>=2.3.1 in /usr/local/lib/python3.10/dist-packages (from matplotlib->ekphrasis) (3.0.9)\n",
            "Requirement already satisfied: python-dateutil>=2.7 in /usr/local/lib/python3.10/dist-packages (from matplotlib->ekphrasis) (2.8.2)\n",
            "Requirement already satisfied: click in /usr/local/lib/python3.10/dist-packages (from nltk->ekphrasis) (8.1.3)\n",
            "Requirement already satisfied: joblib in /usr/local/lib/python3.10/dist-packages (from nltk->ekphrasis) (1.2.0)\n",
            "Requirement already satisfied: regex>=2021.8.3 in /usr/local/lib/python3.10/dist-packages (from nltk->ekphrasis) (2022.10.31)\n",
            "Requirement already satisfied: six>=1.5 in /usr/local/lib/python3.10/dist-packages (from python-dateutil>=2.7->matplotlib->ekphrasis) (1.16.0)\n",
            "Looking in indexes: https://pypi.org/simple, https://us-python.pkg.dev/colab-wheels/public/simple/\n",
            "Requirement already satisfied: tweet-preprocessor in /usr/local/lib/python3.10/dist-packages (0.6.0)\n"
          ]
        },
        {
          "output_type": "stream",
          "name": "stderr",
          "text": [
            "[nltk_data] Downloading package vader_lexicon to /root/nltk_data...\n",
            "[nltk_data]   Package vader_lexicon is already up-to-date!\n",
            "[nltk_data] Downloading package punkt to /root/nltk_data...\n",
            "[nltk_data]   Package punkt is already up-to-date!\n"
          ]
        },
        {
          "output_type": "execute_result",
          "data": {
            "text/plain": [
              "True"
            ]
          },
          "metadata": {},
          "execution_count": 2
        }
      ]
    },
    {
      "cell_type": "code",
      "source": [
        "# input excel file path\n",
        "inputExcelFile =\"chatgpt1.xlsx\"\n",
        "\n",
        "# Reading an excel file\n",
        "excelFile = pd.read_excel (inputExcelFile)\n",
        "\n",
        "# Converting excel file into CSV file\n",
        "excelFile.to_csv (\"ResultCsvFile.csv\", index = None, header=True)\n",
        "\n",
        "# Reading and Converting the output csv file into a dataframe object\n",
        "dataset = pd.DataFrame(pd.read_csv(\"ResultCsvFile.csv\"))\n",
        "\n",
        "# Displaying the dataframe object\n",
        "dataset.head()"
      ],
      "metadata": {
        "colab": {
          "base_uri": "https://localhost:8080/",
          "height": 443
        },
        "id": "nUdJBBJGtDXD",
        "outputId": "11e73f4e-5d9a-4cf8-bd64-3a03414e2b8f"
      },
      "execution_count": 9,
      "outputs": [
        {
          "output_type": "execute_result",
          "data": {
            "text/plain": [
              "                    Datetime             Tweet Id  \\\n",
              "0  2023-01-22 13:44:34+00:00  1617156270871689984   \n",
              "1  2023-01-22 13:44:39+00:00  1617156291046129920   \n",
              "2  2023-01-22 13:44:44+00:00  1617156308926340096   \n",
              "3  2023-01-22 13:44:49+00:00  1617156332297250048   \n",
              "4  2023-01-22 13:44:52+00:00  1617156345064570112   \n",
              "\n",
              "                                                Text         Username  \\\n",
              "0  ChatGPTã§éŠã¶ã®å¿˜ã‚Œã¦ãŸï¼ï¼\\næ›¸é¡žä...      mochico0123   \n",
              "1  @AlexandrovnaIng Prohibition of ChatGPT has be...  Caput_LupinumSG   \n",
              "2  Schaut Euch an, was @fobizz @DianaKnodel alles...            ciffi   \n",
              "3  Bow down to chatGPT ðŸ«¡..... https://t.co/ENT...    Vishwasrisiri   \n",
              "4  Profilinde vatan, TÃ¼rkiye falan yazan bireyle...   0xGenetikciniz   \n",
              "\n",
              "                                           Permalink  \\\n",
              "0  https://twitter.com/mochico0123/status/1617156...   \n",
              "1  https://twitter.com/Caput_LupinumSG/status/161...   \n",
              "2  https://twitter.com/ciffi/status/1617156308926...   \n",
              "3  https://twitter.com/Vishwasrisiri/status/16171...   \n",
              "4  https://twitter.com/0xGenetikciniz/status/1617...   \n",
              "\n",
              "                                  User  \\\n",
              "0      https://twitter.com/mochico0123   \n",
              "1  https://twitter.com/Caput_LupinumSG   \n",
              "2            https://twitter.com/ciffi   \n",
              "3    https://twitter.com/Vishwasrisiri   \n",
              "4   https://twitter.com/0xGenetikciniz   \n",
              "\n",
              "                                            Outlinks  \\\n",
              "0                                                NaN   \n",
              "1                                                NaN   \n",
              "2  ['https://us02web.zoom.us/webinar/register/801...   \n",
              "3  ['https://twitter.com/agadmator/status/1617155...   \n",
              "4                                                NaN   \n",
              "\n",
              "                                          CountLinks  ReplyCount  \\\n",
              "0                                                NaN           1   \n",
              "1                                                NaN           1   \n",
              "2  ['https://t.co/DsoeVJrPBp', 'https://t.co/HflT...           0   \n",
              "3                        ['https://t.co/ENTSzi2AQ9']           0   \n",
              "4                                                NaN           0   \n",
              "\n",
              "   RetweetCount  LikeCount  QuoteCount       ConversationId Language  \\\n",
              "0             0          5           0  1617156270871689984       ja   \n",
              "1             0          5           0  1617148639993799936       en   \n",
              "2             0          4           0  1617156308926340096       de   \n",
              "3             0          2           0  1617156332297250048       en   \n",
              "4             0          4           0  1617156345064570112       tr   \n",
              "\n",
              "                                              Source  \\\n",
              "0  <a href=\"http://twitter.com/download/iphone\" r...   \n",
              "1  <a href=\"http://twitter.com/download/iphone\" r...   \n",
              "2  <a href=\"http://twitter.com/#!/download/ipad\" ...   \n",
              "3  <a href=\"http://twitter.com/download/android\" ...   \n",
              "4  <a href=\"http://twitter.com/download/iphone\" r...   \n",
              "\n",
              "                                               Media  \\\n",
              "0                                                NaN   \n",
              "1                                                NaN   \n",
              "2  [Photo(previewUrl='https://pbs.twimg.com/media...   \n",
              "3                                                NaN   \n",
              "4                                                NaN   \n",
              "\n",
              "                                         QuotedTweet  \\\n",
              "0                                                NaN   \n",
              "1                                                NaN   \n",
              "2  https://twitter.com/DianaKnodel/status/1617153...   \n",
              "3  https://twitter.com/agadmator/status/161715501...   \n",
              "4                                                NaN   \n",
              "\n",
              "                                      MentionedUsers       hashtag  \\\n",
              "0                                                NaN            []   \n",
              "1  [User(username='AlexandrovnaIng', id=282705900...            []   \n",
              "2  [User(username='fobizz', id=884708145792253952...  ['#ChatGPT']   \n",
              "3                                                NaN            []   \n",
              "4                                                NaN            []   \n",
              "\n",
              "   hastag_counts  \n",
              "0              0  \n",
              "1              0  \n",
              "2              1  \n",
              "3              0  \n",
              "4              0  "
            ],
            "text/html": [
              "\n",
              "  <div id=\"df-8c0e2071-64d6-4e26-a25e-2b2b68468efb\">\n",
              "    <div class=\"colab-df-container\">\n",
              "      <div>\n",
              "<style scoped>\n",
              "    .dataframe tbody tr th:only-of-type {\n",
              "        vertical-align: middle;\n",
              "    }\n",
              "\n",
              "    .dataframe tbody tr th {\n",
              "        vertical-align: top;\n",
              "    }\n",
              "\n",
              "    .dataframe thead th {\n",
              "        text-align: right;\n",
              "    }\n",
              "</style>\n",
              "<table border=\"1\" class=\"dataframe\">\n",
              "  <thead>\n",
              "    <tr style=\"text-align: right;\">\n",
              "      <th></th>\n",
              "      <th>Datetime</th>\n",
              "      <th>Tweet Id</th>\n",
              "      <th>Text</th>\n",
              "      <th>Username</th>\n",
              "      <th>Permalink</th>\n",
              "      <th>User</th>\n",
              "      <th>Outlinks</th>\n",
              "      <th>CountLinks</th>\n",
              "      <th>ReplyCount</th>\n",
              "      <th>RetweetCount</th>\n",
              "      <th>LikeCount</th>\n",
              "      <th>QuoteCount</th>\n",
              "      <th>ConversationId</th>\n",
              "      <th>Language</th>\n",
              "      <th>Source</th>\n",
              "      <th>Media</th>\n",
              "      <th>QuotedTweet</th>\n",
              "      <th>MentionedUsers</th>\n",
              "      <th>hashtag</th>\n",
              "      <th>hastag_counts</th>\n",
              "    </tr>\n",
              "  </thead>\n",
              "  <tbody>\n",
              "    <tr>\n",
              "      <th>0</th>\n",
              "      <td>2023-01-22 13:44:34+00:00</td>\n",
              "      <td>1617156270871689984</td>\n",
              "      <td>ChatGPTã§éŠã¶ã®å¿˜ã‚Œã¦ãŸï¼ï¼\\næ›¸é¡žä...</td>\n",
              "      <td>mochico0123</td>\n",
              "      <td>https://twitter.com/mochico0123/status/1617156...</td>\n",
              "      <td>https://twitter.com/mochico0123</td>\n",
              "      <td>NaN</td>\n",
              "      <td>NaN</td>\n",
              "      <td>1</td>\n",
              "      <td>0</td>\n",
              "      <td>5</td>\n",
              "      <td>0</td>\n",
              "      <td>1617156270871689984</td>\n",
              "      <td>ja</td>\n",
              "      <td>&lt;a href=\"http://twitter.com/download/iphone\" r...</td>\n",
              "      <td>NaN</td>\n",
              "      <td>NaN</td>\n",
              "      <td>NaN</td>\n",
              "      <td>[]</td>\n",
              "      <td>0</td>\n",
              "    </tr>\n",
              "    <tr>\n",
              "      <th>1</th>\n",
              "      <td>2023-01-22 13:44:39+00:00</td>\n",
              "      <td>1617156291046129920</td>\n",
              "      <td>@AlexandrovnaIng Prohibition of ChatGPT has be...</td>\n",
              "      <td>Caput_LupinumSG</td>\n",
              "      <td>https://twitter.com/Caput_LupinumSG/status/161...</td>\n",
              "      <td>https://twitter.com/Caput_LupinumSG</td>\n",
              "      <td>NaN</td>\n",
              "      <td>NaN</td>\n",
              "      <td>1</td>\n",
              "      <td>0</td>\n",
              "      <td>5</td>\n",
              "      <td>0</td>\n",
              "      <td>1617148639993799936</td>\n",
              "      <td>en</td>\n",
              "      <td>&lt;a href=\"http://twitter.com/download/iphone\" r...</td>\n",
              "      <td>NaN</td>\n",
              "      <td>NaN</td>\n",
              "      <td>[User(username='AlexandrovnaIng', id=282705900...</td>\n",
              "      <td>[]</td>\n",
              "      <td>0</td>\n",
              "    </tr>\n",
              "    <tr>\n",
              "      <th>2</th>\n",
              "      <td>2023-01-22 13:44:44+00:00</td>\n",
              "      <td>1617156308926340096</td>\n",
              "      <td>Schaut Euch an, was @fobizz @DianaKnodel alles...</td>\n",
              "      <td>ciffi</td>\n",
              "      <td>https://twitter.com/ciffi/status/1617156308926...</td>\n",
              "      <td>https://twitter.com/ciffi</td>\n",
              "      <td>['https://us02web.zoom.us/webinar/register/801...</td>\n",
              "      <td>['https://t.co/DsoeVJrPBp', 'https://t.co/HflT...</td>\n",
              "      <td>0</td>\n",
              "      <td>0</td>\n",
              "      <td>4</td>\n",
              "      <td>0</td>\n",
              "      <td>1617156308926340096</td>\n",
              "      <td>de</td>\n",
              "      <td>&lt;a href=\"http://twitter.com/#!/download/ipad\" ...</td>\n",
              "      <td>[Photo(previewUrl='https://pbs.twimg.com/media...</td>\n",
              "      <td>https://twitter.com/DianaKnodel/status/1617153...</td>\n",
              "      <td>[User(username='fobizz', id=884708145792253952...</td>\n",
              "      <td>['#ChatGPT']</td>\n",
              "      <td>1</td>\n",
              "    </tr>\n",
              "    <tr>\n",
              "      <th>3</th>\n",
              "      <td>2023-01-22 13:44:49+00:00</td>\n",
              "      <td>1617156332297250048</td>\n",
              "      <td>Bow down to chatGPT ðŸ«¡..... https://t.co/ENT...</td>\n",
              "      <td>Vishwasrisiri</td>\n",
              "      <td>https://twitter.com/Vishwasrisiri/status/16171...</td>\n",
              "      <td>https://twitter.com/Vishwasrisiri</td>\n",
              "      <td>['https://twitter.com/agadmator/status/1617155...</td>\n",
              "      <td>['https://t.co/ENTSzi2AQ9']</td>\n",
              "      <td>0</td>\n",
              "      <td>0</td>\n",
              "      <td>2</td>\n",
              "      <td>0</td>\n",
              "      <td>1617156332297250048</td>\n",
              "      <td>en</td>\n",
              "      <td>&lt;a href=\"http://twitter.com/download/android\" ...</td>\n",
              "      <td>NaN</td>\n",
              "      <td>https://twitter.com/agadmator/status/161715501...</td>\n",
              "      <td>NaN</td>\n",
              "      <td>[]</td>\n",
              "      <td>0</td>\n",
              "    </tr>\n",
              "    <tr>\n",
              "      <th>4</th>\n",
              "      <td>2023-01-22 13:44:52+00:00</td>\n",
              "      <td>1617156345064570112</td>\n",
              "      <td>Profilinde vatan, TÃ¼rkiye falan yazan bireyle...</td>\n",
              "      <td>0xGenetikciniz</td>\n",
              "      <td>https://twitter.com/0xGenetikciniz/status/1617...</td>\n",
              "      <td>https://twitter.com/0xGenetikciniz</td>\n",
              "      <td>NaN</td>\n",
              "      <td>NaN</td>\n",
              "      <td>0</td>\n",
              "      <td>0</td>\n",
              "      <td>4</td>\n",
              "      <td>0</td>\n",
              "      <td>1617156345064570112</td>\n",
              "      <td>tr</td>\n",
              "      <td>&lt;a href=\"http://twitter.com/download/iphone\" r...</td>\n",
              "      <td>NaN</td>\n",
              "      <td>NaN</td>\n",
              "      <td>NaN</td>\n",
              "      <td>[]</td>\n",
              "      <td>0</td>\n",
              "    </tr>\n",
              "  </tbody>\n",
              "</table>\n",
              "</div>\n",
              "      <button class=\"colab-df-convert\" onclick=\"convertToInteractive('df-8c0e2071-64d6-4e26-a25e-2b2b68468efb')\"\n",
              "              title=\"Convert this dataframe to an interactive table.\"\n",
              "              style=\"display:none;\">\n",
              "        \n",
              "  <svg xmlns=\"http://www.w3.org/2000/svg\" height=\"24px\"viewBox=\"0 0 24 24\"\n",
              "       width=\"24px\">\n",
              "    <path d=\"M0 0h24v24H0V0z\" fill=\"none\"/>\n",
              "    <path d=\"M18.56 5.44l.94 2.06.94-2.06 2.06-.94-2.06-.94-.94-2.06-.94 2.06-2.06.94zm-11 1L8.5 8.5l.94-2.06 2.06-.94-2.06-.94L8.5 2.5l-.94 2.06-2.06.94zm10 10l.94 2.06.94-2.06 2.06-.94-2.06-.94-.94-2.06-.94 2.06-2.06.94z\"/><path d=\"M17.41 7.96l-1.37-1.37c-.4-.4-.92-.59-1.43-.59-.52 0-1.04.2-1.43.59L10.3 9.45l-7.72 7.72c-.78.78-.78 2.05 0 2.83L4 21.41c.39.39.9.59 1.41.59.51 0 1.02-.2 1.41-.59l7.78-7.78 2.81-2.81c.8-.78.8-2.07 0-2.86zM5.41 20L4 18.59l7.72-7.72 1.47 1.35L5.41 20z\"/>\n",
              "  </svg>\n",
              "      </button>\n",
              "      \n",
              "  <style>\n",
              "    .colab-df-container {\n",
              "      display:flex;\n",
              "      flex-wrap:wrap;\n",
              "      gap: 12px;\n",
              "    }\n",
              "\n",
              "    .colab-df-convert {\n",
              "      background-color: #E8F0FE;\n",
              "      border: none;\n",
              "      border-radius: 50%;\n",
              "      cursor: pointer;\n",
              "      display: none;\n",
              "      fill: #1967D2;\n",
              "      height: 32px;\n",
              "      padding: 0 0 0 0;\n",
              "      width: 32px;\n",
              "    }\n",
              "\n",
              "    .colab-df-convert:hover {\n",
              "      background-color: #E2EBFA;\n",
              "      box-shadow: 0px 1px 2px rgba(60, 64, 67, 0.3), 0px 1px 3px 1px rgba(60, 64, 67, 0.15);\n",
              "      fill: #174EA6;\n",
              "    }\n",
              "\n",
              "    [theme=dark] .colab-df-convert {\n",
              "      background-color: #3B4455;\n",
              "      fill: #D2E3FC;\n",
              "    }\n",
              "\n",
              "    [theme=dark] .colab-df-convert:hover {\n",
              "      background-color: #434B5C;\n",
              "      box-shadow: 0px 1px 3px 1px rgba(0, 0, 0, 0.15);\n",
              "      filter: drop-shadow(0px 1px 2px rgba(0, 0, 0, 0.3));\n",
              "      fill: #FFFFFF;\n",
              "    }\n",
              "  </style>\n",
              "\n",
              "      <script>\n",
              "        const buttonEl =\n",
              "          document.querySelector('#df-8c0e2071-64d6-4e26-a25e-2b2b68468efb button.colab-df-convert');\n",
              "        buttonEl.style.display =\n",
              "          google.colab.kernel.accessAllowed ? 'block' : 'none';\n",
              "\n",
              "        async function convertToInteractive(key) {\n",
              "          const element = document.querySelector('#df-8c0e2071-64d6-4e26-a25e-2b2b68468efb');\n",
              "          const dataTable =\n",
              "            await google.colab.kernel.invokeFunction('convertToInteractive',\n",
              "                                                     [key], {});\n",
              "          if (!dataTable) return;\n",
              "\n",
              "          const docLinkHtml = 'Like what you see? Visit the ' +\n",
              "            '<a target=\"_blank\" href=https://colab.research.google.com/notebooks/data_table.ipynb>data table notebook</a>'\n",
              "            + ' to learn more about interactive tables.';\n",
              "          element.innerHTML = '';\n",
              "          dataTable['output_type'] = 'display_data';\n",
              "          await google.colab.output.renderOutput(dataTable, element);\n",
              "          const docLink = document.createElement('div');\n",
              "          docLink.innerHTML = docLinkHtml;\n",
              "          element.appendChild(docLink);\n",
              "        }\n",
              "      </script>\n",
              "    </div>\n",
              "  </div>\n",
              "  "
            ]
          },
          "metadata": {},
          "execution_count": 9
        }
      ]
    },
    {
      "cell_type": "code",
      "source": [
        "# Fill missing values with a specific value, such as \"Unknown\"\n",
        "dataset = dataset.fillna(\"Unknown\")\n",
        "\n",
        "# Replace empty lists with None\n",
        "dataset['hashtag'] = dataset['hashtag'].apply(lambda x: None if x == '[]' else x)\n",
        "\n",
        "\n",
        "dataset.head()"
      ],
      "metadata": {
        "colab": {
          "base_uri": "https://localhost:8080/",
          "height": 443
        },
        "id": "KmiZ50_ZtDZf",
        "outputId": "b7f0e5e6-8d0b-488d-9859-718e35bcd6fc"
      },
      "execution_count": 10,
      "outputs": [
        {
          "output_type": "execute_result",
          "data": {
            "text/plain": [
              "                    Datetime             Tweet Id  \\\n",
              "0  2023-01-22 13:44:34+00:00  1617156270871689984   \n",
              "1  2023-01-22 13:44:39+00:00  1617156291046129920   \n",
              "2  2023-01-22 13:44:44+00:00  1617156308926340096   \n",
              "3  2023-01-22 13:44:49+00:00  1617156332297250048   \n",
              "4  2023-01-22 13:44:52+00:00  1617156345064570112   \n",
              "\n",
              "                                                Text         Username  \\\n",
              "0  ChatGPTã§éŠã¶ã®å¿˜ã‚Œã¦ãŸï¼ï¼\\næ›¸é¡žä...      mochico0123   \n",
              "1  @AlexandrovnaIng Prohibition of ChatGPT has be...  Caput_LupinumSG   \n",
              "2  Schaut Euch an, was @fobizz @DianaKnodel alles...            ciffi   \n",
              "3  Bow down to chatGPT ðŸ«¡..... https://t.co/ENT...    Vishwasrisiri   \n",
              "4  Profilinde vatan, TÃ¼rkiye falan yazan bireyle...   0xGenetikciniz   \n",
              "\n",
              "                                           Permalink  \\\n",
              "0  https://twitter.com/mochico0123/status/1617156...   \n",
              "1  https://twitter.com/Caput_LupinumSG/status/161...   \n",
              "2  https://twitter.com/ciffi/status/1617156308926...   \n",
              "3  https://twitter.com/Vishwasrisiri/status/16171...   \n",
              "4  https://twitter.com/0xGenetikciniz/status/1617...   \n",
              "\n",
              "                                  User  \\\n",
              "0      https://twitter.com/mochico0123   \n",
              "1  https://twitter.com/Caput_LupinumSG   \n",
              "2            https://twitter.com/ciffi   \n",
              "3    https://twitter.com/Vishwasrisiri   \n",
              "4   https://twitter.com/0xGenetikciniz   \n",
              "\n",
              "                                            Outlinks  \\\n",
              "0                                            Unknown   \n",
              "1                                            Unknown   \n",
              "2  ['https://us02web.zoom.us/webinar/register/801...   \n",
              "3  ['https://twitter.com/agadmator/status/1617155...   \n",
              "4                                            Unknown   \n",
              "\n",
              "                                          CountLinks  ReplyCount  \\\n",
              "0                                            Unknown           1   \n",
              "1                                            Unknown           1   \n",
              "2  ['https://t.co/DsoeVJrPBp', 'https://t.co/HflT...           0   \n",
              "3                        ['https://t.co/ENTSzi2AQ9']           0   \n",
              "4                                            Unknown           0   \n",
              "\n",
              "   RetweetCount  LikeCount  QuoteCount       ConversationId Language  \\\n",
              "0             0          5           0  1617156270871689984       ja   \n",
              "1             0          5           0  1617148639993799936       en   \n",
              "2             0          4           0  1617156308926340096       de   \n",
              "3             0          2           0  1617156332297250048       en   \n",
              "4             0          4           0  1617156345064570112       tr   \n",
              "\n",
              "                                              Source  \\\n",
              "0  <a href=\"http://twitter.com/download/iphone\" r...   \n",
              "1  <a href=\"http://twitter.com/download/iphone\" r...   \n",
              "2  <a href=\"http://twitter.com/#!/download/ipad\" ...   \n",
              "3  <a href=\"http://twitter.com/download/android\" ...   \n",
              "4  <a href=\"http://twitter.com/download/iphone\" r...   \n",
              "\n",
              "                                               Media  \\\n",
              "0                                            Unknown   \n",
              "1                                            Unknown   \n",
              "2  [Photo(previewUrl='https://pbs.twimg.com/media...   \n",
              "3                                            Unknown   \n",
              "4                                            Unknown   \n",
              "\n",
              "                                         QuotedTweet  \\\n",
              "0                                            Unknown   \n",
              "1                                            Unknown   \n",
              "2  https://twitter.com/DianaKnodel/status/1617153...   \n",
              "3  https://twitter.com/agadmator/status/161715501...   \n",
              "4                                            Unknown   \n",
              "\n",
              "                                      MentionedUsers       hashtag  \\\n",
              "0                                            Unknown          None   \n",
              "1  [User(username='AlexandrovnaIng', id=282705900...          None   \n",
              "2  [User(username='fobizz', id=884708145792253952...  ['#ChatGPT']   \n",
              "3                                            Unknown          None   \n",
              "4                                            Unknown          None   \n",
              "\n",
              "   hastag_counts  \n",
              "0              0  \n",
              "1              0  \n",
              "2              1  \n",
              "3              0  \n",
              "4              0  "
            ],
            "text/html": [
              "\n",
              "  <div id=\"df-1c67821d-e8c3-462d-ac89-21c22779db0c\">\n",
              "    <div class=\"colab-df-container\">\n",
              "      <div>\n",
              "<style scoped>\n",
              "    .dataframe tbody tr th:only-of-type {\n",
              "        vertical-align: middle;\n",
              "    }\n",
              "\n",
              "    .dataframe tbody tr th {\n",
              "        vertical-align: top;\n",
              "    }\n",
              "\n",
              "    .dataframe thead th {\n",
              "        text-align: right;\n",
              "    }\n",
              "</style>\n",
              "<table border=\"1\" class=\"dataframe\">\n",
              "  <thead>\n",
              "    <tr style=\"text-align: right;\">\n",
              "      <th></th>\n",
              "      <th>Datetime</th>\n",
              "      <th>Tweet Id</th>\n",
              "      <th>Text</th>\n",
              "      <th>Username</th>\n",
              "      <th>Permalink</th>\n",
              "      <th>User</th>\n",
              "      <th>Outlinks</th>\n",
              "      <th>CountLinks</th>\n",
              "      <th>ReplyCount</th>\n",
              "      <th>RetweetCount</th>\n",
              "      <th>LikeCount</th>\n",
              "      <th>QuoteCount</th>\n",
              "      <th>ConversationId</th>\n",
              "      <th>Language</th>\n",
              "      <th>Source</th>\n",
              "      <th>Media</th>\n",
              "      <th>QuotedTweet</th>\n",
              "      <th>MentionedUsers</th>\n",
              "      <th>hashtag</th>\n",
              "      <th>hastag_counts</th>\n",
              "    </tr>\n",
              "  </thead>\n",
              "  <tbody>\n",
              "    <tr>\n",
              "      <th>0</th>\n",
              "      <td>2023-01-22 13:44:34+00:00</td>\n",
              "      <td>1617156270871689984</td>\n",
              "      <td>ChatGPTã§éŠã¶ã®å¿˜ã‚Œã¦ãŸï¼ï¼\\næ›¸é¡žä...</td>\n",
              "      <td>mochico0123</td>\n",
              "      <td>https://twitter.com/mochico0123/status/1617156...</td>\n",
              "      <td>https://twitter.com/mochico0123</td>\n",
              "      <td>Unknown</td>\n",
              "      <td>Unknown</td>\n",
              "      <td>1</td>\n",
              "      <td>0</td>\n",
              "      <td>5</td>\n",
              "      <td>0</td>\n",
              "      <td>1617156270871689984</td>\n",
              "      <td>ja</td>\n",
              "      <td>&lt;a href=\"http://twitter.com/download/iphone\" r...</td>\n",
              "      <td>Unknown</td>\n",
              "      <td>Unknown</td>\n",
              "      <td>Unknown</td>\n",
              "      <td>None</td>\n",
              "      <td>0</td>\n",
              "    </tr>\n",
              "    <tr>\n",
              "      <th>1</th>\n",
              "      <td>2023-01-22 13:44:39+00:00</td>\n",
              "      <td>1617156291046129920</td>\n",
              "      <td>@AlexandrovnaIng Prohibition of ChatGPT has be...</td>\n",
              "      <td>Caput_LupinumSG</td>\n",
              "      <td>https://twitter.com/Caput_LupinumSG/status/161...</td>\n",
              "      <td>https://twitter.com/Caput_LupinumSG</td>\n",
              "      <td>Unknown</td>\n",
              "      <td>Unknown</td>\n",
              "      <td>1</td>\n",
              "      <td>0</td>\n",
              "      <td>5</td>\n",
              "      <td>0</td>\n",
              "      <td>1617148639993799936</td>\n",
              "      <td>en</td>\n",
              "      <td>&lt;a href=\"http://twitter.com/download/iphone\" r...</td>\n",
              "      <td>Unknown</td>\n",
              "      <td>Unknown</td>\n",
              "      <td>[User(username='AlexandrovnaIng', id=282705900...</td>\n",
              "      <td>None</td>\n",
              "      <td>0</td>\n",
              "    </tr>\n",
              "    <tr>\n",
              "      <th>2</th>\n",
              "      <td>2023-01-22 13:44:44+00:00</td>\n",
              "      <td>1617156308926340096</td>\n",
              "      <td>Schaut Euch an, was @fobizz @DianaKnodel alles...</td>\n",
              "      <td>ciffi</td>\n",
              "      <td>https://twitter.com/ciffi/status/1617156308926...</td>\n",
              "      <td>https://twitter.com/ciffi</td>\n",
              "      <td>['https://us02web.zoom.us/webinar/register/801...</td>\n",
              "      <td>['https://t.co/DsoeVJrPBp', 'https://t.co/HflT...</td>\n",
              "      <td>0</td>\n",
              "      <td>0</td>\n",
              "      <td>4</td>\n",
              "      <td>0</td>\n",
              "      <td>1617156308926340096</td>\n",
              "      <td>de</td>\n",
              "      <td>&lt;a href=\"http://twitter.com/#!/download/ipad\" ...</td>\n",
              "      <td>[Photo(previewUrl='https://pbs.twimg.com/media...</td>\n",
              "      <td>https://twitter.com/DianaKnodel/status/1617153...</td>\n",
              "      <td>[User(username='fobizz', id=884708145792253952...</td>\n",
              "      <td>['#ChatGPT']</td>\n",
              "      <td>1</td>\n",
              "    </tr>\n",
              "    <tr>\n",
              "      <th>3</th>\n",
              "      <td>2023-01-22 13:44:49+00:00</td>\n",
              "      <td>1617156332297250048</td>\n",
              "      <td>Bow down to chatGPT ðŸ«¡..... https://t.co/ENT...</td>\n",
              "      <td>Vishwasrisiri</td>\n",
              "      <td>https://twitter.com/Vishwasrisiri/status/16171...</td>\n",
              "      <td>https://twitter.com/Vishwasrisiri</td>\n",
              "      <td>['https://twitter.com/agadmator/status/1617155...</td>\n",
              "      <td>['https://t.co/ENTSzi2AQ9']</td>\n",
              "      <td>0</td>\n",
              "      <td>0</td>\n",
              "      <td>2</td>\n",
              "      <td>0</td>\n",
              "      <td>1617156332297250048</td>\n",
              "      <td>en</td>\n",
              "      <td>&lt;a href=\"http://twitter.com/download/android\" ...</td>\n",
              "      <td>Unknown</td>\n",
              "      <td>https://twitter.com/agadmator/status/161715501...</td>\n",
              "      <td>Unknown</td>\n",
              "      <td>None</td>\n",
              "      <td>0</td>\n",
              "    </tr>\n",
              "    <tr>\n",
              "      <th>4</th>\n",
              "      <td>2023-01-22 13:44:52+00:00</td>\n",
              "      <td>1617156345064570112</td>\n",
              "      <td>Profilinde vatan, TÃ¼rkiye falan yazan bireyle...</td>\n",
              "      <td>0xGenetikciniz</td>\n",
              "      <td>https://twitter.com/0xGenetikciniz/status/1617...</td>\n",
              "      <td>https://twitter.com/0xGenetikciniz</td>\n",
              "      <td>Unknown</td>\n",
              "      <td>Unknown</td>\n",
              "      <td>0</td>\n",
              "      <td>0</td>\n",
              "      <td>4</td>\n",
              "      <td>0</td>\n",
              "      <td>1617156345064570112</td>\n",
              "      <td>tr</td>\n",
              "      <td>&lt;a href=\"http://twitter.com/download/iphone\" r...</td>\n",
              "      <td>Unknown</td>\n",
              "      <td>Unknown</td>\n",
              "      <td>Unknown</td>\n",
              "      <td>None</td>\n",
              "      <td>0</td>\n",
              "    </tr>\n",
              "  </tbody>\n",
              "</table>\n",
              "</div>\n",
              "      <button class=\"colab-df-convert\" onclick=\"convertToInteractive('df-1c67821d-e8c3-462d-ac89-21c22779db0c')\"\n",
              "              title=\"Convert this dataframe to an interactive table.\"\n",
              "              style=\"display:none;\">\n",
              "        \n",
              "  <svg xmlns=\"http://www.w3.org/2000/svg\" height=\"24px\"viewBox=\"0 0 24 24\"\n",
              "       width=\"24px\">\n",
              "    <path d=\"M0 0h24v24H0V0z\" fill=\"none\"/>\n",
              "    <path d=\"M18.56 5.44l.94 2.06.94-2.06 2.06-.94-2.06-.94-.94-2.06-.94 2.06-2.06.94zm-11 1L8.5 8.5l.94-2.06 2.06-.94-2.06-.94L8.5 2.5l-.94 2.06-2.06.94zm10 10l.94 2.06.94-2.06 2.06-.94-2.06-.94-.94-2.06-.94 2.06-2.06.94z\"/><path d=\"M17.41 7.96l-1.37-1.37c-.4-.4-.92-.59-1.43-.59-.52 0-1.04.2-1.43.59L10.3 9.45l-7.72 7.72c-.78.78-.78 2.05 0 2.83L4 21.41c.39.39.9.59 1.41.59.51 0 1.02-.2 1.41-.59l7.78-7.78 2.81-2.81c.8-.78.8-2.07 0-2.86zM5.41 20L4 18.59l7.72-7.72 1.47 1.35L5.41 20z\"/>\n",
              "  </svg>\n",
              "      </button>\n",
              "      \n",
              "  <style>\n",
              "    .colab-df-container {\n",
              "      display:flex;\n",
              "      flex-wrap:wrap;\n",
              "      gap: 12px;\n",
              "    }\n",
              "\n",
              "    .colab-df-convert {\n",
              "      background-color: #E8F0FE;\n",
              "      border: none;\n",
              "      border-radius: 50%;\n",
              "      cursor: pointer;\n",
              "      display: none;\n",
              "      fill: #1967D2;\n",
              "      height: 32px;\n",
              "      padding: 0 0 0 0;\n",
              "      width: 32px;\n",
              "    }\n",
              "\n",
              "    .colab-df-convert:hover {\n",
              "      background-color: #E2EBFA;\n",
              "      box-shadow: 0px 1px 2px rgba(60, 64, 67, 0.3), 0px 1px 3px 1px rgba(60, 64, 67, 0.15);\n",
              "      fill: #174EA6;\n",
              "    }\n",
              "\n",
              "    [theme=dark] .colab-df-convert {\n",
              "      background-color: #3B4455;\n",
              "      fill: #D2E3FC;\n",
              "    }\n",
              "\n",
              "    [theme=dark] .colab-df-convert:hover {\n",
              "      background-color: #434B5C;\n",
              "      box-shadow: 0px 1px 3px 1px rgba(0, 0, 0, 0.15);\n",
              "      filter: drop-shadow(0px 1px 2px rgba(0, 0, 0, 0.3));\n",
              "      fill: #FFFFFF;\n",
              "    }\n",
              "  </style>\n",
              "\n",
              "      <script>\n",
              "        const buttonEl =\n",
              "          document.querySelector('#df-1c67821d-e8c3-462d-ac89-21c22779db0c button.colab-df-convert');\n",
              "        buttonEl.style.display =\n",
              "          google.colab.kernel.accessAllowed ? 'block' : 'none';\n",
              "\n",
              "        async function convertToInteractive(key) {\n",
              "          const element = document.querySelector('#df-1c67821d-e8c3-462d-ac89-21c22779db0c');\n",
              "          const dataTable =\n",
              "            await google.colab.kernel.invokeFunction('convertToInteractive',\n",
              "                                                     [key], {});\n",
              "          if (!dataTable) return;\n",
              "\n",
              "          const docLinkHtml = 'Like what you see? Visit the ' +\n",
              "            '<a target=\"_blank\" href=https://colab.research.google.com/notebooks/data_table.ipynb>data table notebook</a>'\n",
              "            + ' to learn more about interactive tables.';\n",
              "          element.innerHTML = '';\n",
              "          dataTable['output_type'] = 'display_data';\n",
              "          await google.colab.output.renderOutput(dataTable, element);\n",
              "          const docLink = document.createElement('div');\n",
              "          docLink.innerHTML = docLinkHtml;\n",
              "          element.appendChild(docLink);\n",
              "        }\n",
              "      </script>\n",
              "    </div>\n",
              "  </div>\n",
              "  "
            ]
          },
          "metadata": {},
          "execution_count": 10
        }
      ]
    },
    {
      "cell_type": "markdown",
      "source": [
        "**I didnot do the counts because it was extra work that was slowing the system down**"
      ],
      "metadata": {
        "id": "LTFl4fUAvFsk"
      }
    },
    {
      "cell_type": "markdown",
      "source": [
        " **I realised that in the dataset the tweets were different languages too. Therefore, i decided to use only the tweet which are english in order to perform Sentiment Analysis and all the other tasks**"
      ],
      "metadata": {
        "id": "HeuNwVz1ymNZ"
      }
    },
    {
      "cell_type": "code",
      "source": [
        "# Drop duplicate rows and rows with missing values in one line\n",
        "dataset = dataset.drop_duplicates(subset='Text').dropna()\n",
        "\n",
        "\n",
        "# Fill missing values with a specific value, such as \"Unknown\"\n",
        "dataset = dataset.fillna(\"Unknown\")\n",
        "\n",
        "# Replace empty lists with None\n",
        "dataset['hashtag'] = dataset['hashtag'].apply(lambda x: None if x == '[]' else x)\n",
        "\n",
        "\n",
        "dataset.head()\n"
      ],
      "metadata": {
        "colab": {
          "base_uri": "https://localhost:8080/",
          "height": 461
        },
        "id": "Fha0SffLtDcH",
        "outputId": "d247e4bf-4fb4-4d42-892b-8a0b1b80dbbb"
      },
      "execution_count": 11,
      "outputs": [
        {
          "output_type": "execute_result",
          "data": {
            "text/plain": [
              "                     Datetime             Tweet Id  \\\n",
              "2   2023-01-22 13:44:44+00:00  1617156308926340096   \n",
              "8   2023-01-22 13:45:06+00:00  1617156404137289984   \n",
              "9   2023-01-22 13:45:07+00:00  1617156405869370112   \n",
              "11  2023-01-22 13:45:08+00:00  1617156410634010112   \n",
              "14  2023-01-22 13:45:14+00:00  1617156438706550016   \n",
              "\n",
              "                                                 Text         Username  \\\n",
              "2   Schaut Euch an, was @fobizz @DianaKnodel alles...            ciffi   \n",
              "8   I created a fictional jewelry brand using Chat...      Kosuke_dazo   \n",
              "9   It will look similar to irobot. The company wi...      EricRIngram   \n",
              "11  AI will initiate a new era of entrepreneurship...         IsEgaley   \n",
              "14  #ChatGPT wydaje na operacjÄ™ w chmurze 3 mln d...  PetrosTovmasyan   \n",
              "\n",
              "                                            Permalink  \\\n",
              "2   https://twitter.com/ciffi/status/1617156308926...   \n",
              "8   https://twitter.com/Kosuke_dazo/status/1617156...   \n",
              "9   https://twitter.com/EricRIngram/status/1617156...   \n",
              "11  https://twitter.com/IsEgaley/status/1617156410...   \n",
              "14  https://twitter.com/PetrosTovmasyan/status/161...   \n",
              "\n",
              "                                   User  \\\n",
              "2             https://twitter.com/ciffi   \n",
              "8       https://twitter.com/Kosuke_dazo   \n",
              "9       https://twitter.com/EricRIngram   \n",
              "11         https://twitter.com/IsEgaley   \n",
              "14  https://twitter.com/PetrosTovmasyan   \n",
              "\n",
              "                                             Outlinks  \\\n",
              "2   ['https://us02web.zoom.us/webinar/register/801...   \n",
              "8                   ['https://oriori.my.canva.site/']   \n",
              "9                                             Unknown   \n",
              "11  ['https://open.substack.com/pub/adseq/p/ai-wil...   \n",
              "14                                            Unknown   \n",
              "\n",
              "                                           CountLinks  ReplyCount  \\\n",
              "2   ['https://t.co/DsoeVJrPBp', 'https://t.co/HflT...           0   \n",
              "8                         ['https://t.co/gtWdNZ0laM']           0   \n",
              "9                                             Unknown           0   \n",
              "11                        ['https://t.co/yxpj9w7QcY']           0   \n",
              "14                                            Unknown           4   \n",
              "\n",
              "    RetweetCount  LikeCount  QuoteCount       ConversationId Language  \\\n",
              "2              0          4           0  1617156308926340096       de   \n",
              "8              1          2           1  1617156404137289984       en   \n",
              "9              0          0           0  1617156405869370112       en   \n",
              "11             0          0           0  1617156410634010112       en   \n",
              "14             1          5           1  1617156438706550016       pl   \n",
              "\n",
              "                                               Source  \\\n",
              "2   <a href=\"http://twitter.com/#!/download/ipad\" ...   \n",
              "8   <a href=\"http://twitter.com/download/iphone\" r...   \n",
              "9   <a href=\"http://twitter.com/download/android\" ...   \n",
              "11  <a href=\"https://mobile.twitter.com\" rel=\"nofo...   \n",
              "14  <a href=\"http://twitter.com/download/android\" ...   \n",
              "\n",
              "                                                Media  \\\n",
              "2   [Photo(previewUrl='https://pbs.twimg.com/media...   \n",
              "8   [Photo(previewUrl='https://pbs.twimg.com/media...   \n",
              "9   [Photo(previewUrl='https://pbs.twimg.com/media...   \n",
              "11                                            Unknown   \n",
              "14  [Photo(previewUrl='https://pbs.twimg.com/media...   \n",
              "\n",
              "                                          QuotedTweet  \\\n",
              "2   https://twitter.com/DianaKnodel/status/1617153...   \n",
              "8                                             Unknown   \n",
              "9                                             Unknown   \n",
              "11                                            Unknown   \n",
              "14                                            Unknown   \n",
              "\n",
              "                                       MentionedUsers  \\\n",
              "2   [User(username='fobizz', id=884708145792253952...   \n",
              "8                                             Unknown   \n",
              "9                                             Unknown   \n",
              "11                                            Unknown   \n",
              "14  [User(username='Microsoft', id=74286565, displ...   \n",
              "\n",
              "                                              hashtag  hastag_counts  \n",
              "2                                        ['#ChatGPT']              1  \n",
              "8                         ['#ChatGPT', '#midjourney']              2  \n",
              "9                                        ['#ChatGPT']              1  \n",
              "11  ['#ChatGPT', '#visionary', '#ArtificialIntelli...              4  \n",
              "14                                       ['#ChatGPT']              1  "
            ],
            "text/html": [
              "\n",
              "  <div id=\"df-371682c2-7c9e-45a4-b6e1-889896e0cd01\">\n",
              "    <div class=\"colab-df-container\">\n",
              "      <div>\n",
              "<style scoped>\n",
              "    .dataframe tbody tr th:only-of-type {\n",
              "        vertical-align: middle;\n",
              "    }\n",
              "\n",
              "    .dataframe tbody tr th {\n",
              "        vertical-align: top;\n",
              "    }\n",
              "\n",
              "    .dataframe thead th {\n",
              "        text-align: right;\n",
              "    }\n",
              "</style>\n",
              "<table border=\"1\" class=\"dataframe\">\n",
              "  <thead>\n",
              "    <tr style=\"text-align: right;\">\n",
              "      <th></th>\n",
              "      <th>Datetime</th>\n",
              "      <th>Tweet Id</th>\n",
              "      <th>Text</th>\n",
              "      <th>Username</th>\n",
              "      <th>Permalink</th>\n",
              "      <th>User</th>\n",
              "      <th>Outlinks</th>\n",
              "      <th>CountLinks</th>\n",
              "      <th>ReplyCount</th>\n",
              "      <th>RetweetCount</th>\n",
              "      <th>LikeCount</th>\n",
              "      <th>QuoteCount</th>\n",
              "      <th>ConversationId</th>\n",
              "      <th>Language</th>\n",
              "      <th>Source</th>\n",
              "      <th>Media</th>\n",
              "      <th>QuotedTweet</th>\n",
              "      <th>MentionedUsers</th>\n",
              "      <th>hashtag</th>\n",
              "      <th>hastag_counts</th>\n",
              "    </tr>\n",
              "  </thead>\n",
              "  <tbody>\n",
              "    <tr>\n",
              "      <th>2</th>\n",
              "      <td>2023-01-22 13:44:44+00:00</td>\n",
              "      <td>1617156308926340096</td>\n",
              "      <td>Schaut Euch an, was @fobizz @DianaKnodel alles...</td>\n",
              "      <td>ciffi</td>\n",
              "      <td>https://twitter.com/ciffi/status/1617156308926...</td>\n",
              "      <td>https://twitter.com/ciffi</td>\n",
              "      <td>['https://us02web.zoom.us/webinar/register/801...</td>\n",
              "      <td>['https://t.co/DsoeVJrPBp', 'https://t.co/HflT...</td>\n",
              "      <td>0</td>\n",
              "      <td>0</td>\n",
              "      <td>4</td>\n",
              "      <td>0</td>\n",
              "      <td>1617156308926340096</td>\n",
              "      <td>de</td>\n",
              "      <td>&lt;a href=\"http://twitter.com/#!/download/ipad\" ...</td>\n",
              "      <td>[Photo(previewUrl='https://pbs.twimg.com/media...</td>\n",
              "      <td>https://twitter.com/DianaKnodel/status/1617153...</td>\n",
              "      <td>[User(username='fobizz', id=884708145792253952...</td>\n",
              "      <td>['#ChatGPT']</td>\n",
              "      <td>1</td>\n",
              "    </tr>\n",
              "    <tr>\n",
              "      <th>8</th>\n",
              "      <td>2023-01-22 13:45:06+00:00</td>\n",
              "      <td>1617156404137289984</td>\n",
              "      <td>I created a fictional jewelry brand using Chat...</td>\n",
              "      <td>Kosuke_dazo</td>\n",
              "      <td>https://twitter.com/Kosuke_dazo/status/1617156...</td>\n",
              "      <td>https://twitter.com/Kosuke_dazo</td>\n",
              "      <td>['https://oriori.my.canva.site/']</td>\n",
              "      <td>['https://t.co/gtWdNZ0laM']</td>\n",
              "      <td>0</td>\n",
              "      <td>1</td>\n",
              "      <td>2</td>\n",
              "      <td>1</td>\n",
              "      <td>1617156404137289984</td>\n",
              "      <td>en</td>\n",
              "      <td>&lt;a href=\"http://twitter.com/download/iphone\" r...</td>\n",
              "      <td>[Photo(previewUrl='https://pbs.twimg.com/media...</td>\n",
              "      <td>Unknown</td>\n",
              "      <td>Unknown</td>\n",
              "      <td>['#ChatGPT', '#midjourney']</td>\n",
              "      <td>2</td>\n",
              "    </tr>\n",
              "    <tr>\n",
              "      <th>9</th>\n",
              "      <td>2023-01-22 13:45:07+00:00</td>\n",
              "      <td>1617156405869370112</td>\n",
              "      <td>It will look similar to irobot. The company wi...</td>\n",
              "      <td>EricRIngram</td>\n",
              "      <td>https://twitter.com/EricRIngram/status/1617156...</td>\n",
              "      <td>https://twitter.com/EricRIngram</td>\n",
              "      <td>Unknown</td>\n",
              "      <td>Unknown</td>\n",
              "      <td>0</td>\n",
              "      <td>0</td>\n",
              "      <td>0</td>\n",
              "      <td>0</td>\n",
              "      <td>1617156405869370112</td>\n",
              "      <td>en</td>\n",
              "      <td>&lt;a href=\"http://twitter.com/download/android\" ...</td>\n",
              "      <td>[Photo(previewUrl='https://pbs.twimg.com/media...</td>\n",
              "      <td>Unknown</td>\n",
              "      <td>Unknown</td>\n",
              "      <td>['#ChatGPT']</td>\n",
              "      <td>1</td>\n",
              "    </tr>\n",
              "    <tr>\n",
              "      <th>11</th>\n",
              "      <td>2023-01-22 13:45:08+00:00</td>\n",
              "      <td>1617156410634010112</td>\n",
              "      <td>AI will initiate a new era of entrepreneurship...</td>\n",
              "      <td>IsEgaley</td>\n",
              "      <td>https://twitter.com/IsEgaley/status/1617156410...</td>\n",
              "      <td>https://twitter.com/IsEgaley</td>\n",
              "      <td>['https://open.substack.com/pub/adseq/p/ai-wil...</td>\n",
              "      <td>['https://t.co/yxpj9w7QcY']</td>\n",
              "      <td>0</td>\n",
              "      <td>0</td>\n",
              "      <td>0</td>\n",
              "      <td>0</td>\n",
              "      <td>1617156410634010112</td>\n",
              "      <td>en</td>\n",
              "      <td>&lt;a href=\"https://mobile.twitter.com\" rel=\"nofo...</td>\n",
              "      <td>Unknown</td>\n",
              "      <td>Unknown</td>\n",
              "      <td>Unknown</td>\n",
              "      <td>['#ChatGPT', '#visionary', '#ArtificialIntelli...</td>\n",
              "      <td>4</td>\n",
              "    </tr>\n",
              "    <tr>\n",
              "      <th>14</th>\n",
              "      <td>2023-01-22 13:45:14+00:00</td>\n",
              "      <td>1617156438706550016</td>\n",
              "      <td>#ChatGPT wydaje na operacjÄ™ w chmurze 3 mln d...</td>\n",
              "      <td>PetrosTovmasyan</td>\n",
              "      <td>https://twitter.com/PetrosTovmasyan/status/161...</td>\n",
              "      <td>https://twitter.com/PetrosTovmasyan</td>\n",
              "      <td>Unknown</td>\n",
              "      <td>Unknown</td>\n",
              "      <td>4</td>\n",
              "      <td>1</td>\n",
              "      <td>5</td>\n",
              "      <td>1</td>\n",
              "      <td>1617156438706550016</td>\n",
              "      <td>pl</td>\n",
              "      <td>&lt;a href=\"http://twitter.com/download/android\" ...</td>\n",
              "      <td>[Photo(previewUrl='https://pbs.twimg.com/media...</td>\n",
              "      <td>Unknown</td>\n",
              "      <td>[User(username='Microsoft', id=74286565, displ...</td>\n",
              "      <td>['#ChatGPT']</td>\n",
              "      <td>1</td>\n",
              "    </tr>\n",
              "  </tbody>\n",
              "</table>\n",
              "</div>\n",
              "      <button class=\"colab-df-convert\" onclick=\"convertToInteractive('df-371682c2-7c9e-45a4-b6e1-889896e0cd01')\"\n",
              "              title=\"Convert this dataframe to an interactive table.\"\n",
              "              style=\"display:none;\">\n",
              "        \n",
              "  <svg xmlns=\"http://www.w3.org/2000/svg\" height=\"24px\"viewBox=\"0 0 24 24\"\n",
              "       width=\"24px\">\n",
              "    <path d=\"M0 0h24v24H0V0z\" fill=\"none\"/>\n",
              "    <path d=\"M18.56 5.44l.94 2.06.94-2.06 2.06-.94-2.06-.94-.94-2.06-.94 2.06-2.06.94zm-11 1L8.5 8.5l.94-2.06 2.06-.94-2.06-.94L8.5 2.5l-.94 2.06-2.06.94zm10 10l.94 2.06.94-2.06 2.06-.94-2.06-.94-.94-2.06-.94 2.06-2.06.94z\"/><path d=\"M17.41 7.96l-1.37-1.37c-.4-.4-.92-.59-1.43-.59-.52 0-1.04.2-1.43.59L10.3 9.45l-7.72 7.72c-.78.78-.78 2.05 0 2.83L4 21.41c.39.39.9.59 1.41.59.51 0 1.02-.2 1.41-.59l7.78-7.78 2.81-2.81c.8-.78.8-2.07 0-2.86zM5.41 20L4 18.59l7.72-7.72 1.47 1.35L5.41 20z\"/>\n",
              "  </svg>\n",
              "      </button>\n",
              "      \n",
              "  <style>\n",
              "    .colab-df-container {\n",
              "      display:flex;\n",
              "      flex-wrap:wrap;\n",
              "      gap: 12px;\n",
              "    }\n",
              "\n",
              "    .colab-df-convert {\n",
              "      background-color: #E8F0FE;\n",
              "      border: none;\n",
              "      border-radius: 50%;\n",
              "      cursor: pointer;\n",
              "      display: none;\n",
              "      fill: #1967D2;\n",
              "      height: 32px;\n",
              "      padding: 0 0 0 0;\n",
              "      width: 32px;\n",
              "    }\n",
              "\n",
              "    .colab-df-convert:hover {\n",
              "      background-color: #E2EBFA;\n",
              "      box-shadow: 0px 1px 2px rgba(60, 64, 67, 0.3), 0px 1px 3px 1px rgba(60, 64, 67, 0.15);\n",
              "      fill: #174EA6;\n",
              "    }\n",
              "\n",
              "    [theme=dark] .colab-df-convert {\n",
              "      background-color: #3B4455;\n",
              "      fill: #D2E3FC;\n",
              "    }\n",
              "\n",
              "    [theme=dark] .colab-df-convert:hover {\n",
              "      background-color: #434B5C;\n",
              "      box-shadow: 0px 1px 3px 1px rgba(0, 0, 0, 0.15);\n",
              "      filter: drop-shadow(0px 1px 2px rgba(0, 0, 0, 0.3));\n",
              "      fill: #FFFFFF;\n",
              "    }\n",
              "  </style>\n",
              "\n",
              "      <script>\n",
              "        const buttonEl =\n",
              "          document.querySelector('#df-371682c2-7c9e-45a4-b6e1-889896e0cd01 button.colab-df-convert');\n",
              "        buttonEl.style.display =\n",
              "          google.colab.kernel.accessAllowed ? 'block' : 'none';\n",
              "\n",
              "        async function convertToInteractive(key) {\n",
              "          const element = document.querySelector('#df-371682c2-7c9e-45a4-b6e1-889896e0cd01');\n",
              "          const dataTable =\n",
              "            await google.colab.kernel.invokeFunction('convertToInteractive',\n",
              "                                                     [key], {});\n",
              "          if (!dataTable) return;\n",
              "\n",
              "          const docLinkHtml = 'Like what you see? Visit the ' +\n",
              "            '<a target=\"_blank\" href=https://colab.research.google.com/notebooks/data_table.ipynb>data table notebook</a>'\n",
              "            + ' to learn more about interactive tables.';\n",
              "          element.innerHTML = '';\n",
              "          dataTable['output_type'] = 'display_data';\n",
              "          await google.colab.output.renderOutput(dataTable, element);\n",
              "          const docLink = document.createElement('div');\n",
              "          docLink.innerHTML = docLinkHtml;\n",
              "          element.appendChild(docLink);\n",
              "        }\n",
              "      </script>\n",
              "    </div>\n",
              "  </div>\n",
              "  "
            ]
          },
          "metadata": {},
          "execution_count": 11
        }
      ]
    },
    {
      "cell_type": "code",
      "source": [
        "from sklearn.model_selection import train_test_split\n",
        "from sklearn.feature_extraction.text import CountVectorizer\n",
        "from sklearn.feature_extraction.text import TfidfVectorizer"
      ],
      "metadata": {
        "id": "GUcR9kPE0WXd"
      },
      "execution_count": 12,
      "outputs": []
    },
    {
      "cell_type": "markdown",
      "source": [
        "**STEP 3 FROM GUIDE** "
      ],
      "metadata": {
        "id": "ELIf9b010xkO"
      }
    },
    {
      "cell_type": "code",
      "source": [
        "x = dataset['Text']\n",
        "y = dataset['Language']\n",
        "x_train, x_test, y_train, y_test = train_test_split(x, y, test_size=0.2, random_state=42)"
      ],
      "metadata": {
        "id": "F3oplTwVtDeF"
      },
      "execution_count": 13,
      "outputs": []
    },
    {
      "cell_type": "markdown",
      "source": [
        "**STEP 4 FROM GUIDE: Vectorising the Texts using Bag of Words and TF-IDF**"
      ],
      "metadata": {
        "id": "JAzTIzrQ02_3"
      }
    },
    {
      "cell_type": "code",
      "source": [
        "vectorizer = CountVectorizer(stop_words='english')\n",
        "x_train_bow = vectorizer.fit_transform(x_train)\n",
        "x_test_bow = vectorizer.transform(x_test)\n"
      ],
      "metadata": {
        "id": "zEjx4r4jzSUi"
      },
      "execution_count": 14,
      "outputs": []
    },
    {
      "cell_type": "code",
      "source": [
        "tfidf_vectorizer = TfidfVectorizer(stop_words='english')\n",
        "X_train_tfidf = tfidf_vectorizer.fit_transform(x_train)\n",
        "X_test_tfidf = tfidf_vectorizer.transform(x_test)\n"
      ],
      "metadata": {
        "id": "IbSv8NOqzSW5"
      },
      "execution_count": 15,
      "outputs": []
    },
    {
      "cell_type": "markdown",
      "source": [
        "# **TASK 1: SENTIMENTAL ANALYSIS WITH VISUALISATION**"
      ],
      "metadata": {
        "id": "-5-0WGCp1LTR"
      }
    },
    {
      "cell_type": "code",
      "source": [
        "def preprocessing_text(text):\n",
        "    if isinstance(text, str):  # Check if text is a string\n",
        "        # Remove URLs\n",
        "        text = re.sub(r\"http\\S+|www\\S+|https\\S+\", \"\", text)\n",
        "\n",
        "        # Remove usernames starting with @\n",
        "        text = re.sub(r\"@[^\\s]+\", \"\", text)\n",
        "\n",
        "        # Remove non-alphanumeric characters and convert to lowercase\n",
        "        text = re.sub(r\"[^a-zA-Z0-9]\", \" \", text.lower())\n",
        "\n",
        "        # Tokenize the text\n",
        "        tokens = word_tokenize(text)\n",
        "\n",
        "        # Remove stopwords\n",
        "        stop_words = set(stopwords.words(\"english\"))\n",
        "        filtered_tokens = [token for token in tokens if token not in stop_words]\n",
        "\n",
        "        # Join the tokens back into a single string\n",
        "        processed_text = \" \".join(filtered_tokens)\n",
        "\n",
        "        return processed_text\n",
        "    else:\n",
        "        return \"\"  # Return an empty string for non-string inputs"
      ],
      "metadata": {
        "id": "euwLUa-X3oVS"
      },
      "execution_count": 16,
      "outputs": []
    },
    {
      "cell_type": "code",
      "source": [
        "# Apply preprocessing to the \"Text\" column\n",
        "dataset[\"ProcessedText\"] = dataset[\"Text\"].apply(preprocessing_text)\n",
        "print(dataset[\"ProcessedText\"])"
      ],
      "metadata": {
        "colab": {
          "base_uri": "https://localhost:8080/"
        },
        "id": "9tOAnix-3oXu",
        "outputId": "43e0c5f4-9394-4f6f-b7e4-768d9bf11de2"
      },
      "execution_count": 17,
      "outputs": [
        {
          "output_type": "stream",
          "name": "stdout",
          "text": [
            "2        schaut euch alles auf die piste bringt um euch...\n",
            "8        created fictional jewelry brand using chatgpt ...\n",
            "9        look similar irobot company install mini fridg...\n",
            "11       ai initiate new era entrepreneurship thesis ch...\n",
            "14       chatgpt wydaje na operacj w chmurze 3 mln dola...\n",
            "                               ...                        \n",
            "49992            think chatgpt taking piss lastweektonight\n",
            "49993    digital marketers adopt new skills artificial ...\n",
            "49995    remember lot early years cause many people usi...\n",
            "49996    chatgpt ist ein chatbot der durch k nstliche i...\n",
            "49998    5 minuti di chatgpt e ho capito che apprende m...\n",
            "Name: ProcessedText, Length: 13526, dtype: object\n"
          ]
        }
      ]
    },
    {
      "cell_type": "code",
      "source": [
        "sentiment_analysis = SentimentIntensityAnalyzer()\n",
        "\n",
        "#the conditions for Labelling the preprocessed texts\n",
        "#Positive: 1, Neutral: 0, Negative: -1\n",
        "def sentiment_type(tweet):\n",
        "    try:\n",
        "        if sentiment_analysis.polarity_scores(tweet)['compound'] > 0:\n",
        "            return \"Positive\"\n",
        "        elif sentiment_analysis.polarity_scores(tweet)['compound'] < 0:\n",
        "            return \"Negative\"\n",
        "        else:\n",
        "            return \"Neutral\"\n",
        "    except:\n",
        "        return \"Neutral\""
      ],
      "metadata": {
        "id": "GJqQlwKgzSZW"
      },
      "execution_count": 18,
      "outputs": []
    },
    {
      "cell_type": "code",
      "source": [
        "#Adding the new sentimented texts into the dataset with their labels\n",
        "dataset['Sentimented_Texts'] = dataset['Text'].apply(lambda x: sentiment_type(x))"
      ],
      "metadata": {
        "id": "276g4gA_3U02"
      },
      "execution_count": 19,
      "outputs": []
    },
    {
      "cell_type": "code",
      "source": [
        "dataset['Sentimented_Texts'].value_counts()"
      ],
      "metadata": {
        "colab": {
          "base_uri": "https://localhost:8080/"
        },
        "id": "xC49T66K3U7Q",
        "outputId": "8a36ae83-324e-4730-88a0-150b69275546"
      },
      "execution_count": 20,
      "outputs": [
        {
          "output_type": "execute_result",
          "data": {
            "text/plain": [
              "Neutral     6744\n",
              "Positive    4849\n",
              "Negative    1933\n",
              "Name: Sentimented_Texts, dtype: int64"
            ]
          },
          "metadata": {},
          "execution_count": 20
        }
      ]
    },
    {
      "cell_type": "code",
      "source": [
        "dataset.head()"
      ],
      "metadata": {
        "colab": {
          "base_uri": "https://localhost:8080/",
          "height": 542
        },
        "id": "VrPGYGxP3U-J",
        "outputId": "65a84b2f-e836-48e1-b860-dc25d66ff676"
      },
      "execution_count": 21,
      "outputs": [
        {
          "output_type": "execute_result",
          "data": {
            "text/plain": [
              "                     Datetime             Tweet Id  \\\n",
              "2   2023-01-22 13:44:44+00:00  1617156308926340096   \n",
              "8   2023-01-22 13:45:06+00:00  1617156404137289984   \n",
              "9   2023-01-22 13:45:07+00:00  1617156405869370112   \n",
              "11  2023-01-22 13:45:08+00:00  1617156410634010112   \n",
              "14  2023-01-22 13:45:14+00:00  1617156438706550016   \n",
              "\n",
              "                                                 Text         Username  \\\n",
              "2   Schaut Euch an, was @fobizz @DianaKnodel alles...            ciffi   \n",
              "8   I created a fictional jewelry brand using Chat...      Kosuke_dazo   \n",
              "9   It will look similar to irobot. The company wi...      EricRIngram   \n",
              "11  AI will initiate a new era of entrepreneurship...         IsEgaley   \n",
              "14  #ChatGPT wydaje na operacjÄ™ w chmurze 3 mln d...  PetrosTovmasyan   \n",
              "\n",
              "                                            Permalink  \\\n",
              "2   https://twitter.com/ciffi/status/1617156308926...   \n",
              "8   https://twitter.com/Kosuke_dazo/status/1617156...   \n",
              "9   https://twitter.com/EricRIngram/status/1617156...   \n",
              "11  https://twitter.com/IsEgaley/status/1617156410...   \n",
              "14  https://twitter.com/PetrosTovmasyan/status/161...   \n",
              "\n",
              "                                   User  \\\n",
              "2             https://twitter.com/ciffi   \n",
              "8       https://twitter.com/Kosuke_dazo   \n",
              "9       https://twitter.com/EricRIngram   \n",
              "11         https://twitter.com/IsEgaley   \n",
              "14  https://twitter.com/PetrosTovmasyan   \n",
              "\n",
              "                                             Outlinks  \\\n",
              "2   ['https://us02web.zoom.us/webinar/register/801...   \n",
              "8                   ['https://oriori.my.canva.site/']   \n",
              "9                                             Unknown   \n",
              "11  ['https://open.substack.com/pub/adseq/p/ai-wil...   \n",
              "14                                            Unknown   \n",
              "\n",
              "                                           CountLinks  ReplyCount  \\\n",
              "2   ['https://t.co/DsoeVJrPBp', 'https://t.co/HflT...           0   \n",
              "8                         ['https://t.co/gtWdNZ0laM']           0   \n",
              "9                                             Unknown           0   \n",
              "11                        ['https://t.co/yxpj9w7QcY']           0   \n",
              "14                                            Unknown           4   \n",
              "\n",
              "    RetweetCount  ...       ConversationId  Language  \\\n",
              "2              0  ...  1617156308926340096        de   \n",
              "8              1  ...  1617156404137289984        en   \n",
              "9              0  ...  1617156405869370112        en   \n",
              "11             0  ...  1617156410634010112        en   \n",
              "14             1  ...  1617156438706550016        pl   \n",
              "\n",
              "                                               Source  \\\n",
              "2   <a href=\"http://twitter.com/#!/download/ipad\" ...   \n",
              "8   <a href=\"http://twitter.com/download/iphone\" r...   \n",
              "9   <a href=\"http://twitter.com/download/android\" ...   \n",
              "11  <a href=\"https://mobile.twitter.com\" rel=\"nofo...   \n",
              "14  <a href=\"http://twitter.com/download/android\" ...   \n",
              "\n",
              "                                                Media  \\\n",
              "2   [Photo(previewUrl='https://pbs.twimg.com/media...   \n",
              "8   [Photo(previewUrl='https://pbs.twimg.com/media...   \n",
              "9   [Photo(previewUrl='https://pbs.twimg.com/media...   \n",
              "11                                            Unknown   \n",
              "14  [Photo(previewUrl='https://pbs.twimg.com/media...   \n",
              "\n",
              "                                          QuotedTweet  \\\n",
              "2   https://twitter.com/DianaKnodel/status/1617153...   \n",
              "8                                             Unknown   \n",
              "9                                             Unknown   \n",
              "11                                            Unknown   \n",
              "14                                            Unknown   \n",
              "\n",
              "                                       MentionedUsers  \\\n",
              "2   [User(username='fobizz', id=884708145792253952...   \n",
              "8                                             Unknown   \n",
              "9                                             Unknown   \n",
              "11                                            Unknown   \n",
              "14  [User(username='Microsoft', id=74286565, displ...   \n",
              "\n",
              "                                              hashtag hastag_counts  \\\n",
              "2                                        ['#ChatGPT']             1   \n",
              "8                         ['#ChatGPT', '#midjourney']             2   \n",
              "9                                        ['#ChatGPT']             1   \n",
              "11  ['#ChatGPT', '#visionary', '#ArtificialIntelli...             4   \n",
              "14                                       ['#ChatGPT']             1   \n",
              "\n",
              "                                        ProcessedText  Sentimented_Texts  \n",
              "2   schaut euch alles auf die piste bringt um euch...           Negative  \n",
              "8   created fictional jewelry brand using chatgpt ...           Positive  \n",
              "9   look similar irobot company install mini fridg...           Positive  \n",
              "11  ai initiate new era entrepreneurship thesis ch...            Neutral  \n",
              "14  chatgpt wydaje na operacj w chmurze 3 mln dola...            Neutral  \n",
              "\n",
              "[5 rows x 22 columns]"
            ],
            "text/html": [
              "\n",
              "  <div id=\"df-d4b1b812-999c-4b1b-b6f7-262a4cff3107\">\n",
              "    <div class=\"colab-df-container\">\n",
              "      <div>\n",
              "<style scoped>\n",
              "    .dataframe tbody tr th:only-of-type {\n",
              "        vertical-align: middle;\n",
              "    }\n",
              "\n",
              "    .dataframe tbody tr th {\n",
              "        vertical-align: top;\n",
              "    }\n",
              "\n",
              "    .dataframe thead th {\n",
              "        text-align: right;\n",
              "    }\n",
              "</style>\n",
              "<table border=\"1\" class=\"dataframe\">\n",
              "  <thead>\n",
              "    <tr style=\"text-align: right;\">\n",
              "      <th></th>\n",
              "      <th>Datetime</th>\n",
              "      <th>Tweet Id</th>\n",
              "      <th>Text</th>\n",
              "      <th>Username</th>\n",
              "      <th>Permalink</th>\n",
              "      <th>User</th>\n",
              "      <th>Outlinks</th>\n",
              "      <th>CountLinks</th>\n",
              "      <th>ReplyCount</th>\n",
              "      <th>RetweetCount</th>\n",
              "      <th>...</th>\n",
              "      <th>ConversationId</th>\n",
              "      <th>Language</th>\n",
              "      <th>Source</th>\n",
              "      <th>Media</th>\n",
              "      <th>QuotedTweet</th>\n",
              "      <th>MentionedUsers</th>\n",
              "      <th>hashtag</th>\n",
              "      <th>hastag_counts</th>\n",
              "      <th>ProcessedText</th>\n",
              "      <th>Sentimented_Texts</th>\n",
              "    </tr>\n",
              "  </thead>\n",
              "  <tbody>\n",
              "    <tr>\n",
              "      <th>2</th>\n",
              "      <td>2023-01-22 13:44:44+00:00</td>\n",
              "      <td>1617156308926340096</td>\n",
              "      <td>Schaut Euch an, was @fobizz @DianaKnodel alles...</td>\n",
              "      <td>ciffi</td>\n",
              "      <td>https://twitter.com/ciffi/status/1617156308926...</td>\n",
              "      <td>https://twitter.com/ciffi</td>\n",
              "      <td>['https://us02web.zoom.us/webinar/register/801...</td>\n",
              "      <td>['https://t.co/DsoeVJrPBp', 'https://t.co/HflT...</td>\n",
              "      <td>0</td>\n",
              "      <td>0</td>\n",
              "      <td>...</td>\n",
              "      <td>1617156308926340096</td>\n",
              "      <td>de</td>\n",
              "      <td>&lt;a href=\"http://twitter.com/#!/download/ipad\" ...</td>\n",
              "      <td>[Photo(previewUrl='https://pbs.twimg.com/media...</td>\n",
              "      <td>https://twitter.com/DianaKnodel/status/1617153...</td>\n",
              "      <td>[User(username='fobizz', id=884708145792253952...</td>\n",
              "      <td>['#ChatGPT']</td>\n",
              "      <td>1</td>\n",
              "      <td>schaut euch alles auf die piste bringt um euch...</td>\n",
              "      <td>Negative</td>\n",
              "    </tr>\n",
              "    <tr>\n",
              "      <th>8</th>\n",
              "      <td>2023-01-22 13:45:06+00:00</td>\n",
              "      <td>1617156404137289984</td>\n",
              "      <td>I created a fictional jewelry brand using Chat...</td>\n",
              "      <td>Kosuke_dazo</td>\n",
              "      <td>https://twitter.com/Kosuke_dazo/status/1617156...</td>\n",
              "      <td>https://twitter.com/Kosuke_dazo</td>\n",
              "      <td>['https://oriori.my.canva.site/']</td>\n",
              "      <td>['https://t.co/gtWdNZ0laM']</td>\n",
              "      <td>0</td>\n",
              "      <td>1</td>\n",
              "      <td>...</td>\n",
              "      <td>1617156404137289984</td>\n",
              "      <td>en</td>\n",
              "      <td>&lt;a href=\"http://twitter.com/download/iphone\" r...</td>\n",
              "      <td>[Photo(previewUrl='https://pbs.twimg.com/media...</td>\n",
              "      <td>Unknown</td>\n",
              "      <td>Unknown</td>\n",
              "      <td>['#ChatGPT', '#midjourney']</td>\n",
              "      <td>2</td>\n",
              "      <td>created fictional jewelry brand using chatgpt ...</td>\n",
              "      <td>Positive</td>\n",
              "    </tr>\n",
              "    <tr>\n",
              "      <th>9</th>\n",
              "      <td>2023-01-22 13:45:07+00:00</td>\n",
              "      <td>1617156405869370112</td>\n",
              "      <td>It will look similar to irobot. The company wi...</td>\n",
              "      <td>EricRIngram</td>\n",
              "      <td>https://twitter.com/EricRIngram/status/1617156...</td>\n",
              "      <td>https://twitter.com/EricRIngram</td>\n",
              "      <td>Unknown</td>\n",
              "      <td>Unknown</td>\n",
              "      <td>0</td>\n",
              "      <td>0</td>\n",
              "      <td>...</td>\n",
              "      <td>1617156405869370112</td>\n",
              "      <td>en</td>\n",
              "      <td>&lt;a href=\"http://twitter.com/download/android\" ...</td>\n",
              "      <td>[Photo(previewUrl='https://pbs.twimg.com/media...</td>\n",
              "      <td>Unknown</td>\n",
              "      <td>Unknown</td>\n",
              "      <td>['#ChatGPT']</td>\n",
              "      <td>1</td>\n",
              "      <td>look similar irobot company install mini fridg...</td>\n",
              "      <td>Positive</td>\n",
              "    </tr>\n",
              "    <tr>\n",
              "      <th>11</th>\n",
              "      <td>2023-01-22 13:45:08+00:00</td>\n",
              "      <td>1617156410634010112</td>\n",
              "      <td>AI will initiate a new era of entrepreneurship...</td>\n",
              "      <td>IsEgaley</td>\n",
              "      <td>https://twitter.com/IsEgaley/status/1617156410...</td>\n",
              "      <td>https://twitter.com/IsEgaley</td>\n",
              "      <td>['https://open.substack.com/pub/adseq/p/ai-wil...</td>\n",
              "      <td>['https://t.co/yxpj9w7QcY']</td>\n",
              "      <td>0</td>\n",
              "      <td>0</td>\n",
              "      <td>...</td>\n",
              "      <td>1617156410634010112</td>\n",
              "      <td>en</td>\n",
              "      <td>&lt;a href=\"https://mobile.twitter.com\" rel=\"nofo...</td>\n",
              "      <td>Unknown</td>\n",
              "      <td>Unknown</td>\n",
              "      <td>Unknown</td>\n",
              "      <td>['#ChatGPT', '#visionary', '#ArtificialIntelli...</td>\n",
              "      <td>4</td>\n",
              "      <td>ai initiate new era entrepreneurship thesis ch...</td>\n",
              "      <td>Neutral</td>\n",
              "    </tr>\n",
              "    <tr>\n",
              "      <th>14</th>\n",
              "      <td>2023-01-22 13:45:14+00:00</td>\n",
              "      <td>1617156438706550016</td>\n",
              "      <td>#ChatGPT wydaje na operacjÄ™ w chmurze 3 mln d...</td>\n",
              "      <td>PetrosTovmasyan</td>\n",
              "      <td>https://twitter.com/PetrosTovmasyan/status/161...</td>\n",
              "      <td>https://twitter.com/PetrosTovmasyan</td>\n",
              "      <td>Unknown</td>\n",
              "      <td>Unknown</td>\n",
              "      <td>4</td>\n",
              "      <td>1</td>\n",
              "      <td>...</td>\n",
              "      <td>1617156438706550016</td>\n",
              "      <td>pl</td>\n",
              "      <td>&lt;a href=\"http://twitter.com/download/android\" ...</td>\n",
              "      <td>[Photo(previewUrl='https://pbs.twimg.com/media...</td>\n",
              "      <td>Unknown</td>\n",
              "      <td>[User(username='Microsoft', id=74286565, displ...</td>\n",
              "      <td>['#ChatGPT']</td>\n",
              "      <td>1</td>\n",
              "      <td>chatgpt wydaje na operacj w chmurze 3 mln dola...</td>\n",
              "      <td>Neutral</td>\n",
              "    </tr>\n",
              "  </tbody>\n",
              "</table>\n",
              "<p>5 rows × 22 columns</p>\n",
              "</div>\n",
              "      <button class=\"colab-df-convert\" onclick=\"convertToInteractive('df-d4b1b812-999c-4b1b-b6f7-262a4cff3107')\"\n",
              "              title=\"Convert this dataframe to an interactive table.\"\n",
              "              style=\"display:none;\">\n",
              "        \n",
              "  <svg xmlns=\"http://www.w3.org/2000/svg\" height=\"24px\"viewBox=\"0 0 24 24\"\n",
              "       width=\"24px\">\n",
              "    <path d=\"M0 0h24v24H0V0z\" fill=\"none\"/>\n",
              "    <path d=\"M18.56 5.44l.94 2.06.94-2.06 2.06-.94-2.06-.94-.94-2.06-.94 2.06-2.06.94zm-11 1L8.5 8.5l.94-2.06 2.06-.94-2.06-.94L8.5 2.5l-.94 2.06-2.06.94zm10 10l.94 2.06.94-2.06 2.06-.94-2.06-.94-.94-2.06-.94 2.06-2.06.94z\"/><path d=\"M17.41 7.96l-1.37-1.37c-.4-.4-.92-.59-1.43-.59-.52 0-1.04.2-1.43.59L10.3 9.45l-7.72 7.72c-.78.78-.78 2.05 0 2.83L4 21.41c.39.39.9.59 1.41.59.51 0 1.02-.2 1.41-.59l7.78-7.78 2.81-2.81c.8-.78.8-2.07 0-2.86zM5.41 20L4 18.59l7.72-7.72 1.47 1.35L5.41 20z\"/>\n",
              "  </svg>\n",
              "      </button>\n",
              "      \n",
              "  <style>\n",
              "    .colab-df-container {\n",
              "      display:flex;\n",
              "      flex-wrap:wrap;\n",
              "      gap: 12px;\n",
              "    }\n",
              "\n",
              "    .colab-df-convert {\n",
              "      background-color: #E8F0FE;\n",
              "      border: none;\n",
              "      border-radius: 50%;\n",
              "      cursor: pointer;\n",
              "      display: none;\n",
              "      fill: #1967D2;\n",
              "      height: 32px;\n",
              "      padding: 0 0 0 0;\n",
              "      width: 32px;\n",
              "    }\n",
              "\n",
              "    .colab-df-convert:hover {\n",
              "      background-color: #E2EBFA;\n",
              "      box-shadow: 0px 1px 2px rgba(60, 64, 67, 0.3), 0px 1px 3px 1px rgba(60, 64, 67, 0.15);\n",
              "      fill: #174EA6;\n",
              "    }\n",
              "\n",
              "    [theme=dark] .colab-df-convert {\n",
              "      background-color: #3B4455;\n",
              "      fill: #D2E3FC;\n",
              "    }\n",
              "\n",
              "    [theme=dark] .colab-df-convert:hover {\n",
              "      background-color: #434B5C;\n",
              "      box-shadow: 0px 1px 3px 1px rgba(0, 0, 0, 0.15);\n",
              "      filter: drop-shadow(0px 1px 2px rgba(0, 0, 0, 0.3));\n",
              "      fill: #FFFFFF;\n",
              "    }\n",
              "  </style>\n",
              "\n",
              "      <script>\n",
              "        const buttonEl =\n",
              "          document.querySelector('#df-d4b1b812-999c-4b1b-b6f7-262a4cff3107 button.colab-df-convert');\n",
              "        buttonEl.style.display =\n",
              "          google.colab.kernel.accessAllowed ? 'block' : 'none';\n",
              "\n",
              "        async function convertToInteractive(key) {\n",
              "          const element = document.querySelector('#df-d4b1b812-999c-4b1b-b6f7-262a4cff3107');\n",
              "          const dataTable =\n",
              "            await google.colab.kernel.invokeFunction('convertToInteractive',\n",
              "                                                     [key], {});\n",
              "          if (!dataTable) return;\n",
              "\n",
              "          const docLinkHtml = 'Like what you see? Visit the ' +\n",
              "            '<a target=\"_blank\" href=https://colab.research.google.com/notebooks/data_table.ipynb>data table notebook</a>'\n",
              "            + ' to learn more about interactive tables.';\n",
              "          element.innerHTML = '';\n",
              "          dataTable['output_type'] = 'display_data';\n",
              "          await google.colab.output.renderOutput(dataTable, element);\n",
              "          const docLink = document.createElement('div');\n",
              "          docLink.innerHTML = docLinkHtml;\n",
              "          element.appendChild(docLink);\n",
              "        }\n",
              "      </script>\n",
              "    </div>\n",
              "  </div>\n",
              "  "
            ]
          },
          "metadata": {},
          "execution_count": 21
        }
      ]
    },
    {
      "cell_type": "code",
      "source": [
        "def plots(df, feature, title):\n",
        "    counts = df[feature].value_counts()\n",
        "    fig, ax = plt.subplots(figsize=(8, 5))\n",
        "    \n",
        "    colors = [\"yellow\", \"green\", \"red\"]\n",
        "    counts.plot(kind='bar', ax=ax, color=colors)\n",
        "    ax.set_ylabel(f'Counts: {title} sentiments', size=12)\n",
        "    ax.set_title(f\"Sentiment Analysis: {title}\", size=14)\n",
        "    plt.show()"
      ],
      "metadata": {
        "id": "8QGe4fS-5qeH"
      },
      "execution_count": 22,
      "outputs": []
    },
    {
      "cell_type": "code",
      "source": [
        "dataset['Sentimented_Texts'] = dataset['Text'].apply(lambda x: sentiment_type(x))\n",
        "plots(dataset, 'Sentimented_Texts', 'Text')"
      ],
      "metadata": {
        "colab": {
          "base_uri": "https://localhost:8080/",
          "height": 517
        },
        "id": "J7TT82Im50bH",
        "outputId": "4d07cdcb-c9c6-4df1-d2bf-7918fdc20a36"
      },
      "execution_count": 23,
      "outputs": [
        {
          "output_type": "display_data",
          "data": {
            "text/plain": [
              "<Figure size 800x500 with 1 Axes>"
            ],
            "image/png": "[encoded data removed]"
          },
          "metadata": {}
        }
      ]
    },
    {
      "cell_type": "markdown",
      "source": [
        "# **TASK 2: USER CLASSIFICATION**\n",
        "\n"
      ],
      "metadata": {
        "id": "wlgFHda-9BYw"
      }
    },
    {
      "cell_type": "code",
      "source": [
        "from sklearn.neighbors import KNeighborsClassifier\n",
        "from sklearn.metrics import accuracy_score, precision_score, recall_score, f1_score"
      ],
      "metadata": {
        "id": "A2Waec3X_Ewi"
      },
      "execution_count": 30,
      "outputs": []
    },
    {
      "cell_type": "code",
      "source": [
        "X = dataset['ProcessedText']\n",
        "y = dataset['Username']"
      ],
      "metadata": {
        "id": "98vKPrAJ9Wf3"
      },
      "execution_count": 31,
      "outputs": []
    },
    {
      "cell_type": "code",
      "source": [
        "# Splitting the dataset into training and testing sets\n",
        "X_train, X_test, y_train, y_test = train_test_split(X, y, test_size=0.2, random_state=42)"
      ],
      "metadata": {
        "id": "_WHZkvgW9WiZ"
      },
      "execution_count": 32,
      "outputs": []
    },
    {
      "cell_type": "code",
      "source": [
        "# Vectorize the text data using TF-IDF\n",
        "vectorizer = TfidfVectorizer(stop_words='english')\n",
        "X_train_tfidf = vectorizer.fit_transform(X_train)\n",
        "X_test_tfidf = vectorizer.transform(X_test)\n"
      ],
      "metadata": {
        "id": "wVrVHaXn9Wk2"
      },
      "execution_count": 33,
      "outputs": []
    },
    {
      "cell_type": "markdown",
      "source": [
        "**Applying the KNN Model to classify the tweets**"
      ],
      "metadata": {
        "id": "xi8i8hYF-0aP"
      }
    },
    {
      "cell_type": "code",
      "source": [
        "# Train the kNN model\n",
        "KNN_model = KNeighborsClassifier(n_neighbors=5)\n",
        "KNN_model.fit(X_train_tfidf, y_train)"
      ],
      "metadata": {
        "colab": {
          "base_uri": "https://localhost:8080/",
          "height": 74
        },
        "id": "F8uEkwDV9WnR",
        "outputId": "8c137ad5-2cc1-4d7f-f12e-8091712c8518"
      },
      "execution_count": 34,
      "outputs": [
        {
          "output_type": "execute_result",
          "data": {
            "text/plain": [
              "KNeighborsClassifier()"
            ],
            "text/html": [
              "<style>#sk-container-id-1 {color: black;background-color: white;}#sk-container-id-1 pre{padding: 0;}#sk-container-id-1 div.sk-toggleable {background-color: white;}#sk-container-id-1 label.sk-toggleable__label {cursor: pointer;display: block;width: 100%;margin-bottom: 0;padding: 0.3em;box-sizing: border-box;text-align: center;}#sk-container-id-1 label.sk-toggleable__label-arrow:before {content: \"▸\";float: left;margin-right: 0.25em;color: #696969;}#sk-container-id-1 label.sk-toggleable__label-arrow:hover:before {color: black;}#sk-container-id-1 div.sk-estimator:hover label.sk-toggleable__label-arrow:before {color: black;}#sk-container-id-1 div.sk-toggleable__content {max-height: 0;max-width: 0;overflow: hidden;text-align: left;background-color: #f0f8ff;}#sk-container-id-1 div.sk-toggleable__content pre {margin: 0.2em;color: black;border-radius: 0.25em;background-color: #f0f8ff;}#sk-container-id-1 input.sk-toggleable__control:checked~div.sk-toggleable__content {max-height: 200px;max-width: 100%;overflow: auto;}#sk-container-id-1 input.sk-toggleable__control:checked~label.sk-toggleable__label-arrow:before {content: \"▾\";}#sk-container-id-1 div.sk-estimator input.sk-toggleable__control:checked~label.sk-toggleable__label {background-color: #d4ebff;}#sk-container-id-1 div.sk-label input.sk-toggleable__control:checked~label.sk-toggleable__label {background-color: #d4ebff;}#sk-container-id-1 input.sk-hidden--visually {border: 0;clip: rect(1px 1px 1px 1px);clip: rect(1px, 1px, 1px, 1px);height: 1px;margin: -1px;overflow: hidden;padding: 0;position: absolute;width: 1px;}#sk-container-id-1 div.sk-estimator {font-family: monospace;background-color: #f0f8ff;border: 1px dotted black;border-radius: 0.25em;box-sizing: border-box;margin-bottom: 0.5em;}#sk-container-id-1 div.sk-estimator:hover {background-color: #d4ebff;}#sk-container-id-1 div.sk-parallel-item::after {content: \"\";width: 100%;border-bottom: 1px solid gray;flex-grow: 1;}#sk-container-id-1 div.sk-label:hover label.sk-toggleable__label {background-color: #d4ebff;}#sk-container-id-1 div.sk-serial::before {content: \"\";position: absolute;border-left: 1px solid gray;box-sizing: border-box;top: 0;bottom: 0;left: 50%;z-index: 0;}#sk-container-id-1 div.sk-serial {display: flex;flex-direction: column;align-items: center;background-color: white;padding-right: 0.2em;padding-left: 0.2em;position: relative;}#sk-container-id-1 div.sk-item {position: relative;z-index: 1;}#sk-container-id-1 div.sk-parallel {display: flex;align-items: stretch;justify-content: center;background-color: white;position: relative;}#sk-container-id-1 div.sk-item::before, #sk-container-id-1 div.sk-parallel-item::before {content: \"\";position: absolute;border-left: 1px solid gray;box-sizing: border-box;top: 0;bottom: 0;left: 50%;z-index: -1;}#sk-container-id-1 div.sk-parallel-item {display: flex;flex-direction: column;z-index: 1;position: relative;background-color: white;}#sk-container-id-1 div.sk-parallel-item:first-child::after {align-self: flex-end;width: 50%;}#sk-container-id-1 div.sk-parallel-item:last-child::after {align-self: flex-start;width: 50%;}#sk-container-id-1 div.sk-parallel-item:only-child::after {width: 0;}#sk-container-id-1 div.sk-dashed-wrapped {border: 1px dashed gray;margin: 0 0.4em 0.5em 0.4em;box-sizing: border-box;padding-bottom: 0.4em;background-color: white;}#sk-container-id-1 div.sk-label label {font-family: monospace;font-weight: bold;display: inline-block;line-height: 1.2em;}#sk-container-id-1 div.sk-label-container {text-align: center;}#sk-container-id-1 div.sk-container {/* jupyter's `normalize.less` sets `[hidden] { display: none; }` but bootstrap.min.css set `[hidden] { display: none !important; }` so we also need the `!important` here to be able to override the default hidden behavior on the sphinx rendered scikit-learn.org. See: https://github.com/scikit-learn/scikit-learn/issues/21755 */display: inline-block !important;position: relative;}#sk-container-id-1 div.sk-text-repr-fallback {display: none;}</style><div id=\"sk-container-id-1\" class=\"sk-top-container\"><div class=\"sk-text-repr-fallback\"><pre>KNeighborsClassifier()</pre><b>In a Jupyter environment, please rerun this cell to show the HTML representation or trust the notebook. <br />On GitHub, the HTML representation is unable to render, please try loading this page with nbviewer.org.</b></div><div class=\"sk-container\" hidden><div class=\"sk-item\"><div class=\"sk-estimator sk-toggleable\"><input class=\"sk-toggleable__control sk-hidden--visually\" id=\"sk-estimator-id-1\" type=\"checkbox\" checked><label for=\"sk-estimator-id-1\" class=\"sk-toggleable__label sk-toggleable__label-arrow\">KNeighborsClassifier</label><div class=\"sk-toggleable__content\"><pre>KNeighborsClassifier()</pre></div></div></div></div></div>"
            ]
          },
          "metadata": {},
          "execution_count": 34
        }
      ]
    },
    {
      "cell_type": "code",
      "source": [
        "# Predict on the testing set\n",
        "y_pred = KNN_model.predict(X_test_tfidf)\n",
        "\n",
        "# Evaluate the model's performance\n",
        "accuracy = accuracy_score(y_test, y_pred)\n",
        "precision = precision_score(y_test, y_pred, average='macro', zero_division=0)\n",
        "recall = recall_score(y_test, y_pred, average='macro', zero_division=0)\n",
        "f1 = f1_score(y_test, y_pred, average='macro', zero_division=0)\n",
        "\n",
        "print(\"Accuracy:\", accuracy)\n",
        "print(\"Precision:\", precision)\n",
        "print(\"Recall:\", recall)\n",
        "print(\"F1-score:\", f1)\n",
        "\n",
        "# SINCE THE KNN MODEL IS APPLIED ON THE SENTIMENTED TEXTS, THEREFORE THE ACCURACY IS LOW"
      ],
      "metadata": {
        "colab": {
          "base_uri": "https://localhost:8080/"
        },
        "id": "oLlEQ9xq9WrL",
        "outputId": "1d20e11d-d5d0-496b-94a5-8385911e1779"
      },
      "execution_count": 35,
      "outputs": [
        {
          "output_type": "stream",
          "name": "stdout",
          "text": [
            "Accuracy: 0.07464892830746489\n",
            "Precision: 0.027808156755525178\n",
            "Recall: 0.03307064452575288\n",
            "F1-score: 0.028501089122340603\n"
          ]
        }
      ]
    },
    {
      "cell_type": "markdown",
      "source": [
        "# **TASK 3: CLUSTERING**"
      ],
      "metadata": {
        "id": "kR-j4qEL_y14"
      }
    },
    {
      "cell_type": "code",
      "source": [
        "from sklearn.feature_extraction.text import TfidfVectorizer\n",
        "from sklearn.cluster import KMeans\n",
        "from sklearn.decomposition import PCA"
      ],
      "metadata": {
        "id": "j5-qSCkn_kJT"
      },
      "execution_count": 36,
      "outputs": []
    },
    {
      "cell_type": "code",
      "source": [
        "# Define the feature set\n",
        "features = dataset['hashtag']  # You can change this to other features like hashtags if desired\n"
      ],
      "metadata": {
        "id": "4bqUkBxX_kMG"
      },
      "execution_count": 37,
      "outputs": []
    },
    {
      "cell_type": "code",
      "source": [
        "# Vectorize the feature data using TF-IDF\n",
        "vectorizer = TfidfVectorizer(stop_words='english')\n",
        "X = vectorizer.fit_transform(features)"
      ],
      "metadata": {
        "id": "_R-1DXXz_kPQ"
      },
      "execution_count": 38,
      "outputs": []
    },
    {
      "cell_type": "code",
      "source": [
        "# Apply k-means clustering\n",
        "clusters_no = 5  # Specify the desired number of clusters\n",
        "kmeans = KMeans(n_clusters=clusters_no, random_state=42)\n",
        "kmeans.fit(X)"
      ],
      "metadata": {
        "colab": {
          "base_uri": "https://localhost:8080/",
          "height": 129
        },
        "id": "UamQxfOV_kT8",
        "outputId": "6a97f507-16ee-45c5-a9e2-8857fc644b3b"
      },
      "execution_count": 39,
      "outputs": [
        {
          "output_type": "stream",
          "name": "stderr",
          "text": [
            "/usr/local/lib/python3.10/dist-packages/sklearn/cluster/_kmeans.py:870: FutureWarning: The default value of `n_init` will change from 10 to 'auto' in 1.4. Set the value of `n_init` explicitly to suppress the warning\n",
            "  warnings.warn(\n"
          ]
        },
        {
          "output_type": "execute_result",
          "data": {
            "text/plain": [
              "KMeans(n_clusters=5, random_state=42)"
            ],
            "text/html": [
              "<style>#sk-container-id-2 {color: black;background-color: white;}#sk-container-id-2 pre{padding: 0;}#sk-container-id-2 div.sk-toggleable {background-color: white;}#sk-container-id-2 label.sk-toggleable__label {cursor: pointer;display: block;width: 100%;margin-bottom: 0;padding: 0.3em;box-sizing: border-box;text-align: center;}#sk-container-id-2 label.sk-toggleable__label-arrow:before {content: \"▸\";float: left;margin-right: 0.25em;color: #696969;}#sk-container-id-2 label.sk-toggleable__label-arrow:hover:before {color: black;}#sk-container-id-2 div.sk-estimator:hover label.sk-toggleable__label-arrow:before {color: black;}#sk-container-id-2 div.sk-toggleable__content {max-height: 0;max-width: 0;overflow: hidden;text-align: left;background-color: #f0f8ff;}#sk-container-id-2 div.sk-toggleable__content pre {margin: 0.2em;color: black;border-radius: 0.25em;background-color: #f0f8ff;}#sk-container-id-2 input.sk-toggleable__control:checked~div.sk-toggleable__content {max-height: 200px;max-width: 100%;overflow: auto;}#sk-container-id-2 input.sk-toggleable__control:checked~label.sk-toggleable__label-arrow:before {content: \"▾\";}#sk-container-id-2 div.sk-estimator input.sk-toggleable__control:checked~label.sk-toggleable__label {background-color: #d4ebff;}#sk-container-id-2 div.sk-label input.sk-toggleable__control:checked~label.sk-toggleable__label {background-color: #d4ebff;}#sk-container-id-2 input.sk-hidden--visually {border: 0;clip: rect(1px 1px 1px 1px);clip: rect(1px, 1px, 1px, 1px);height: 1px;margin: -1px;overflow: hidden;padding: 0;position: absolute;width: 1px;}#sk-container-id-2 div.sk-estimator {font-family: monospace;background-color: #f0f8ff;border: 1px dotted black;border-radius: 0.25em;box-sizing: border-box;margin-bottom: 0.5em;}#sk-container-id-2 div.sk-estimator:hover {background-color: #d4ebff;}#sk-container-id-2 div.sk-parallel-item::after {content: \"\";width: 100%;border-bottom: 1px solid gray;flex-grow: 1;}#sk-container-id-2 div.sk-label:hover label.sk-toggleable__label {background-color: #d4ebff;}#sk-container-id-2 div.sk-serial::before {content: \"\";position: absolute;border-left: 1px solid gray;box-sizing: border-box;top: 0;bottom: 0;left: 50%;z-index: 0;}#sk-container-id-2 div.sk-serial {display: flex;flex-direction: column;align-items: center;background-color: white;padding-right: 0.2em;padding-left: 0.2em;position: relative;}#sk-container-id-2 div.sk-item {position: relative;z-index: 1;}#sk-container-id-2 div.sk-parallel {display: flex;align-items: stretch;justify-content: center;background-color: white;position: relative;}#sk-container-id-2 div.sk-item::before, #sk-container-id-2 div.sk-parallel-item::before {content: \"\";position: absolute;border-left: 1px solid gray;box-sizing: border-box;top: 0;bottom: 0;left: 50%;z-index: -1;}#sk-container-id-2 div.sk-parallel-item {display: flex;flex-direction: column;z-index: 1;position: relative;background-color: white;}#sk-container-id-2 div.sk-parallel-item:first-child::after {align-self: flex-end;width: 50%;}#sk-container-id-2 div.sk-parallel-item:last-child::after {align-self: flex-start;width: 50%;}#sk-container-id-2 div.sk-parallel-item:only-child::after {width: 0;}#sk-container-id-2 div.sk-dashed-wrapped {border: 1px dashed gray;margin: 0 0.4em 0.5em 0.4em;box-sizing: border-box;padding-bottom: 0.4em;background-color: white;}#sk-container-id-2 div.sk-label label {font-family: monospace;font-weight: bold;display: inline-block;line-height: 1.2em;}#sk-container-id-2 div.sk-label-container {text-align: center;}#sk-container-id-2 div.sk-container {/* jupyter's `normalize.less` sets `[hidden] { display: none; }` but bootstrap.min.css set `[hidden] { display: none !important; }` so we also need the `!important` here to be able to override the default hidden behavior on the sphinx rendered scikit-learn.org. See: https://github.com/scikit-learn/scikit-learn/issues/21755 */display: inline-block !important;position: relative;}#sk-container-id-2 div.sk-text-repr-fallback {display: none;}</style><div id=\"sk-container-id-2\" class=\"sk-top-container\"><div class=\"sk-text-repr-fallback\"><pre>KMeans(n_clusters=5, random_state=42)</pre><b>In a Jupyter environment, please rerun this cell to show the HTML representation or trust the notebook. <br />On GitHub, the HTML representation is unable to render, please try loading this page with nbviewer.org.</b></div><div class=\"sk-container\" hidden><div class=\"sk-item\"><div class=\"sk-estimator sk-toggleable\"><input class=\"sk-toggleable__control sk-hidden--visually\" id=\"sk-estimator-id-2\" type=\"checkbox\" checked><label for=\"sk-estimator-id-2\" class=\"sk-toggleable__label sk-toggleable__label-arrow\">KMeans</label><div class=\"sk-toggleable__content\"><pre>KMeans(n_clusters=5, random_state=42)</pre></div></div></div></div></div>"
            ]
          },
          "metadata": {},
          "execution_count": 39
        }
      ]
    },
    {
      "cell_type": "code",
      "source": [
        "# Assign cluster labels\n",
        "cluster_labels = kmeans.labels_"
      ],
      "metadata": {
        "id": "MoU5ifXcAPeE"
      },
      "execution_count": 41,
      "outputs": []
    },
    {
      "cell_type": "code",
      "source": [
        "# Visualize the clusters\n",
        "# Perform dimensionality reduction for visualization (e.g., using PCA)\n",
        "pca = PCA(n_components=2)\n",
        "X_pca = pca.fit_transform(X.toarray())"
      ],
      "metadata": {
        "id": "hpIC5tKzAPhf"
      },
      "execution_count": 42,
      "outputs": []
    },
    {
      "cell_type": "code",
      "source": [
        "# Plot the clusters\n",
        "plt.scatter(X_pca[:, 0], X_pca[:, 1], c=cluster_labels, cmap='viridis')\n",
        "plt.title('Tweet Clusters')\n",
        "plt.xlabel('Principal Component 1')\n",
        "plt.ylabel('Principal Component 2')\n",
        "plt.show()\n"
      ],
      "metadata": {
        "colab": {
          "base_uri": "https://localhost:8080/",
          "height": 472
        },
        "id": "NWW9FucgAjwW",
        "outputId": "da7887e0-1488-4b2e-f921-d878764811d1"
      },
      "execution_count": 43,
      "outputs": [
        {
          "output_type": "display_data",
          "data": {
            "text/plain": [
              "<Figure size 640x480 with 1 Axes>"
            ],
            "image/png": "[encoded data removed]"
          },
          "metadata": {}
        }
      ]
    },
    {
      "cell_type": "markdown",
      "source": [
        "# **TASK 4: ENGAGEMENT PREDICTION**"
      ],
      "metadata": {
        "id": "6FcqOGDgBcFI"
      }
    },
    {
      "cell_type": "code",
      "source": [
        "from sklearn.feature_extraction.text import TfidfVectorizer\n",
        "from sklearn.model_selection import train_test_split\n",
        "from sklearn.neighbors import KNeighborsRegressor"
      ],
      "metadata": {
        "id": "P_B-d-XhBxNz"
      },
      "execution_count": 24,
      "outputs": []
    },
    {
      "cell_type": "code",
      "source": [
        "# Define the feature set and target variables\n",
        "X = dataset['ProcessedText']  # Features: text content of the tweets\n",
        "y_retweets = dataset['RetweetCount']  # Target variable: number of retweets\n",
        "y_likes = dataset['LikeCount']  # Target variable: number of likes\n",
        "y_reply = dataset['ReplyCount']  # Target variable: number of replies"
      ],
      "metadata": {
        "id": "wv0PJwvCAjzt"
      },
      "execution_count": 44,
      "outputs": []
    },
    {
      "cell_type": "code",
      "source": [
        "# Vectorize the feature data using TF-IDF\n",
        "vectorizer = TfidfVectorizer(stop_words='english')\n",
        "X_tfidf = vectorizer.fit_transform(X)"
      ],
      "metadata": {
        "id": "mAl5jV-CAj3I"
      },
      "execution_count": 45,
      "outputs": []
    },
    {
      "cell_type": "markdown",
      "source": [
        "**For Retweets: training, testing and visualisation**"
      ],
      "metadata": {
        "id": "pDiLM1H3CzEU"
      }
    },
    {
      "cell_type": "code",
      "source": [
        "# Split the dataset into training and testing sets for retweets\n",
        "X_train_retweets, X_test_retweets, y_train_retweets, y_test_retweets = train_test_split(X_tfidf, y_retweets, test_size=0.2, random_state=42)\n"
      ],
      "metadata": {
        "id": "me4F5_ZdAj6h"
      },
      "execution_count": 46,
      "outputs": []
    },
    {
      "cell_type": "code",
      "source": [
        "# Train the KNN model for retweets\n",
        "knn_retweets = KNeighborsRegressor(n_neighbors=5)\n",
        "knn_retweets.fit(X_train_retweets, y_train_retweets)\n",
        "\n",
        "# Predict on the testing set for retweets\n",
        "y_pred_retweets = knn_retweets.predict(X_test_retweets)\n"
      ],
      "metadata": {
        "id": "lcmRVsPWCIVi"
      },
      "execution_count": 47,
      "outputs": []
    },
    {
      "cell_type": "code",
      "source": [
        "# Visualize the predictions\n",
        "plt.figure(figsize=(12, 4))\n",
        "\n",
        "# Plot for retweets\n",
        "plt.subplot(131)\n",
        "plt.scatter(y_test_retweets, y_pred_retweets)\n",
        "plt.xlabel('Actual Retweets')\n",
        "plt.ylabel('Predicted Retweets')\n",
        "plt.title('Retweets')"
      ],
      "metadata": {
        "colab": {
          "base_uri": "https://localhost:8080/",
          "height": 427
        },
        "id": "Ounc1BcUCIaK",
        "outputId": "c9d6fa27-d2a4-43d5-f998-83533c2d80a4"
      },
      "execution_count": 48,
      "outputs": [
        {
          "output_type": "execute_result",
          "data": {
            "text/plain": [
              "Text(0.5, 1.0, 'Retweets')"
            ]
          },
          "metadata": {},
          "execution_count": 48
        },
        {
          "output_type": "display_data",
          "data": {
            "text/plain": [
              "<Figure size 1200x400 with 1 Axes>"
            ],
            "image/png": "[encoded data removed]"
          },
          "metadata": {}
        }
      ]
    },
    {
      "cell_type": "markdown",
      "source": [
        "**For Likes: training, testing and visualisation**"
      ],
      "metadata": {
        "id": "04lWREnpDiAl"
      }
    },
    {
      "cell_type": "code",
      "source": [
        "# Split the dataset into training and testing sets for likes\n",
        "X_train_likes, X_test_likes, y_train_likes, y_test_likes = train_test_split(X_tfidf, y_likes, test_size=0.2, random_state=42)"
      ],
      "metadata": {
        "id": "8iLBQM7PCIev"
      },
      "execution_count": null,
      "outputs": []
    },
    {
      "cell_type": "code",
      "source": [
        "# Train the KNN model for likes\n",
        "knn_likes = KNeighborsRegressor(n_neighbors=5)\n",
        "knn_likes.fit(X_train, y_train_likes)\n",
        "\n",
        "# Predict on the testing set for likes\n",
        "y_pred_likes = knn_likes.predict(X_test)"
      ],
      "metadata": {
        "id": "0ydUThVhDKLI"
      },
      "execution_count": null,
      "outputs": []
    },
    {
      "cell_type": "code",
      "source": [
        "# Visualize the predictions\n",
        "plt.figure(figsize=(12, 4))\n",
        "# Plot for likes\n",
        "plt.subplot(132)\n",
        "plt.scatter(y_test_likes, y_pred_likes)\n",
        "plt.xlabel('Actual Likes')\n",
        "plt.ylabel('Predicted Likes')\n",
        "plt.title('Likes')"
      ],
      "metadata": {
        "colab": {
          "base_uri": "https://localhost:8080/",
          "height": 427
        },
        "id": "C5oPfD7PDKQE",
        "outputId": "54581d43-744e-4587-aaeb-fb97c5d4c5f7"
      },
      "execution_count": null,
      "outputs": [
        {
          "output_type": "execute_result",
          "data": {
            "text/plain": [
              "Text(0.5, 1.0, 'Likes')"
            ]
          },
          "metadata": {},
          "execution_count": 89
        },
        {
          "output_type": "display_data",
          "data": {
            "text/plain": [
              "<Figure size 1200x400 with 1 Axes>"
            ],
            "image/png": "[encoded data removed]"
          },
          "metadata": {}
        }
      ]
    },
    {
      "cell_type": "markdown",
      "source": [
        "**For Replies: training, testing and visualisation**"
      ],
      "metadata": {
        "id": "USHWPDOcDvOI"
      }
    },
    {
      "cell_type": "code",
      "source": [
        "# Split the dataset into training and testing sets for replies\n",
        "X_train_replies, X_test_replies, y_train_replies, y_test_replies = train_test_split(X_tfidf, y_reply, test_size=0.2, random_state=42)"
      ],
      "metadata": {
        "id": "g0LlaMcqDKVJ"
      },
      "execution_count": null,
      "outputs": []
    },
    {
      "cell_type": "code",
      "source": [
        "# Train the KNN model for replies\n",
        "knn_replies = KNeighborsRegressor(n_neighbors=5)\n",
        "knn_replies.fit(X_train, y_train_replies)\n",
        "\n",
        "# Predict on the testing set for replies\n",
        "y_pred_replies = knn_replies.predict(X_test)"
      ],
      "metadata": {
        "id": "AUkMKHZ0DKaJ"
      },
      "execution_count": null,
      "outputs": []
    },
    {
      "cell_type": "code",
      "source": [
        "# Visualize the predictions\n",
        "plt.figure(figsize=(12, 4))\n",
        "\n",
        "# Plot for replies\n",
        "plt.subplot(133)\n",
        "plt.scatter(y_test_replies, y_pred_replies)\n",
        "plt.xlabel('Actual Replies')\n",
        "plt.ylabel('Predicted Replies')\n",
        "plt.title('Replies')"
      ],
      "metadata": {
        "colab": {
          "base_uri": "https://localhost:8080/",
          "height": 427
        },
        "id": "QMiduMLzDKgi",
        "outputId": "494212c3-ccb9-46ef-a460-5a2e883ebfdf"
      },
      "execution_count": null,
      "outputs": [
        {
          "output_type": "execute_result",
          "data": {
            "text/plain": [
              "Text(0.5, 1.0, 'Replies')"
            ]
          },
          "metadata": {},
          "execution_count": 92
        },
        {
          "output_type": "display_data",
          "data": {
            "text/plain": [
              "<Figure size 1200x400 with 1 Axes>"
            ],
            "image/png": "[encoded data removed]"
          },
          "metadata": {}
        }
      ]
    },
    {
      "cell_type": "markdown",
      "source": [
        "# **TASK 5: HASHTAG ANALYSIS**"
      ],
      "metadata": {
        "id": "26MDT7zqED5U"
      }
    },
    {
      "cell_type": "markdown",
      "source": [
        "### **Top 20 hashtags**"
      ],
      "metadata": {
        "id": "RI40cnlTIXhv"
      }
    },
    {
      "cell_type": "code",
      "source": [
        "dataset['hashtag'] = dataset['Text'].str.findall(r'#\\w+')\n"
      ],
      "metadata": {
        "id": "67Aa9NvdEKTo"
      },
      "execution_count": 49,
      "outputs": []
    },
    {
      "cell_type": "code",
      "source": [
        "# Count the frequency of each hashtag\n",
        "hashtags_list = dataset['hashtag'].sum()\n",
        "hashtags_count = pd.Series(hashtags_list).value_counts()\n"
      ],
      "metadata": {
        "id": "PKTEJux4EKfb"
      },
      "execution_count": 50,
      "outputs": []
    },
    {
      "cell_type": "code",
      "source": [
        "# Plot frequency of hashtags\n",
        "plt.figure(figsize=(10, 6))\n",
        "hashtags_count.head(20).plot(kind='bar')\n",
        "plt.xlabel('Hashtags')\n",
        "plt.ylabel('Frequency')\n",
        "plt.title('Top 20 Most Frequent Hashtags')\n",
        "plt.xticks(rotation=45)\n",
        "plt.tight_layout()\n",
        "plt.show()\n"
      ],
      "metadata": {
        "colab": {
          "base_uri": "https://localhost:8080/",
          "height": 607
        },
        "id": "yRNnHmFaEKnd",
        "outputId": "752088ef-a5a9-42e8-c8a7-65c62cdf7cdf"
      },
      "execution_count": 51,
      "outputs": [
        {
          "output_type": "display_data",
          "data": {
            "text/plain": [
              "<Figure size 1000x600 with 1 Axes>"
            ],
            "image/png": "[encoded data removed]"
          },
          "metadata": {}
        }
      ]
    },
    {
      "cell_type": "markdown",
      "source": [
        "### **Co-occurence**"
      ],
      "metadata": {
        "id": "tGFyps2QIfZR"
      }
    },
    {
      "cell_type": "code",
      "source": [
        "import networkx as nx\n",
        "from sklearn.decomposition import TruncatedSVD"
      ],
      "metadata": {
        "id": "9PUVJdnpI1_d"
      },
      "execution_count": 52,
      "outputs": []
    },
    {
      "cell_type": "code",
      "source": [
        "# Identify common themes or topics\n",
        "cooccurrence_matrix = pd.DataFrame(0, index=hashtags_count.index, columns=hashtags_count.index)\n",
        "for hashtags in dataset['hashtag']:\n",
        "    for h1 in hashtags:\n",
        "        for h2 in hashtags:\n",
        "            if h1 != h2:\n",
        "                cooccurrence_matrix.loc[h1, h2] += 1"
      ],
      "metadata": {
        "id": "dHhzb48kEKwU"
      },
      "execution_count": 53,
      "outputs": []
    },
    {
      "cell_type": "code",
      "source": [
        "# Plot co-occurrence matrix as a network graph\n",
        "G = nx.from_pandas_adjacency(cooccurrence_matrix)\n",
        "plt.figure(figsize=(10, 10))\n",
        "pos = nx.spring_layout(G, k=0.15)\n",
        "nx.draw_networkx(G, pos, node_color='lightblue', node_size=100, edge_color='gray', font_size=8)\n",
        "plt.title('Hashtag Co-occurrence Network')\n",
        "plt.axis('off')\n",
        "plt.tight_layout()\n",
        "plt.show()"
      ],
      "metadata": {
        "id": "6V_KobTBEK4-"
      },
      "execution_count": null,
      "outputs": []
    },
    {
      "cell_type": "code",
      "source": [
        "# Apply TruncatedSVD to reduce the dimensionality of the data\n",
        "svd = TruncatedSVD(n_components=2, random_state=42)\n",
        "X_svd = svd.fit_transform(X_tfidf)"
      ],
      "metadata": {
        "id": "gzTECuqrEMBh"
      },
      "execution_count": null,
      "outputs": []
    },
    {
      "cell_type": "code",
      "source": [
        "# Apply K-means clustering\n",
        "num_clusters = 5  # Specify the desired number of clusters\n",
        "kmeans = KMeans(n_clusters=num_clusters, random_state=42)\n",
        "labels = kmeans.fit_predict(X_svd)"
      ],
      "metadata": {
        "id": "U6nEwjZoEMMx"
      },
      "execution_count": null,
      "outputs": []
    },
    {
      "cell_type": "code",
      "source": [
        "# Visualize the clusters\n",
        "plt.figure(figsize=(10, 6))\n",
        "scatter = plt.scatter(X_svd[:, 0], X_svd[:, 1], c=labels, cmap='viridis')\n",
        "plt.colorbar(scatter)\n",
        "plt.title('Clusters of Tweets')\n",
        "plt.xlabel('TruncatedSVD Component 1')\n",
        "plt.ylabel('TruncatedSVD Component 2')\n",
        "plt.show()"
      ],
      "metadata": {
        "id": "FydYwucQJyfB"
      },
      "execution_count": null,
      "outputs": []
    },
    {
      "cell_type": "code",
      "source": [],
      "metadata": {
        "id": "y_3IkadKJyhx"
      },
      "execution_count": null,
      "outputs": []
    },
    {
      "cell_type": "code",
      "source": [],
      "metadata": {
        "id": "P2DU1UU8Jyk6"
      },
      "execution_count": null,
      "outputs": []
    }
  ]
}