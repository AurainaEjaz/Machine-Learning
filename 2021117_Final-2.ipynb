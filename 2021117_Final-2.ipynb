{
  "nbformat": 4,
  "nbformat_minor": 0,
  "metadata": {
    "colab": {
      "provenance": [],
      "gpuType": "T4"
    },
    "kernelspec": {
      "name": "python3",
      "display_name": "Python 3"
    },
    "language_info": {
      "name": "python"
    },
    "accelerator": "GPU",
    "gpuClass": "standard"
  },
  "cells": [
    {
      "cell_type": "code",
      "execution_count": 1,
      "metadata": {
        "colab": {
          "base_uri": "https://localhost:8080/"
        },
        "id": "9ieivoonJ5Ko",
        "outputId": "92c5f13e-d483-48d6-b0d8-b59dc84cf354"
      },
      "outputs": [
        {
          "output_type": "stream",
          "name": "stderr",
          "text": [
            "[nltk_data] Downloading package wordnet to /root/nltk_data...\n",
            "[nltk_data] Downloading package stopwords to /root/nltk_data...\n",
            "[nltk_data]   Unzipping corpora/stopwords.zip.\n"
          ]
        },
        {
          "output_type": "stream",
          "name": "stdout",
          "text": [
            "Looking in indexes: https://pypi.org/simple, https://us-python.pkg.dev/colab-wheels/public/simple/\n",
            "Collecting ekphrasis\n",
            "  Downloading ekphrasis-0.5.4-py3-none-any.whl (83 kB)\n",
            "\u001b[2K     \u001b[90m━━━━━━━━━━━━━━━━━━━━━━━━━━━━━━━━━━━━━━━\u001b[0m \u001b[32m83.8/83.8 kB\u001b[0m \u001b[31m668.7 kB/s\u001b[0m eta \u001b[36m0:00:00\u001b[0m\n",
            "\u001b[?25hRequirement already satisfied: termcolor in /usr/local/lib/python3.10/dist-packages (from ekphrasis) (2.3.0)\n",
            "Requirement already satisfied: tqdm in /usr/local/lib/python3.10/dist-packages (from ekphrasis) (4.65.0)\n",
            "Collecting colorama (from ekphrasis)\n",
            "  Downloading colorama-0.4.6-py2.py3-none-any.whl (25 kB)\n",
            "Collecting ujson (from ekphrasis)\n",
            "  Downloading ujson-5.7.0-cp310-cp310-manylinux_2_17_x86_64.manylinux2014_x86_64.whl (52 kB)\n",
            "\u001b[2K     \u001b[90m━━━━━━━━━━━━━━━━━━━━━━━━━━━━━━━━━━━━━━━━\u001b[0m \u001b[32m52.8/52.8 kB\u001b[0m \u001b[31m7.2 MB/s\u001b[0m eta \u001b[36m0:00:00\u001b[0m\n",
            "\u001b[?25hRequirement already satisfied: matplotlib in /usr/local/lib/python3.10/dist-packages (from ekphrasis) (3.7.1)\n",
            "Requirement already satisfied: nltk in /usr/local/lib/python3.10/dist-packages (from ekphrasis) (3.8.1)\n",
            "Collecting ftfy (from ekphrasis)\n",
            "  Downloading ftfy-6.1.1-py3-none-any.whl (53 kB)\n",
            "\u001b[2K     \u001b[90m━━━━━━━━━━━━━━━━━━━━━━━━━━━━━━━━━━━━━━━━\u001b[0m \u001b[32m53.1/53.1 kB\u001b[0m \u001b[31m5.3 MB/s\u001b[0m eta \u001b[36m0:00:00\u001b[0m\n",
            "\u001b[?25hRequirement already satisfied: numpy in /usr/local/lib/python3.10/dist-packages (from ekphrasis) (1.22.4)\n",
            "Requirement already satisfied: wcwidth>=0.2.5 in /usr/local/lib/python3.10/dist-packages (from ftfy->ekphrasis) (0.2.6)\n",
            "Requirement already satisfied: contourpy>=1.0.1 in /usr/local/lib/python3.10/dist-packages (from matplotlib->ekphrasis) (1.0.7)\n",
            "Requirement already satisfied: cycler>=0.10 in /usr/local/lib/python3.10/dist-packages (from matplotlib->ekphrasis) (0.11.0)\n",
            "Requirement already satisfied: fonttools>=4.22.0 in /usr/local/lib/python3.10/dist-packages (from matplotlib->ekphrasis) (4.39.3)\n",
            "Requirement already satisfied: kiwisolver>=1.0.1 in /usr/local/lib/python3.10/dist-packages (from matplotlib->ekphrasis) (1.4.4)\n",
            "Requirement already satisfied: packaging>=20.0 in /usr/local/lib/python3.10/dist-packages (from matplotlib->ekphrasis) (23.1)\n",
            "Requirement already satisfied: pillow>=6.2.0 in /usr/local/lib/python3.10/dist-packages (from matplotlib->ekphrasis) (8.4.0)\n",
            "Requirement already satisfied: pyparsing>=2.3.1 in /usr/local/lib/python3.10/dist-packages (from matplotlib->ekphrasis) (3.0.9)\n",
            "Requirement already satisfied: python-dateutil>=2.7 in /usr/local/lib/python3.10/dist-packages (from matplotlib->ekphrasis) (2.8.2)\n",
            "Requirement already satisfied: click in /usr/local/lib/python3.10/dist-packages (from nltk->ekphrasis) (8.1.3)\n",
            "Requirement already satisfied: joblib in /usr/local/lib/python3.10/dist-packages (from nltk->ekphrasis) (1.2.0)\n",
            "Requirement already satisfied: regex>=2021.8.3 in /usr/local/lib/python3.10/dist-packages (from nltk->ekphrasis) (2022.10.31)\n",
            "Requirement already satisfied: six>=1.5 in /usr/local/lib/python3.10/dist-packages (from python-dateutil>=2.7->matplotlib->ekphrasis) (1.16.0)\n",
            "Installing collected packages: ujson, ftfy, colorama, ekphrasis\n",
            "Successfully installed colorama-0.4.6 ekphrasis-0.5.4 ftfy-6.1.1 ujson-5.7.0\n",
            "Looking in indexes: https://pypi.org/simple, https://us-python.pkg.dev/colab-wheels/public/simple/\n",
            "Collecting tweet-preprocessor\n",
            "  Downloading tweet_preprocessor-0.6.0-py3-none-any.whl (27 kB)\n",
            "Installing collected packages: tweet-preprocessor\n",
            "Successfully installed tweet-preprocessor-0.6.0\n"
          ]
        }
      ],
      "source": [
        "#importing all the modules\n",
        "\n",
        "import seaborn as sns\n",
        "import pandas as pd\n",
        "import numpy as np\n",
        "import json\n",
        "from collections import Counter\n",
        "from wordcloud import WordCloud\n",
        "import matplotlib.pyplot as plt\n",
        "import re, string, unicodedata\n",
        "import nltk\n",
        "from nltk import word_tokenize, sent_tokenize, FreqDist\n",
        "from nltk.corpus import stopwords\n",
        "from nltk.stem import LancasterStemmer, WordNetLemmatizer\n",
        "nltk.download\n",
        "nltk.download('wordnet')\n",
        "nltk.download('stopwords')\n",
        "from nltk.tokenize import TweetTokenizer\n",
        "!pip install ekphrasis\n",
        "!pip install tweet-preprocessor\n",
        "import preprocessor as p\n",
        "\n"
      ]
    },
    {
      "cell_type": "code",
      "source": [
        "dataset = pd.read_csv('/content/CHATGPT1.csv') #loading the dataset"
      ],
      "metadata": {
        "id": "THLFeRRtLhfM"
      },
      "execution_count": 2,
      "outputs": []
    },
    {
      "cell_type": "code",
      "source": [
        "dataset.head() #shows the first five rows of the dataset"
      ],
      "metadata": {
        "colab": {
          "base_uri": "https://localhost:8080/",
          "height": 489
        },
        "id": "b_Cg7yluLhhu",
        "outputId": "3c79a4cc-d03a-458b-8c1a-6576566f1d0f"
      },
      "execution_count": 3,
      "outputs": [
        {
          "output_type": "execute_result",
          "data": {
            "text/plain": [
              "                    Datetime             Tweet Id  \\\n",
              "0  2023-01-22 13:44:34+00:00  1617156270871699456   \n",
              "1  2023-01-22 13:44:39+00:00  1617156291046133761   \n",
              "2  2023-01-22 13:44:44+00:00  1617156308926349312   \n",
              "3  2023-01-22 13:44:49+00:00  1617156332297256961   \n",
              "4  2023-01-22 13:44:52+00:00  1617156345064570880   \n",
              "\n",
              "                                                Text         Username  \\\n",
              "0  ChatGPTで遊ぶの忘れてた！！\\n書類作るコード書いてみてほしいのと、\\nどこまで思考整...      mochico0123   \n",
              "1  @AlexandrovnaIng Prohibition of ChatGPT has be...  Caput_LupinumSG   \n",
              "2  Schaut Euch an, was @fobizz @DianaKnodel alles...            ciffi   \n",
              "3  Bow down to chatGPT 🫡..... https://t.co/ENTSzi...    Vishwasrisiri   \n",
              "4  Profilinde vatan, Türkiye falan yazan bireyler...   0xGenetikciniz   \n",
              "\n",
              "                                           Permalink  \\\n",
              "0  https://twitter.com/mochico0123/status/1617156...   \n",
              "1  https://twitter.com/Caput_LupinumSG/status/161...   \n",
              "2  https://twitter.com/ciffi/status/1617156308926...   \n",
              "3  https://twitter.com/Vishwasrisiri/status/16171...   \n",
              "4  https://twitter.com/0xGenetikciniz/status/1617...   \n",
              "\n",
              "                                  User  \\\n",
              "0      https://twitter.com/mochico0123   \n",
              "1  https://twitter.com/Caput_LupinumSG   \n",
              "2            https://twitter.com/ciffi   \n",
              "3    https://twitter.com/Vishwasrisiri   \n",
              "4   https://twitter.com/0xGenetikciniz   \n",
              "\n",
              "                                            Outlinks  \\\n",
              "0                                                NaN   \n",
              "1                                                NaN   \n",
              "2  ['https://us02web.zoom.us/webinar/register/801...   \n",
              "3  ['https://twitter.com/agadmator/status/1617155...   \n",
              "4                                                NaN   \n",
              "\n",
              "                                          CountLinks  ReplyCount  \\\n",
              "0                                                NaN         1.0   \n",
              "1                                                NaN         1.0   \n",
              "2  ['https://t.co/DsoeVJrPBp', 'https://t.co/HflT...         0.0   \n",
              "3                        ['https://t.co/ENTSzi2AQ9']         0.0   \n",
              "4                                                NaN         0.0   \n",
              "\n",
              "   RetweetCount  LikeCount  QuoteCount  ConversationId Language  \\\n",
              "0           0.0        5.0         0.0    1.617156e+18       ja   \n",
              "1           0.0        5.0         0.0    1.617149e+18       en   \n",
              "2           0.0        4.0         0.0    1.617156e+18       de   \n",
              "3           0.0        2.0         0.0    1.617156e+18       en   \n",
              "4           0.0        4.0         0.0    1.617156e+18       tr   \n",
              "\n",
              "                                              Source  \\\n",
              "0  <a href=\"http://twitter.com/download/iphone\" r...   \n",
              "1  <a href=\"http://twitter.com/download/iphone\" r...   \n",
              "2  <a href=\"http://twitter.com/#!/download/ipad\" ...   \n",
              "3  <a href=\"http://twitter.com/download/android\" ...   \n",
              "4  <a href=\"http://twitter.com/download/iphone\" r...   \n",
              "\n",
              "                                               Media  \\\n",
              "0                                                NaN   \n",
              "1                                                NaN   \n",
              "2  [Photo(previewUrl='https://pbs.twimg.com/media...   \n",
              "3                                                NaN   \n",
              "4                                                NaN   \n",
              "\n",
              "                                         QuotedTweet  \\\n",
              "0                                                NaN   \n",
              "1                                                NaN   \n",
              "2  https://twitter.com/DianaKnodel/status/1617153...   \n",
              "3  https://twitter.com/agadmator/status/161715501...   \n",
              "4                                                NaN   \n",
              "\n",
              "                                      MentionedUsers       hashtag  \\\n",
              "0                                                NaN            []   \n",
              "1  [User(username='AlexandrovnaIng', id=282705900...            []   \n",
              "2  [User(username='fobizz', id=884708145792253952...  ['#ChatGPT']   \n",
              "3                                                NaN            []   \n",
              "4                                                NaN            []   \n",
              "\n",
              "   hastag_counts  \n",
              "0            0.0  \n",
              "1            0.0  \n",
              "2            1.0  \n",
              "3            0.0  \n",
              "4            0.0  "
            ],
            "text/html": [
              "\n",
              "  <div id=\"df-529206d5-44ac-4a5c-8428-6df9a0f13a64\">\n",
              "    <div class=\"colab-df-container\">\n",
              "      <div>\n",
              "<style scoped>\n",
              "    .dataframe tbody tr th:only-of-type {\n",
              "        vertical-align: middle;\n",
              "    }\n",
              "\n",
              "    .dataframe tbody tr th {\n",
              "        vertical-align: top;\n",
              "    }\n",
              "\n",
              "    .dataframe thead th {\n",
              "        text-align: right;\n",
              "    }\n",
              "</style>\n",
              "<table border=\"1\" class=\"dataframe\">\n",
              "  <thead>\n",
              "    <tr style=\"text-align: right;\">\n",
              "      <th></th>\n",
              "      <th>Datetime</th>\n",
              "      <th>Tweet Id</th>\n",
              "      <th>Text</th>\n",
              "      <th>Username</th>\n",
              "      <th>Permalink</th>\n",
              "      <th>User</th>\n",
              "      <th>Outlinks</th>\n",
              "      <th>CountLinks</th>\n",
              "      <th>ReplyCount</th>\n",
              "      <th>RetweetCount</th>\n",
              "      <th>LikeCount</th>\n",
              "      <th>QuoteCount</th>\n",
              "      <th>ConversationId</th>\n",
              "      <th>Language</th>\n",
              "      <th>Source</th>\n",
              "      <th>Media</th>\n",
              "      <th>QuotedTweet</th>\n",
              "      <th>MentionedUsers</th>\n",
              "      <th>hashtag</th>\n",
              "      <th>hastag_counts</th>\n",
              "    </tr>\n",
              "  </thead>\n",
              "  <tbody>\n",
              "    <tr>\n",
              "      <th>0</th>\n",
              "      <td>2023-01-22 13:44:34+00:00</td>\n",
              "      <td>1617156270871699456</td>\n",
              "      <td>ChatGPTで遊ぶの忘れてた！！\\n書類作るコード書いてみてほしいのと、\\nどこまで思考整...</td>\n",
              "      <td>mochico0123</td>\n",
              "      <td>https://twitter.com/mochico0123/status/1617156...</td>\n",
              "      <td>https://twitter.com/mochico0123</td>\n",
              "      <td>NaN</td>\n",
              "      <td>NaN</td>\n",
              "      <td>1.0</td>\n",
              "      <td>0.0</td>\n",
              "      <td>5.0</td>\n",
              "      <td>0.0</td>\n",
              "      <td>1.617156e+18</td>\n",
              "      <td>ja</td>\n",
              "      <td>&lt;a href=\"http://twitter.com/download/iphone\" r...</td>\n",
              "      <td>NaN</td>\n",
              "      <td>NaN</td>\n",
              "      <td>NaN</td>\n",
              "      <td>[]</td>\n",
              "      <td>0.0</td>\n",
              "    </tr>\n",
              "    <tr>\n",
              "      <th>1</th>\n",
              "      <td>2023-01-22 13:44:39+00:00</td>\n",
              "      <td>1617156291046133761</td>\n",
              "      <td>@AlexandrovnaIng Prohibition of ChatGPT has be...</td>\n",
              "      <td>Caput_LupinumSG</td>\n",
              "      <td>https://twitter.com/Caput_LupinumSG/status/161...</td>\n",
              "      <td>https://twitter.com/Caput_LupinumSG</td>\n",
              "      <td>NaN</td>\n",
              "      <td>NaN</td>\n",
              "      <td>1.0</td>\n",
              "      <td>0.0</td>\n",
              "      <td>5.0</td>\n",
              "      <td>0.0</td>\n",
              "      <td>1.617149e+18</td>\n",
              "      <td>en</td>\n",
              "      <td>&lt;a href=\"http://twitter.com/download/iphone\" r...</td>\n",
              "      <td>NaN</td>\n",
              "      <td>NaN</td>\n",
              "      <td>[User(username='AlexandrovnaIng', id=282705900...</td>\n",
              "      <td>[]</td>\n",
              "      <td>0.0</td>\n",
              "    </tr>\n",
              "    <tr>\n",
              "      <th>2</th>\n",
              "      <td>2023-01-22 13:44:44+00:00</td>\n",
              "      <td>1617156308926349312</td>\n",
              "      <td>Schaut Euch an, was @fobizz @DianaKnodel alles...</td>\n",
              "      <td>ciffi</td>\n",
              "      <td>https://twitter.com/ciffi/status/1617156308926...</td>\n",
              "      <td>https://twitter.com/ciffi</td>\n",
              "      <td>['https://us02web.zoom.us/webinar/register/801...</td>\n",
              "      <td>['https://t.co/DsoeVJrPBp', 'https://t.co/HflT...</td>\n",
              "      <td>0.0</td>\n",
              "      <td>0.0</td>\n",
              "      <td>4.0</td>\n",
              "      <td>0.0</td>\n",
              "      <td>1.617156e+18</td>\n",
              "      <td>de</td>\n",
              "      <td>&lt;a href=\"http://twitter.com/#!/download/ipad\" ...</td>\n",
              "      <td>[Photo(previewUrl='https://pbs.twimg.com/media...</td>\n",
              "      <td>https://twitter.com/DianaKnodel/status/1617153...</td>\n",
              "      <td>[User(username='fobizz', id=884708145792253952...</td>\n",
              "      <td>['#ChatGPT']</td>\n",
              "      <td>1.0</td>\n",
              "    </tr>\n",
              "    <tr>\n",
              "      <th>3</th>\n",
              "      <td>2023-01-22 13:44:49+00:00</td>\n",
              "      <td>1617156332297256961</td>\n",
              "      <td>Bow down to chatGPT 🫡..... https://t.co/ENTSzi...</td>\n",
              "      <td>Vishwasrisiri</td>\n",
              "      <td>https://twitter.com/Vishwasrisiri/status/16171...</td>\n",
              "      <td>https://twitter.com/Vishwasrisiri</td>\n",
              "      <td>['https://twitter.com/agadmator/status/1617155...</td>\n",
              "      <td>['https://t.co/ENTSzi2AQ9']</td>\n",
              "      <td>0.0</td>\n",
              "      <td>0.0</td>\n",
              "      <td>2.0</td>\n",
              "      <td>0.0</td>\n",
              "      <td>1.617156e+18</td>\n",
              "      <td>en</td>\n",
              "      <td>&lt;a href=\"http://twitter.com/download/android\" ...</td>\n",
              "      <td>NaN</td>\n",
              "      <td>https://twitter.com/agadmator/status/161715501...</td>\n",
              "      <td>NaN</td>\n",
              "      <td>[]</td>\n",
              "      <td>0.0</td>\n",
              "    </tr>\n",
              "    <tr>\n",
              "      <th>4</th>\n",
              "      <td>2023-01-22 13:44:52+00:00</td>\n",
              "      <td>1617156345064570880</td>\n",
              "      <td>Profilinde vatan, Türkiye falan yazan bireyler...</td>\n",
              "      <td>0xGenetikciniz</td>\n",
              "      <td>https://twitter.com/0xGenetikciniz/status/1617...</td>\n",
              "      <td>https://twitter.com/0xGenetikciniz</td>\n",
              "      <td>NaN</td>\n",
              "      <td>NaN</td>\n",
              "      <td>0.0</td>\n",
              "      <td>0.0</td>\n",
              "      <td>4.0</td>\n",
              "      <td>0.0</td>\n",
              "      <td>1.617156e+18</td>\n",
              "      <td>tr</td>\n",
              "      <td>&lt;a href=\"http://twitter.com/download/iphone\" r...</td>\n",
              "      <td>NaN</td>\n",
              "      <td>NaN</td>\n",
              "      <td>NaN</td>\n",
              "      <td>[]</td>\n",
              "      <td>0.0</td>\n",
              "    </tr>\n",
              "  </tbody>\n",
              "</table>\n",
              "</div>\n",
              "      <button class=\"colab-df-convert\" onclick=\"convertToInteractive('df-529206d5-44ac-4a5c-8428-6df9a0f13a64')\"\n",
              "              title=\"Convert this dataframe to an interactive table.\"\n",
              "              style=\"display:none;\">\n",
              "        \n",
              "  <svg xmlns=\"http://www.w3.org/2000/svg\" height=\"24px\"viewBox=\"0 0 24 24\"\n",
              "       width=\"24px\">\n",
              "    <path d=\"M0 0h24v24H0V0z\" fill=\"none\"/>\n",
              "    <path d=\"M18.56 5.44l.94 2.06.94-2.06 2.06-.94-2.06-.94-.94-2.06-.94 2.06-2.06.94zm-11 1L8.5 8.5l.94-2.06 2.06-.94-2.06-.94L8.5 2.5l-.94 2.06-2.06.94zm10 10l.94 2.06.94-2.06 2.06-.94-2.06-.94-.94-2.06-.94 2.06-2.06.94z\"/><path d=\"M17.41 7.96l-1.37-1.37c-.4-.4-.92-.59-1.43-.59-.52 0-1.04.2-1.43.59L10.3 9.45l-7.72 7.72c-.78.78-.78 2.05 0 2.83L4 21.41c.39.39.9.59 1.41.59.51 0 1.02-.2 1.41-.59l7.78-7.78 2.81-2.81c.8-.78.8-2.07 0-2.86zM5.41 20L4 18.59l7.72-7.72 1.47 1.35L5.41 20z\"/>\n",
              "  </svg>\n",
              "      </button>\n",
              "      \n",
              "  <style>\n",
              "    .colab-df-container {\n",
              "      display:flex;\n",
              "      flex-wrap:wrap;\n",
              "      gap: 12px;\n",
              "    }\n",
              "\n",
              "    .colab-df-convert {\n",
              "      background-color: #E8F0FE;\n",
              "      border: none;\n",
              "      border-radius: 50%;\n",
              "      cursor: pointer;\n",
              "      display: none;\n",
              "      fill: #1967D2;\n",
              "      height: 32px;\n",
              "      padding: 0 0 0 0;\n",
              "      width: 32px;\n",
              "    }\n",
              "\n",
              "    .colab-df-convert:hover {\n",
              "      background-color: #E2EBFA;\n",
              "      box-shadow: 0px 1px 2px rgba(60, 64, 67, 0.3), 0px 1px 3px 1px rgba(60, 64, 67, 0.15);\n",
              "      fill: #174EA6;\n",
              "    }\n",
              "\n",
              "    [theme=dark] .colab-df-convert {\n",
              "      background-color: #3B4455;\n",
              "      fill: #D2E3FC;\n",
              "    }\n",
              "\n",
              "    [theme=dark] .colab-df-convert:hover {\n",
              "      background-color: #434B5C;\n",
              "      box-shadow: 0px 1px 3px 1px rgba(0, 0, 0, 0.15);\n",
              "      filter: drop-shadow(0px 1px 2px rgba(0, 0, 0, 0.3));\n",
              "      fill: #FFFFFF;\n",
              "    }\n",
              "  </style>\n",
              "\n",
              "      <script>\n",
              "        const buttonEl =\n",
              "          document.querySelector('#df-529206d5-44ac-4a5c-8428-6df9a0f13a64 button.colab-df-convert');\n",
              "        buttonEl.style.display =\n",
              "          google.colab.kernel.accessAllowed ? 'block' : 'none';\n",
              "\n",
              "        async function convertToInteractive(key) {\n",
              "          const element = document.querySelector('#df-529206d5-44ac-4a5c-8428-6df9a0f13a64');\n",
              "          const dataTable =\n",
              "            await google.colab.kernel.invokeFunction('convertToInteractive',\n",
              "                                                     [key], {});\n",
              "          if (!dataTable) return;\n",
              "\n",
              "          const docLinkHtml = 'Like what you see? Visit the ' +\n",
              "            '<a target=\"_blank\" href=https://colab.research.google.com/notebooks/data_table.ipynb>data table notebook</a>'\n",
              "            + ' to learn more about interactive tables.';\n",
              "          element.innerHTML = '';\n",
              "          dataTable['output_type'] = 'display_data';\n",
              "          await google.colab.output.renderOutput(dataTable, element);\n",
              "          const docLink = document.createElement('div');\n",
              "          docLink.innerHTML = docLinkHtml;\n",
              "          element.appendChild(docLink);\n",
              "        }\n",
              "      </script>\n",
              "    </div>\n",
              "  </div>\n",
              "  "
            ]
          },
          "metadata": {},
          "execution_count": 3
        }
      ]
    },
    {
      "cell_type": "markdown",
      "source": [
        "# **Preprocessing the dataset wherever there are NaN and [ ] empty lists, and applying functions for preprocessing**"
      ],
      "metadata": {
        "id": "uUVJo2rTiZ_S"
      }
    },
    {
      "cell_type": "code",
      "source": [
        "\n",
        "# Fill missing values with a specific value, such as \"Unknown\"\n",
        "dataset = dataset.fillna(\"Unknown\")\n",
        "\n",
        "# Replace empty lists with None\n",
        "dataset['hashtag'] = dataset['hashtag'].apply(lambda x: None if x == '[]' else x)\n",
        "\n",
        "\n",
        "dataset.head()"
      ],
      "metadata": {
        "colab": {
          "base_uri": "https://localhost:8080/",
          "height": 489
        },
        "id": "fe3dnveTg47M",
        "outputId": "29d25f1c-bca4-4a03-deab-da82fbb3345e"
      },
      "execution_count": 4,
      "outputs": [
        {
          "output_type": "execute_result",
          "data": {
            "text/plain": [
              "                    Datetime             Tweet Id  \\\n",
              "0  2023-01-22 13:44:34+00:00  1617156270871699456   \n",
              "1  2023-01-22 13:44:39+00:00  1617156291046133761   \n",
              "2  2023-01-22 13:44:44+00:00  1617156308926349312   \n",
              "3  2023-01-22 13:44:49+00:00  1617156332297256961   \n",
              "4  2023-01-22 13:44:52+00:00  1617156345064570880   \n",
              "\n",
              "                                                Text         Username  \\\n",
              "0  ChatGPTで遊ぶの忘れてた！！\\n書類作るコード書いてみてほしいのと、\\nどこまで思考整...      mochico0123   \n",
              "1  @AlexandrovnaIng Prohibition of ChatGPT has be...  Caput_LupinumSG   \n",
              "2  Schaut Euch an, was @fobizz @DianaKnodel alles...            ciffi   \n",
              "3  Bow down to chatGPT 🫡..... https://t.co/ENTSzi...    Vishwasrisiri   \n",
              "4  Profilinde vatan, Türkiye falan yazan bireyler...   0xGenetikciniz   \n",
              "\n",
              "                                           Permalink  \\\n",
              "0  https://twitter.com/mochico0123/status/1617156...   \n",
              "1  https://twitter.com/Caput_LupinumSG/status/161...   \n",
              "2  https://twitter.com/ciffi/status/1617156308926...   \n",
              "3  https://twitter.com/Vishwasrisiri/status/16171...   \n",
              "4  https://twitter.com/0xGenetikciniz/status/1617...   \n",
              "\n",
              "                                  User  \\\n",
              "0      https://twitter.com/mochico0123   \n",
              "1  https://twitter.com/Caput_LupinumSG   \n",
              "2            https://twitter.com/ciffi   \n",
              "3    https://twitter.com/Vishwasrisiri   \n",
              "4   https://twitter.com/0xGenetikciniz   \n",
              "\n",
              "                                            Outlinks  \\\n",
              "0                                            Unknown   \n",
              "1                                            Unknown   \n",
              "2  ['https://us02web.zoom.us/webinar/register/801...   \n",
              "3  ['https://twitter.com/agadmator/status/1617155...   \n",
              "4                                            Unknown   \n",
              "\n",
              "                                          CountLinks ReplyCount RetweetCount  \\\n",
              "0                                            Unknown        1.0          0.0   \n",
              "1                                            Unknown        1.0          0.0   \n",
              "2  ['https://t.co/DsoeVJrPBp', 'https://t.co/HflT...        0.0          0.0   \n",
              "3                        ['https://t.co/ENTSzi2AQ9']        0.0          0.0   \n",
              "4                                            Unknown        0.0          0.0   \n",
              "\n",
              "  LikeCount QuoteCount         ConversationId Language  \\\n",
              "0       5.0        0.0  1617156270871699456.0       ja   \n",
              "1       5.0        0.0  1617148639993806848.0       en   \n",
              "2       4.0        0.0  1617156308926349312.0       de   \n",
              "3       2.0        0.0  1617156332297256960.0       en   \n",
              "4       4.0        0.0  1617156345064570880.0       tr   \n",
              "\n",
              "                                              Source  \\\n",
              "0  <a href=\"http://twitter.com/download/iphone\" r...   \n",
              "1  <a href=\"http://twitter.com/download/iphone\" r...   \n",
              "2  <a href=\"http://twitter.com/#!/download/ipad\" ...   \n",
              "3  <a href=\"http://twitter.com/download/android\" ...   \n",
              "4  <a href=\"http://twitter.com/download/iphone\" r...   \n",
              "\n",
              "                                               Media  \\\n",
              "0                                            Unknown   \n",
              "1                                            Unknown   \n",
              "2  [Photo(previewUrl='https://pbs.twimg.com/media...   \n",
              "3                                            Unknown   \n",
              "4                                            Unknown   \n",
              "\n",
              "                                         QuotedTweet  \\\n",
              "0                                            Unknown   \n",
              "1                                            Unknown   \n",
              "2  https://twitter.com/DianaKnodel/status/1617153...   \n",
              "3  https://twitter.com/agadmator/status/161715501...   \n",
              "4                                            Unknown   \n",
              "\n",
              "                                      MentionedUsers       hashtag  \\\n",
              "0                                            Unknown          None   \n",
              "1  [User(username='AlexandrovnaIng', id=282705900...          None   \n",
              "2  [User(username='fobizz', id=884708145792253952...  ['#ChatGPT']   \n",
              "3                                            Unknown          None   \n",
              "4                                            Unknown          None   \n",
              "\n",
              "  hastag_counts  \n",
              "0           0.0  \n",
              "1           0.0  \n",
              "2           1.0  \n",
              "3           0.0  \n",
              "4           0.0  "
            ],
            "text/html": [
              "\n",
              "  <div id=\"df-b6dacb33-0d43-4dbc-9f56-006625b2d5e2\">\n",
              "    <div class=\"colab-df-container\">\n",
              "      <div>\n",
              "<style scoped>\n",
              "    .dataframe tbody tr th:only-of-type {\n",
              "        vertical-align: middle;\n",
              "    }\n",
              "\n",
              "    .dataframe tbody tr th {\n",
              "        vertical-align: top;\n",
              "    }\n",
              "\n",
              "    .dataframe thead th {\n",
              "        text-align: right;\n",
              "    }\n",
              "</style>\n",
              "<table border=\"1\" class=\"dataframe\">\n",
              "  <thead>\n",
              "    <tr style=\"text-align: right;\">\n",
              "      <th></th>\n",
              "      <th>Datetime</th>\n",
              "      <th>Tweet Id</th>\n",
              "      <th>Text</th>\n",
              "      <th>Username</th>\n",
              "      <th>Permalink</th>\n",
              "      <th>User</th>\n",
              "      <th>Outlinks</th>\n",
              "      <th>CountLinks</th>\n",
              "      <th>ReplyCount</th>\n",
              "      <th>RetweetCount</th>\n",
              "      <th>LikeCount</th>\n",
              "      <th>QuoteCount</th>\n",
              "      <th>ConversationId</th>\n",
              "      <th>Language</th>\n",
              "      <th>Source</th>\n",
              "      <th>Media</th>\n",
              "      <th>QuotedTweet</th>\n",
              "      <th>MentionedUsers</th>\n",
              "      <th>hashtag</th>\n",
              "      <th>hastag_counts</th>\n",
              "    </tr>\n",
              "  </thead>\n",
              "  <tbody>\n",
              "    <tr>\n",
              "      <th>0</th>\n",
              "      <td>2023-01-22 13:44:34+00:00</td>\n",
              "      <td>1617156270871699456</td>\n",
              "      <td>ChatGPTで遊ぶの忘れてた！！\\n書類作るコード書いてみてほしいのと、\\nどこまで思考整...</td>\n",
              "      <td>mochico0123</td>\n",
              "      <td>https://twitter.com/mochico0123/status/1617156...</td>\n",
              "      <td>https://twitter.com/mochico0123</td>\n",
              "      <td>Unknown</td>\n",
              "      <td>Unknown</td>\n",
              "      <td>1.0</td>\n",
              "      <td>0.0</td>\n",
              "      <td>5.0</td>\n",
              "      <td>0.0</td>\n",
              "      <td>1617156270871699456.0</td>\n",
              "      <td>ja</td>\n",
              "      <td>&lt;a href=\"http://twitter.com/download/iphone\" r...</td>\n",
              "      <td>Unknown</td>\n",
              "      <td>Unknown</td>\n",
              "      <td>Unknown</td>\n",
              "      <td>None</td>\n",
              "      <td>0.0</td>\n",
              "    </tr>\n",
              "    <tr>\n",
              "      <th>1</th>\n",
              "      <td>2023-01-22 13:44:39+00:00</td>\n",
              "      <td>1617156291046133761</td>\n",
              "      <td>@AlexandrovnaIng Prohibition of ChatGPT has be...</td>\n",
              "      <td>Caput_LupinumSG</td>\n",
              "      <td>https://twitter.com/Caput_LupinumSG/status/161...</td>\n",
              "      <td>https://twitter.com/Caput_LupinumSG</td>\n",
              "      <td>Unknown</td>\n",
              "      <td>Unknown</td>\n",
              "      <td>1.0</td>\n",
              "      <td>0.0</td>\n",
              "      <td>5.0</td>\n",
              "      <td>0.0</td>\n",
              "      <td>1617148639993806848.0</td>\n",
              "      <td>en</td>\n",
              "      <td>&lt;a href=\"http://twitter.com/download/iphone\" r...</td>\n",
              "      <td>Unknown</td>\n",
              "      <td>Unknown</td>\n",
              "      <td>[User(username='AlexandrovnaIng', id=282705900...</td>\n",
              "      <td>None</td>\n",
              "      <td>0.0</td>\n",
              "    </tr>\n",
              "    <tr>\n",
              "      <th>2</th>\n",
              "      <td>2023-01-22 13:44:44+00:00</td>\n",
              "      <td>1617156308926349312</td>\n",
              "      <td>Schaut Euch an, was @fobizz @DianaKnodel alles...</td>\n",
              "      <td>ciffi</td>\n",
              "      <td>https://twitter.com/ciffi/status/1617156308926...</td>\n",
              "      <td>https://twitter.com/ciffi</td>\n",
              "      <td>['https://us02web.zoom.us/webinar/register/801...</td>\n",
              "      <td>['https://t.co/DsoeVJrPBp', 'https://t.co/HflT...</td>\n",
              "      <td>0.0</td>\n",
              "      <td>0.0</td>\n",
              "      <td>4.0</td>\n",
              "      <td>0.0</td>\n",
              "      <td>1617156308926349312.0</td>\n",
              "      <td>de</td>\n",
              "      <td>&lt;a href=\"http://twitter.com/#!/download/ipad\" ...</td>\n",
              "      <td>[Photo(previewUrl='https://pbs.twimg.com/media...</td>\n",
              "      <td>https://twitter.com/DianaKnodel/status/1617153...</td>\n",
              "      <td>[User(username='fobizz', id=884708145792253952...</td>\n",
              "      <td>['#ChatGPT']</td>\n",
              "      <td>1.0</td>\n",
              "    </tr>\n",
              "    <tr>\n",
              "      <th>3</th>\n",
              "      <td>2023-01-22 13:44:49+00:00</td>\n",
              "      <td>1617156332297256961</td>\n",
              "      <td>Bow down to chatGPT 🫡..... https://t.co/ENTSzi...</td>\n",
              "      <td>Vishwasrisiri</td>\n",
              "      <td>https://twitter.com/Vishwasrisiri/status/16171...</td>\n",
              "      <td>https://twitter.com/Vishwasrisiri</td>\n",
              "      <td>['https://twitter.com/agadmator/status/1617155...</td>\n",
              "      <td>['https://t.co/ENTSzi2AQ9']</td>\n",
              "      <td>0.0</td>\n",
              "      <td>0.0</td>\n",
              "      <td>2.0</td>\n",
              "      <td>0.0</td>\n",
              "      <td>1617156332297256960.0</td>\n",
              "      <td>en</td>\n",
              "      <td>&lt;a href=\"http://twitter.com/download/android\" ...</td>\n",
              "      <td>Unknown</td>\n",
              "      <td>https://twitter.com/agadmator/status/161715501...</td>\n",
              "      <td>Unknown</td>\n",
              "      <td>None</td>\n",
              "      <td>0.0</td>\n",
              "    </tr>\n",
              "    <tr>\n",
              "      <th>4</th>\n",
              "      <td>2023-01-22 13:44:52+00:00</td>\n",
              "      <td>1617156345064570880</td>\n",
              "      <td>Profilinde vatan, Türkiye falan yazan bireyler...</td>\n",
              "      <td>0xGenetikciniz</td>\n",
              "      <td>https://twitter.com/0xGenetikciniz/status/1617...</td>\n",
              "      <td>https://twitter.com/0xGenetikciniz</td>\n",
              "      <td>Unknown</td>\n",
              "      <td>Unknown</td>\n",
              "      <td>0.0</td>\n",
              "      <td>0.0</td>\n",
              "      <td>4.0</td>\n",
              "      <td>0.0</td>\n",
              "      <td>1617156345064570880.0</td>\n",
              "      <td>tr</td>\n",
              "      <td>&lt;a href=\"http://twitter.com/download/iphone\" r...</td>\n",
              "      <td>Unknown</td>\n",
              "      <td>Unknown</td>\n",
              "      <td>Unknown</td>\n",
              "      <td>None</td>\n",
              "      <td>0.0</td>\n",
              "    </tr>\n",
              "  </tbody>\n",
              "</table>\n",
              "</div>\n",
              "      <button class=\"colab-df-convert\" onclick=\"convertToInteractive('df-b6dacb33-0d43-4dbc-9f56-006625b2d5e2')\"\n",
              "              title=\"Convert this dataframe to an interactive table.\"\n",
              "              style=\"display:none;\">\n",
              "        \n",
              "  <svg xmlns=\"http://www.w3.org/2000/svg\" height=\"24px\"viewBox=\"0 0 24 24\"\n",
              "       width=\"24px\">\n",
              "    <path d=\"M0 0h24v24H0V0z\" fill=\"none\"/>\n",
              "    <path d=\"M18.56 5.44l.94 2.06.94-2.06 2.06-.94-2.06-.94-.94-2.06-.94 2.06-2.06.94zm-11 1L8.5 8.5l.94-2.06 2.06-.94-2.06-.94L8.5 2.5l-.94 2.06-2.06.94zm10 10l.94 2.06.94-2.06 2.06-.94-2.06-.94-.94-2.06-.94 2.06-2.06.94z\"/><path d=\"M17.41 7.96l-1.37-1.37c-.4-.4-.92-.59-1.43-.59-.52 0-1.04.2-1.43.59L10.3 9.45l-7.72 7.72c-.78.78-.78 2.05 0 2.83L4 21.41c.39.39.9.59 1.41.59.51 0 1.02-.2 1.41-.59l7.78-7.78 2.81-2.81c.8-.78.8-2.07 0-2.86zM5.41 20L4 18.59l7.72-7.72 1.47 1.35L5.41 20z\"/>\n",
              "  </svg>\n",
              "      </button>\n",
              "      \n",
              "  <style>\n",
              "    .colab-df-container {\n",
              "      display:flex;\n",
              "      flex-wrap:wrap;\n",
              "      gap: 12px;\n",
              "    }\n",
              "\n",
              "    .colab-df-convert {\n",
              "      background-color: #E8F0FE;\n",
              "      border: none;\n",
              "      border-radius: 50%;\n",
              "      cursor: pointer;\n",
              "      display: none;\n",
              "      fill: #1967D2;\n",
              "      height: 32px;\n",
              "      padding: 0 0 0 0;\n",
              "      width: 32px;\n",
              "    }\n",
              "\n",
              "    .colab-df-convert:hover {\n",
              "      background-color: #E2EBFA;\n",
              "      box-shadow: 0px 1px 2px rgba(60, 64, 67, 0.3), 0px 1px 3px 1px rgba(60, 64, 67, 0.15);\n",
              "      fill: #174EA6;\n",
              "    }\n",
              "\n",
              "    [theme=dark] .colab-df-convert {\n",
              "      background-color: #3B4455;\n",
              "      fill: #D2E3FC;\n",
              "    }\n",
              "\n",
              "    [theme=dark] .colab-df-convert:hover {\n",
              "      background-color: #434B5C;\n",
              "      box-shadow: 0px 1px 3px 1px rgba(0, 0, 0, 0.15);\n",
              "      filter: drop-shadow(0px 1px 2px rgba(0, 0, 0, 0.3));\n",
              "      fill: #FFFFFF;\n",
              "    }\n",
              "  </style>\n",
              "\n",
              "      <script>\n",
              "        const buttonEl =\n",
              "          document.querySelector('#df-b6dacb33-0d43-4dbc-9f56-006625b2d5e2 button.colab-df-convert');\n",
              "        buttonEl.style.display =\n",
              "          google.colab.kernel.accessAllowed ? 'block' : 'none';\n",
              "\n",
              "        async function convertToInteractive(key) {\n",
              "          const element = document.querySelector('#df-b6dacb33-0d43-4dbc-9f56-006625b2d5e2');\n",
              "          const dataTable =\n",
              "            await google.colab.kernel.invokeFunction('convertToInteractive',\n",
              "                                                     [key], {});\n",
              "          if (!dataTable) return;\n",
              "\n",
              "          const docLinkHtml = 'Like what you see? Visit the ' +\n",
              "            '<a target=\"_blank\" href=https://colab.research.google.com/notebooks/data_table.ipynb>data table notebook</a>'\n",
              "            + ' to learn more about interactive tables.';\n",
              "          element.innerHTML = '';\n",
              "          dataTable['output_type'] = 'display_data';\n",
              "          await google.colab.output.renderOutput(dataTable, element);\n",
              "          const docLink = document.createElement('div');\n",
              "          docLink.innerHTML = docLinkHtml;\n",
              "          element.appendChild(docLink);\n",
              "        }\n",
              "      </script>\n",
              "    </div>\n",
              "  </div>\n",
              "  "
            ]
          },
          "metadata": {},
          "execution_count": 4
        }
      ]
    },
    {
      "cell_type": "code",
      "source": [
        "dataset.duplicated() #to see if there are any duplicate for the series values"
      ],
      "metadata": {
        "colab": {
          "base_uri": "https://localhost:8080/"
        },
        "id": "oV1zX6kmLhjy",
        "outputId": "18b40596-e727-4c3f-f58f-092931fe7d52"
      },
      "execution_count": 5,
      "outputs": [
        {
          "output_type": "execute_result",
          "data": {
            "text/plain": [
              "0       False\n",
              "1       False\n",
              "2       False\n",
              "3       False\n",
              "4       False\n",
              "        ...  \n",
              "2844    False\n",
              "2845    False\n",
              "2846    False\n",
              "2847    False\n",
              "2848    False\n",
              "Length: 2849, dtype: bool"
            ]
          },
          "metadata": {},
          "execution_count": 5
        }
      ]
    },
    {
      "cell_type": "code",
      "source": [
        "dataset.duplicated().sum() #to prove that there really is no duplicate"
      ],
      "metadata": {
        "colab": {
          "base_uri": "https://localhost:8080/"
        },
        "id": "NhmTwyY3LhmJ",
        "outputId": "a468a3e3-3758-4222-b438-69dd5baf3641"
      },
      "execution_count": 6,
      "outputs": [
        {
          "output_type": "execute_result",
          "data": {
            "text/plain": [
              "0"
            ]
          },
          "metadata": {},
          "execution_count": 6
        }
      ]
    },
    {
      "cell_type": "code",
      "source": [
        "dataset.isnull()"
      ],
      "metadata": {
        "colab": {
          "base_uri": "https://localhost:8080/",
          "height": 500
        },
        "id": "hMyb9_nWLhol",
        "outputId": "8db07352-dab7-4843-915f-f0605906f096"
      },
      "execution_count": 7,
      "outputs": [
        {
          "output_type": "execute_result",
          "data": {
            "text/plain": [
              "      Datetime  Tweet Id   Text  Username  Permalink   User  Outlinks  \\\n",
              "0        False     False  False     False      False  False     False   \n",
              "1        False     False  False     False      False  False     False   \n",
              "2        False     False  False     False      False  False     False   \n",
              "3        False     False  False     False      False  False     False   \n",
              "4        False     False  False     False      False  False     False   \n",
              "...        ...       ...    ...       ...        ...    ...       ...   \n",
              "2844     False     False  False     False      False  False     False   \n",
              "2845     False     False  False     False      False  False     False   \n",
              "2846     False     False  False     False      False  False     False   \n",
              "2847     False     False  False     False      False  False     False   \n",
              "2848     False     False  False     False      False  False     False   \n",
              "\n",
              "      CountLinks  ReplyCount  RetweetCount  LikeCount  QuoteCount  \\\n",
              "0          False       False         False      False       False   \n",
              "1          False       False         False      False       False   \n",
              "2          False       False         False      False       False   \n",
              "3          False       False         False      False       False   \n",
              "4          False       False         False      False       False   \n",
              "...          ...         ...           ...        ...         ...   \n",
              "2844       False       False         False      False       False   \n",
              "2845       False       False         False      False       False   \n",
              "2846       False       False         False      False       False   \n",
              "2847       False       False         False      False       False   \n",
              "2848       False       False         False      False       False   \n",
              "\n",
              "      ConversationId  Language  Source  Media  QuotedTweet  MentionedUsers  \\\n",
              "0              False     False   False  False        False           False   \n",
              "1              False     False   False  False        False           False   \n",
              "2              False     False   False  False        False           False   \n",
              "3              False     False   False  False        False           False   \n",
              "4              False     False   False  False        False           False   \n",
              "...              ...       ...     ...    ...          ...             ...   \n",
              "2844           False     False   False  False        False           False   \n",
              "2845           False     False   False  False        False           False   \n",
              "2846           False     False   False  False        False           False   \n",
              "2847           False     False   False  False        False           False   \n",
              "2848           False     False   False  False        False           False   \n",
              "\n",
              "      hashtag  hastag_counts  \n",
              "0        True          False  \n",
              "1        True          False  \n",
              "2       False          False  \n",
              "3        True          False  \n",
              "4        True          False  \n",
              "...       ...            ...  \n",
              "2844     True          False  \n",
              "2845     True          False  \n",
              "2846     True          False  \n",
              "2847     True          False  \n",
              "2848    False          False  \n",
              "\n",
              "[2849 rows x 20 columns]"
            ],
            "text/html": [
              "\n",
              "  <div id=\"df-3c842581-3624-4598-bd54-84a74d84abf7\">\n",
              "    <div class=\"colab-df-container\">\n",
              "      <div>\n",
              "<style scoped>\n",
              "    .dataframe tbody tr th:only-of-type {\n",
              "        vertical-align: middle;\n",
              "    }\n",
              "\n",
              "    .dataframe tbody tr th {\n",
              "        vertical-align: top;\n",
              "    }\n",
              "\n",
              "    .dataframe thead th {\n",
              "        text-align: right;\n",
              "    }\n",
              "</style>\n",
              "<table border=\"1\" class=\"dataframe\">\n",
              "  <thead>\n",
              "    <tr style=\"text-align: right;\">\n",
              "      <th></th>\n",
              "      <th>Datetime</th>\n",
              "      <th>Tweet Id</th>\n",
              "      <th>Text</th>\n",
              "      <th>Username</th>\n",
              "      <th>Permalink</th>\n",
              "      <th>User</th>\n",
              "      <th>Outlinks</th>\n",
              "      <th>CountLinks</th>\n",
              "      <th>ReplyCount</th>\n",
              "      <th>RetweetCount</th>\n",
              "      <th>LikeCount</th>\n",
              "      <th>QuoteCount</th>\n",
              "      <th>ConversationId</th>\n",
              "      <th>Language</th>\n",
              "      <th>Source</th>\n",
              "      <th>Media</th>\n",
              "      <th>QuotedTweet</th>\n",
              "      <th>MentionedUsers</th>\n",
              "      <th>hashtag</th>\n",
              "      <th>hastag_counts</th>\n",
              "    </tr>\n",
              "  </thead>\n",
              "  <tbody>\n",
              "    <tr>\n",
              "      <th>0</th>\n",
              "      <td>False</td>\n",
              "      <td>False</td>\n",
              "      <td>False</td>\n",
              "      <td>False</td>\n",
              "      <td>False</td>\n",
              "      <td>False</td>\n",
              "      <td>False</td>\n",
              "      <td>False</td>\n",
              "      <td>False</td>\n",
              "      <td>False</td>\n",
              "      <td>False</td>\n",
              "      <td>False</td>\n",
              "      <td>False</td>\n",
              "      <td>False</td>\n",
              "      <td>False</td>\n",
              "      <td>False</td>\n",
              "      <td>False</td>\n",
              "      <td>False</td>\n",
              "      <td>True</td>\n",
              "      <td>False</td>\n",
              "    </tr>\n",
              "    <tr>\n",
              "      <th>1</th>\n",
              "      <td>False</td>\n",
              "      <td>False</td>\n",
              "      <td>False</td>\n",
              "      <td>False</td>\n",
              "      <td>False</td>\n",
              "      <td>False</td>\n",
              "      <td>False</td>\n",
              "      <td>False</td>\n",
              "      <td>False</td>\n",
              "      <td>False</td>\n",
              "      <td>False</td>\n",
              "      <td>False</td>\n",
              "      <td>False</td>\n",
              "      <td>False</td>\n",
              "      <td>False</td>\n",
              "      <td>False</td>\n",
              "      <td>False</td>\n",
              "      <td>False</td>\n",
              "      <td>True</td>\n",
              "      <td>False</td>\n",
              "    </tr>\n",
              "    <tr>\n",
              "      <th>2</th>\n",
              "      <td>False</td>\n",
              "      <td>False</td>\n",
              "      <td>False</td>\n",
              "      <td>False</td>\n",
              "      <td>False</td>\n",
              "      <td>False</td>\n",
              "      <td>False</td>\n",
              "      <td>False</td>\n",
              "      <td>False</td>\n",
              "      <td>False</td>\n",
              "      <td>False</td>\n",
              "      <td>False</td>\n",
              "      <td>False</td>\n",
              "      <td>False</td>\n",
              "      <td>False</td>\n",
              "      <td>False</td>\n",
              "      <td>False</td>\n",
              "      <td>False</td>\n",
              "      <td>False</td>\n",
              "      <td>False</td>\n",
              "    </tr>\n",
              "    <tr>\n",
              "      <th>3</th>\n",
              "      <td>False</td>\n",
              "      <td>False</td>\n",
              "      <td>False</td>\n",
              "      <td>False</td>\n",
              "      <td>False</td>\n",
              "      <td>False</td>\n",
              "      <td>False</td>\n",
              "      <td>False</td>\n",
              "      <td>False</td>\n",
              "      <td>False</td>\n",
              "      <td>False</td>\n",
              "      <td>False</td>\n",
              "      <td>False</td>\n",
              "      <td>False</td>\n",
              "      <td>False</td>\n",
              "      <td>False</td>\n",
              "      <td>False</td>\n",
              "      <td>False</td>\n",
              "      <td>True</td>\n",
              "      <td>False</td>\n",
              "    </tr>\n",
              "    <tr>\n",
              "      <th>4</th>\n",
              "      <td>False</td>\n",
              "      <td>False</td>\n",
              "      <td>False</td>\n",
              "      <td>False</td>\n",
              "      <td>False</td>\n",
              "      <td>False</td>\n",
              "      <td>False</td>\n",
              "      <td>False</td>\n",
              "      <td>False</td>\n",
              "      <td>False</td>\n",
              "      <td>False</td>\n",
              "      <td>False</td>\n",
              "      <td>False</td>\n",
              "      <td>False</td>\n",
              "      <td>False</td>\n",
              "      <td>False</td>\n",
              "      <td>False</td>\n",
              "      <td>False</td>\n",
              "      <td>True</td>\n",
              "      <td>False</td>\n",
              "    </tr>\n",
              "    <tr>\n",
              "      <th>...</th>\n",
              "      <td>...</td>\n",
              "      <td>...</td>\n",
              "      <td>...</td>\n",
              "      <td>...</td>\n",
              "      <td>...</td>\n",
              "      <td>...</td>\n",
              "      <td>...</td>\n",
              "      <td>...</td>\n",
              "      <td>...</td>\n",
              "      <td>...</td>\n",
              "      <td>...</td>\n",
              "      <td>...</td>\n",
              "      <td>...</td>\n",
              "      <td>...</td>\n",
              "      <td>...</td>\n",
              "      <td>...</td>\n",
              "      <td>...</td>\n",
              "      <td>...</td>\n",
              "      <td>...</td>\n",
              "      <td>...</td>\n",
              "    </tr>\n",
              "    <tr>\n",
              "      <th>2844</th>\n",
              "      <td>False</td>\n",
              "      <td>False</td>\n",
              "      <td>False</td>\n",
              "      <td>False</td>\n",
              "      <td>False</td>\n",
              "      <td>False</td>\n",
              "      <td>False</td>\n",
              "      <td>False</td>\n",
              "      <td>False</td>\n",
              "      <td>False</td>\n",
              "      <td>False</td>\n",
              "      <td>False</td>\n",
              "      <td>False</td>\n",
              "      <td>False</td>\n",
              "      <td>False</td>\n",
              "      <td>False</td>\n",
              "      <td>False</td>\n",
              "      <td>False</td>\n",
              "      <td>True</td>\n",
              "      <td>False</td>\n",
              "    </tr>\n",
              "    <tr>\n",
              "      <th>2845</th>\n",
              "      <td>False</td>\n",
              "      <td>False</td>\n",
              "      <td>False</td>\n",
              "      <td>False</td>\n",
              "      <td>False</td>\n",
              "      <td>False</td>\n",
              "      <td>False</td>\n",
              "      <td>False</td>\n",
              "      <td>False</td>\n",
              "      <td>False</td>\n",
              "      <td>False</td>\n",
              "      <td>False</td>\n",
              "      <td>False</td>\n",
              "      <td>False</td>\n",
              "      <td>False</td>\n",
              "      <td>False</td>\n",
              "      <td>False</td>\n",
              "      <td>False</td>\n",
              "      <td>True</td>\n",
              "      <td>False</td>\n",
              "    </tr>\n",
              "    <tr>\n",
              "      <th>2846</th>\n",
              "      <td>False</td>\n",
              "      <td>False</td>\n",
              "      <td>False</td>\n",
              "      <td>False</td>\n",
              "      <td>False</td>\n",
              "      <td>False</td>\n",
              "      <td>False</td>\n",
              "      <td>False</td>\n",
              "      <td>False</td>\n",
              "      <td>False</td>\n",
              "      <td>False</td>\n",
              "      <td>False</td>\n",
              "      <td>False</td>\n",
              "      <td>False</td>\n",
              "      <td>False</td>\n",
              "      <td>False</td>\n",
              "      <td>False</td>\n",
              "      <td>False</td>\n",
              "      <td>True</td>\n",
              "      <td>False</td>\n",
              "    </tr>\n",
              "    <tr>\n",
              "      <th>2847</th>\n",
              "      <td>False</td>\n",
              "      <td>False</td>\n",
              "      <td>False</td>\n",
              "      <td>False</td>\n",
              "      <td>False</td>\n",
              "      <td>False</td>\n",
              "      <td>False</td>\n",
              "      <td>False</td>\n",
              "      <td>False</td>\n",
              "      <td>False</td>\n",
              "      <td>False</td>\n",
              "      <td>False</td>\n",
              "      <td>False</td>\n",
              "      <td>False</td>\n",
              "      <td>False</td>\n",
              "      <td>False</td>\n",
              "      <td>False</td>\n",
              "      <td>False</td>\n",
              "      <td>True</td>\n",
              "      <td>False</td>\n",
              "    </tr>\n",
              "    <tr>\n",
              "      <th>2848</th>\n",
              "      <td>False</td>\n",
              "      <td>False</td>\n",
              "      <td>False</td>\n",
              "      <td>False</td>\n",
              "      <td>False</td>\n",
              "      <td>False</td>\n",
              "      <td>False</td>\n",
              "      <td>False</td>\n",
              "      <td>False</td>\n",
              "      <td>False</td>\n",
              "      <td>False</td>\n",
              "      <td>False</td>\n",
              "      <td>False</td>\n",
              "      <td>False</td>\n",
              "      <td>False</td>\n",
              "      <td>False</td>\n",
              "      <td>False</td>\n",
              "      <td>False</td>\n",
              "      <td>False</td>\n",
              "      <td>False</td>\n",
              "    </tr>\n",
              "  </tbody>\n",
              "</table>\n",
              "<p>2849 rows × 20 columns</p>\n",
              "</div>\n",
              "      <button class=\"colab-df-convert\" onclick=\"convertToInteractive('df-3c842581-3624-4598-bd54-84a74d84abf7')\"\n",
              "              title=\"Convert this dataframe to an interactive table.\"\n",
              "              style=\"display:none;\">\n",
              "        \n",
              "  <svg xmlns=\"http://www.w3.org/2000/svg\" height=\"24px\"viewBox=\"0 0 24 24\"\n",
              "       width=\"24px\">\n",
              "    <path d=\"M0 0h24v24H0V0z\" fill=\"none\"/>\n",
              "    <path d=\"M18.56 5.44l.94 2.06.94-2.06 2.06-.94-2.06-.94-.94-2.06-.94 2.06-2.06.94zm-11 1L8.5 8.5l.94-2.06 2.06-.94-2.06-.94L8.5 2.5l-.94 2.06-2.06.94zm10 10l.94 2.06.94-2.06 2.06-.94-2.06-.94-.94-2.06-.94 2.06-2.06.94z\"/><path d=\"M17.41 7.96l-1.37-1.37c-.4-.4-.92-.59-1.43-.59-.52 0-1.04.2-1.43.59L10.3 9.45l-7.72 7.72c-.78.78-.78 2.05 0 2.83L4 21.41c.39.39.9.59 1.41.59.51 0 1.02-.2 1.41-.59l7.78-7.78 2.81-2.81c.8-.78.8-2.07 0-2.86zM5.41 20L4 18.59l7.72-7.72 1.47 1.35L5.41 20z\"/>\n",
              "  </svg>\n",
              "      </button>\n",
              "      \n",
              "  <style>\n",
              "    .colab-df-container {\n",
              "      display:flex;\n",
              "      flex-wrap:wrap;\n",
              "      gap: 12px;\n",
              "    }\n",
              "\n",
              "    .colab-df-convert {\n",
              "      background-color: #E8F0FE;\n",
              "      border: none;\n",
              "      border-radius: 50%;\n",
              "      cursor: pointer;\n",
              "      display: none;\n",
              "      fill: #1967D2;\n",
              "      height: 32px;\n",
              "      padding: 0 0 0 0;\n",
              "      width: 32px;\n",
              "    }\n",
              "\n",
              "    .colab-df-convert:hover {\n",
              "      background-color: #E2EBFA;\n",
              "      box-shadow: 0px 1px 2px rgba(60, 64, 67, 0.3), 0px 1px 3px 1px rgba(60, 64, 67, 0.15);\n",
              "      fill: #174EA6;\n",
              "    }\n",
              "\n",
              "    [theme=dark] .colab-df-convert {\n",
              "      background-color: #3B4455;\n",
              "      fill: #D2E3FC;\n",
              "    }\n",
              "\n",
              "    [theme=dark] .colab-df-convert:hover {\n",
              "      background-color: #434B5C;\n",
              "      box-shadow: 0px 1px 3px 1px rgba(0, 0, 0, 0.15);\n",
              "      filter: drop-shadow(0px 1px 2px rgba(0, 0, 0, 0.3));\n",
              "      fill: #FFFFFF;\n",
              "    }\n",
              "  </style>\n",
              "\n",
              "      <script>\n",
              "        const buttonEl =\n",
              "          document.querySelector('#df-3c842581-3624-4598-bd54-84a74d84abf7 button.colab-df-convert');\n",
              "        buttonEl.style.display =\n",
              "          google.colab.kernel.accessAllowed ? 'block' : 'none';\n",
              "\n",
              "        async function convertToInteractive(key) {\n",
              "          const element = document.querySelector('#df-3c842581-3624-4598-bd54-84a74d84abf7');\n",
              "          const dataTable =\n",
              "            await google.colab.kernel.invokeFunction('convertToInteractive',\n",
              "                                                     [key], {});\n",
              "          if (!dataTable) return;\n",
              "\n",
              "          const docLinkHtml = 'Like what you see? Visit the ' +\n",
              "            '<a target=\"_blank\" href=https://colab.research.google.com/notebooks/data_table.ipynb>data table notebook</a>'\n",
              "            + ' to learn more about interactive tables.';\n",
              "          element.innerHTML = '';\n",
              "          dataTable['output_type'] = 'display_data';\n",
              "          await google.colab.output.renderOutput(dataTable, element);\n",
              "          const docLink = document.createElement('div');\n",
              "          docLink.innerHTML = docLinkHtml;\n",
              "          element.appendChild(docLink);\n",
              "        }\n",
              "      </script>\n",
              "    </div>\n",
              "  </div>\n",
              "  "
            ]
          },
          "metadata": {},
          "execution_count": 7
        }
      ]
    },
    {
      "cell_type": "code",
      "source": [
        "dataset.isnull().sum() #checks if there are any null values for any column and then sums all the series values"
      ],
      "metadata": {
        "colab": {
          "base_uri": "https://localhost:8080/"
        },
        "id": "iKtuDg6pLhrF",
        "outputId": "32673d4a-3c1d-4e1b-ca33-fd204bbb1336"
      },
      "execution_count": 8,
      "outputs": [
        {
          "output_type": "execute_result",
          "data": {
            "text/plain": [
              "Datetime             0\n",
              "Tweet Id             0\n",
              "Text                 0\n",
              "Username             0\n",
              "Permalink            0\n",
              "User                 0\n",
              "Outlinks             0\n",
              "CountLinks           0\n",
              "ReplyCount           0\n",
              "RetweetCount         0\n",
              "LikeCount            0\n",
              "QuoteCount           0\n",
              "ConversationId       0\n",
              "Language             0\n",
              "Source               0\n",
              "Media                0\n",
              "QuotedTweet          0\n",
              "MentionedUsers       0\n",
              "hashtag           2076\n",
              "hastag_counts        0\n",
              "dtype: int64"
            ]
          },
          "metadata": {},
          "execution_count": 8
        }
      ]
    },
    {
      "cell_type": "markdown",
      "source": [
        "## **Below are the counts for Usernames, likes, replies, retweets and hashtags**"
      ],
      "metadata": {
        "id": "NnB50dtjQYQZ"
      }
    },
    {
      "cell_type": "code",
      "source": [
        "dataset.Username.value_counts()"
      ],
      "metadata": {
        "colab": {
          "base_uri": "https://localhost:8080/"
        },
        "id": "_EbXQlJELhtK",
        "outputId": "b5cac993-dc85-43e5-891e-9664be72570b"
      },
      "execution_count": 9,
      "outputs": [
        {
          "output_type": "execute_result",
          "data": {
            "text/plain": [
              "zaganos_pacha     8\n",
              "LluisMontoliu     8\n",
              "k_looked          7\n",
              "reopa_sharkun     6\n",
              "N3tyan_           6\n",
              "                 ..\n",
              "tom2rd            1\n",
              "CrazyDutchGuy1    1\n",
              "convl0            1\n",
              "Keyurshah3535     1\n",
              "Unknown           1\n",
              "Name: Username, Length: 2557, dtype: int64"
            ]
          },
          "metadata": {},
          "execution_count": 9
        }
      ]
    },
    {
      "cell_type": "code",
      "source": [
        "dataset.RetweetCount.value_counts()"
      ],
      "metadata": {
        "colab": {
          "base_uri": "https://localhost:8080/"
        },
        "id": "fECZdzcmLhvX",
        "outputId": "473a338b-f325-47e0-eb50-a3cd1617406e"
      },
      "execution_count": 10,
      "outputs": [
        {
          "output_type": "execute_result",
          "data": {
            "text/plain": [
              "0.0        2408\n",
              "1.0         234\n",
              "2.0          70\n",
              "3.0          28\n",
              "4.0          18\n",
              "5.0          11\n",
              "6.0           9\n",
              "7.0           7\n",
              "10.0          6\n",
              "12.0          6\n",
              "8.0           5\n",
              "15.0          3\n",
              "19.0          3\n",
              "18.0          3\n",
              "49.0          2\n",
              "34.0          2\n",
              "20.0          2\n",
              "31.0          2\n",
              "27.0          2\n",
              "11.0          2\n",
              "16.0          2\n",
              "26.0          2\n",
              "38.0          1\n",
              "17.0          1\n",
              "14.0          1\n",
              "125.0         1\n",
              "74.0          1\n",
              "461.0         1\n",
              "68.0          1\n",
              "13.0          1\n",
              "9.0           1\n",
              "23.0          1\n",
              "160.0         1\n",
              "37.0          1\n",
              "45.0          1\n",
              "58.0          1\n",
              "6815.0        1\n",
              "1094.0        1\n",
              "36.0          1\n",
              "39.0          1\n",
              "112.0         1\n",
              "40.0          1\n",
              "542.0         1\n",
              "Unknown       1\n",
              "Name: RetweetCount, dtype: int64"
            ]
          },
          "metadata": {},
          "execution_count": 10
        }
      ]
    },
    {
      "cell_type": "code",
      "source": [
        "dataset.LikeCount.value_counts()"
      ],
      "metadata": {
        "colab": {
          "base_uri": "https://localhost:8080/"
        },
        "id": "MojfAn7tLhxn",
        "outputId": "01f30890-a9cb-4bf4-e9f0-cbbb8a812490"
      },
      "execution_count": 11,
      "outputs": [
        {
          "output_type": "execute_result",
          "data": {
            "text/plain": [
              "0.0        1464\n",
              "1.0         537\n",
              "2.0         259\n",
              "3.0         132\n",
              "4.0          80\n",
              "           ... \n",
              "31.0          1\n",
              "131.0         1\n",
              "251.0         1\n",
              "86.0          1\n",
              "Unknown       1\n",
              "Name: LikeCount, Length: 100, dtype: int64"
            ]
          },
          "metadata": {},
          "execution_count": 11
        }
      ]
    },
    {
      "cell_type": "code",
      "source": [
        "dataset.hashtag.value_counts()"
      ],
      "metadata": {
        "colab": {
          "base_uri": "https://localhost:8080/"
        },
        "id": "vCIVRVmALh0O",
        "outputId": "590ce8be-74bc-4664-f5cf-141d165a57ce"
      },
      "execution_count": 12,
      "outputs": [
        {
          "output_type": "execute_result",
          "data": {
            "text/plain": [
              "['#ChatGPT']                                                             171\n",
              "['#chatGPT']                                                              32\n",
              "['#chatgpt']                                                              16\n",
              "['#ArtificialIntelligence']                                                9\n",
              "['#ChatGPT', '#AI']                                                        7\n",
              "                                                                        ... \n",
              "['#06']                                                                    1\n",
              "['#AI', '#TechnologyNews', '#Artificial_Intelligence']                     1\n",
              "['#chatgpt,']                                                              1\n",
              "['#ChatGPT', '#chatgpt3', '#wordpress', '#ai', '#free', '#freestuff']      1\n",
              "Unknown                                                                    1\n",
              "Name: hashtag, Length: 494, dtype: int64"
            ]
          },
          "metadata": {},
          "execution_count": 12
        }
      ]
    },
    {
      "cell_type": "code",
      "source": [
        "dataset.ReplyCount.value_counts()"
      ],
      "metadata": {
        "colab": {
          "base_uri": "https://localhost:8080/"
        },
        "id": "qx53pcfTLh2U",
        "outputId": "666124ff-fce6-4eba-f37b-9ad195837ed5"
      },
      "execution_count": 13,
      "outputs": [
        {
          "output_type": "execute_result",
          "data": {
            "text/plain": [
              "0.0        2011\n",
              "1.0         598\n",
              "2.0         107\n",
              "3.0          44\n",
              "5.0          14\n",
              "4.0          13\n",
              "7.0          11\n",
              "8.0           6\n",
              "9.0           5\n",
              "6.0           5\n",
              "10.0          5\n",
              "15.0          2\n",
              "17.0          2\n",
              "23.0          2\n",
              "11.0          2\n",
              "13.0          2\n",
              "43.0          1\n",
              "20.0          1\n",
              "111.0         1\n",
              "29.0          1\n",
              "164.0         1\n",
              "286.0         1\n",
              "28.0          1\n",
              "12.0          1\n",
              "69.0          1\n",
              "1421.0        1\n",
              "3098.0        1\n",
              "21.0          1\n",
              "34.0          1\n",
              "54.0          1\n",
              "22.0          1\n",
              "126.0         1\n",
              "149.0         1\n",
              "209.0         1\n",
              "37.0          1\n",
              "Unknown       1\n",
              "Name: ReplyCount, dtype: int64"
            ]
          },
          "metadata": {},
          "execution_count": 13
        }
      ]
    },
    {
      "cell_type": "markdown",
      "source": [
        "# **QUESTION 1 PART 1: SENTIMENTAL ANALYSIS**"
      ],
      "metadata": {
        "id": "t6p_x8yGcn5m"
      }
    },
    {
      "cell_type": "code",
      "source": [
        "#importing all the important libraries for preprocessing using NLTK\n",
        "import nltk\n",
        "from nltk import word_tokenize, FreqDist\n",
        "from nltk.corpus import stopwords\n",
        "from nltk.stem import WordNetLemmatizer\n",
        "nltk.download\n",
        "nltk.download('wordnet')\n",
        "nltk.download('stopwords')\n",
        "from nltk.tokenize import TweetTokenizer"
      ],
      "metadata": {
        "colab": {
          "base_uri": "https://localhost:8080/"
        },
        "id": "ItNBb3JGVDzz",
        "outputId": "be53fb43-c995-47d7-998d-3e909b024116"
      },
      "execution_count": 14,
      "outputs": [
        {
          "output_type": "stream",
          "name": "stderr",
          "text": [
            "[nltk_data] Downloading package wordnet to /root/nltk_data...\n",
            "[nltk_data]   Package wordnet is already up-to-date!\n",
            "[nltk_data] Downloading package stopwords to /root/nltk_data...\n",
            "[nltk_data]   Package stopwords is already up-to-date!\n"
          ]
        }
      ]
    },
    {
      "cell_type": "markdown",
      "source": [
        "## **Preprocessing the Texts so that Sentimental Analysis can be applied**"
      ],
      "metadata": {
        "id": "HrMGHOVcb0Xv"
      }
    },
    {
      "cell_type": "code",
      "source": [
        "def preprocessing_text(text):\n",
        "    if isinstance(text, str):  # Check if text is a string\n",
        "        # Remove URLs\n",
        "        text = re.sub(r\"http\\S+|www\\S+|https\\S+\", \"\", text)\n",
        "\n",
        "        # Remove usernames starting with @\n",
        "        text = re.sub(r\"@[^\\s]+\", \"\", text)\n",
        "\n",
        "        # Remove non-alphanumeric characters and convert to lowercase\n",
        "        text = re.sub(r\"[^a-zA-Z0-9]\", \" \", text.lower())\n",
        "\n",
        "        # Tokenize the text\n",
        "        tokens = word_tokenize(text)\n",
        "\n",
        "        # Remove stopwords\n",
        "        stop_words = set(stopwords.words(\"english\"))\n",
        "        filtered_tokens = [token for token in tokens if token not in stop_words]\n",
        "\n",
        "        # Join the tokens back into a single string\n",
        "        processed_text = \" \".join(filtered_tokens)\n",
        "\n",
        "        return processed_text\n",
        "    else:\n",
        "        return \"\"  # Return an empty string for non-string inputs\n",
        "\n"
      ],
      "metadata": {
        "id": "wunZZ_uRLiGf"
      },
      "execution_count": 15,
      "outputs": []
    },
    {
      "cell_type": "code",
      "source": [
        "nltk.download('punkt')"
      ],
      "metadata": {
        "colab": {
          "base_uri": "https://localhost:8080/"
        },
        "id": "A2wxP2wJWTMi",
        "outputId": "c2d3968f-8002-440e-97cf-5159003d0991"
      },
      "execution_count": 16,
      "outputs": [
        {
          "output_type": "stream",
          "name": "stderr",
          "text": [
            "[nltk_data] Downloading package punkt to /root/nltk_data...\n",
            "[nltk_data]   Unzipping tokenizers/punkt.zip.\n"
          ]
        },
        {
          "output_type": "execute_result",
          "data": {
            "text/plain": [
              "True"
            ]
          },
          "metadata": {},
          "execution_count": 16
        }
      ]
    },
    {
      "cell_type": "code",
      "source": [
        "# Apply preprocessing to the \"Text\" column\n",
        "dataset[\"ProcessedText\"] = dataset[\"Text\"].apply(preprocessing_text)"
      ],
      "metadata": {
        "id": "HgrR-YSoLiLZ"
      },
      "execution_count": 17,
      "outputs": []
    },
    {
      "cell_type": "code",
      "source": [
        "\n",
        "# Print the preprocessed data\n",
        "print(dataset[\"ProcessedText\"])"
      ],
      "metadata": {
        "colab": {
          "base_uri": "https://localhost:8080/"
        },
        "id": "sOyBYrkgLiNv",
        "outputId": "6b89d7e9-469c-436c-c35d-b29091dfdeba"
      },
      "execution_count": 18,
      "outputs": [
        {
          "output_type": "stream",
          "name": "stdout",
          "text": [
            "0                                                 chatgpt\n",
            "1       prohibition chatgpt added honor code daughter ...\n",
            "2       schaut euch alles auf die piste bringt um euch...\n",
            "3                                             bow chatgpt\n",
            "4       profilinde vatan rkiye falan yazan bireylerin ...\n",
            "                              ...                        \n",
            "2844    fun watch chatgpt get simple history questions...\n",
            "2845    je nachdem wie h ufig ich davon abgehalten wer...\n",
            "2846                       chatgpt chatgpt capacity right\n",
            "2847                                         chatgpt html\n",
            "2848    openai est trabalhando em um ritmo mais lento ...\n",
            "Name: ProcessedText, Length: 2849, dtype: object\n"
          ]
        }
      ]
    },
    {
      "cell_type": "markdown",
      "source": [
        "# **Code for Sentimental Analysis**"
      ],
      "metadata": {
        "id": "SJZ6UUixgOBS"
      }
    },
    {
      "cell_type": "code",
      "source": [
        "from wordcloud import WordCloud, STOPWORDS\n",
        "from sklearn.decomposition import LatentDirichletAllocation\n",
        "from collections import Counter\n",
        "from nltk.sentiment import SentimentIntensityAnalyzer\n",
        "from textblob import TextBlob\n",
        "nltk.download('vader_lexicon')"
      ],
      "metadata": {
        "colab": {
          "base_uri": "https://localhost:8080/"
        },
        "id": "YiClg-owX0UL",
        "outputId": "c206fbae-0795-4378-8fa6-f18a896a67e4"
      },
      "execution_count": 19,
      "outputs": [
        {
          "output_type": "stream",
          "name": "stderr",
          "text": [
            "[nltk_data] Downloading package vader_lexicon to /root/nltk_data...\n"
          ]
        },
        {
          "output_type": "execute_result",
          "data": {
            "text/plain": [
              "True"
            ]
          },
          "metadata": {},
          "execution_count": 19
        }
      ]
    },
    {
      "cell_type": "code",
      "source": [
        "sentiment_analysis = SentimentIntensityAnalyzer()\n",
        "\n",
        "#the conditions for Labelling the preprocessed texts\n",
        "#Positive: 1, Neutral: 0, Negative: -1\n",
        "def sentiment_type(tweet):\n",
        "    try:\n",
        "        if sentiment_analysis.polarity_scores(tweet)['compound'] > 0:\n",
        "            return \"Positive\"\n",
        "        elif sentiment_analysis.polarity_scores(tweet)['compound'] < 0:\n",
        "            return \"Negative\"\n",
        "        else:\n",
        "            return \"Neutral\"\n",
        "    except:\n",
        "        return \"Neutral\""
      ],
      "metadata": {
        "id": "Si3yD7YoLiQF"
      },
      "execution_count": 20,
      "outputs": []
    },
    {
      "cell_type": "code",
      "source": [
        "#Adding the new sentimented texts into the dataset with their labels\n",
        "dataset['Sentimented_Texts'] = dataset['Text'].apply(lambda x: sentiment_type(x))"
      ],
      "metadata": {
        "id": "snlByw0DLiSb"
      },
      "execution_count": 21,
      "outputs": []
    },
    {
      "cell_type": "code",
      "source": [
        "dataset['Sentimented_Texts'].value_counts()"
      ],
      "metadata": {
        "colab": {
          "base_uri": "https://localhost:8080/"
        },
        "id": "76tfwaONLiUQ",
        "outputId": "61b6260b-5af4-4d70-9936-b583faa26fea"
      },
      "execution_count": 22,
      "outputs": [
        {
          "output_type": "execute_result",
          "data": {
            "text/plain": [
              "Neutral     1512\n",
              "Positive     894\n",
              "Negative     443\n",
              "Name: Sentimented_Texts, dtype: int64"
            ]
          },
          "metadata": {},
          "execution_count": 22
        }
      ]
    },
    {
      "cell_type": "code",
      "source": [
        "dataset.head()"
      ],
      "metadata": {
        "colab": {
          "base_uri": "https://localhost:8080/",
          "height": 535
        },
        "id": "XRw4SfG5LiWn",
        "outputId": "d40da3e0-8487-4a16-dc99-496b26ed7448"
      },
      "execution_count": 23,
      "outputs": [
        {
          "output_type": "execute_result",
          "data": {
            "text/plain": [
              "                    Datetime             Tweet Id  \\\n",
              "0  2023-01-22 13:44:34+00:00  1617156270871699456   \n",
              "1  2023-01-22 13:44:39+00:00  1617156291046133761   \n",
              "2  2023-01-22 13:44:44+00:00  1617156308926349312   \n",
              "3  2023-01-22 13:44:49+00:00  1617156332297256961   \n",
              "4  2023-01-22 13:44:52+00:00  1617156345064570880   \n",
              "\n",
              "                                                Text         Username  \\\n",
              "0  ChatGPTで遊ぶの忘れてた！！\\n書類作るコード書いてみてほしいのと、\\nどこまで思考整...      mochico0123   \n",
              "1  @AlexandrovnaIng Prohibition of ChatGPT has be...  Caput_LupinumSG   \n",
              "2  Schaut Euch an, was @fobizz @DianaKnodel alles...            ciffi   \n",
              "3  Bow down to chatGPT 🫡..... https://t.co/ENTSzi...    Vishwasrisiri   \n",
              "4  Profilinde vatan, Türkiye falan yazan bireyler...   0xGenetikciniz   \n",
              "\n",
              "                                           Permalink  \\\n",
              "0  https://twitter.com/mochico0123/status/1617156...   \n",
              "1  https://twitter.com/Caput_LupinumSG/status/161...   \n",
              "2  https://twitter.com/ciffi/status/1617156308926...   \n",
              "3  https://twitter.com/Vishwasrisiri/status/16171...   \n",
              "4  https://twitter.com/0xGenetikciniz/status/1617...   \n",
              "\n",
              "                                  User  \\\n",
              "0      https://twitter.com/mochico0123   \n",
              "1  https://twitter.com/Caput_LupinumSG   \n",
              "2            https://twitter.com/ciffi   \n",
              "3    https://twitter.com/Vishwasrisiri   \n",
              "4   https://twitter.com/0xGenetikciniz   \n",
              "\n",
              "                                            Outlinks  \\\n",
              "0                                            Unknown   \n",
              "1                                            Unknown   \n",
              "2  ['https://us02web.zoom.us/webinar/register/801...   \n",
              "3  ['https://twitter.com/agadmator/status/1617155...   \n",
              "4                                            Unknown   \n",
              "\n",
              "                                          CountLinks ReplyCount RetweetCount  \\\n",
              "0                                            Unknown        1.0          0.0   \n",
              "1                                            Unknown        1.0          0.0   \n",
              "2  ['https://t.co/DsoeVJrPBp', 'https://t.co/HflT...        0.0          0.0   \n",
              "3                        ['https://t.co/ENTSzi2AQ9']        0.0          0.0   \n",
              "4                                            Unknown        0.0          0.0   \n",
              "\n",
              "   ...         ConversationId Language  \\\n",
              "0  ...  1617156270871699456.0       ja   \n",
              "1  ...  1617148639993806848.0       en   \n",
              "2  ...  1617156308926349312.0       de   \n",
              "3  ...  1617156332297256960.0       en   \n",
              "4  ...  1617156345064570880.0       tr   \n",
              "\n",
              "                                              Source  \\\n",
              "0  <a href=\"http://twitter.com/download/iphone\" r...   \n",
              "1  <a href=\"http://twitter.com/download/iphone\" r...   \n",
              "2  <a href=\"http://twitter.com/#!/download/ipad\" ...   \n",
              "3  <a href=\"http://twitter.com/download/android\" ...   \n",
              "4  <a href=\"http://twitter.com/download/iphone\" r...   \n",
              "\n",
              "                                               Media  \\\n",
              "0                                            Unknown   \n",
              "1                                            Unknown   \n",
              "2  [Photo(previewUrl='https://pbs.twimg.com/media...   \n",
              "3                                            Unknown   \n",
              "4                                            Unknown   \n",
              "\n",
              "                                         QuotedTweet  \\\n",
              "0                                            Unknown   \n",
              "1                                            Unknown   \n",
              "2  https://twitter.com/DianaKnodel/status/1617153...   \n",
              "3  https://twitter.com/agadmator/status/161715501...   \n",
              "4                                            Unknown   \n",
              "\n",
              "                                      MentionedUsers       hashtag  \\\n",
              "0                                            Unknown          None   \n",
              "1  [User(username='AlexandrovnaIng', id=282705900...          None   \n",
              "2  [User(username='fobizz', id=884708145792253952...  ['#ChatGPT']   \n",
              "3                                            Unknown          None   \n",
              "4                                            Unknown          None   \n",
              "\n",
              "  hastag_counts                                      ProcessedText  \\\n",
              "0           0.0                                            chatgpt   \n",
              "1           0.0  prohibition chatgpt added honor code daughter ...   \n",
              "2           1.0  schaut euch alles auf die piste bringt um euch...   \n",
              "3           0.0                                        bow chatgpt   \n",
              "4           0.0  profilinde vatan rkiye falan yazan bireylerin ...   \n",
              "\n",
              "  Sentimented_Texts  \n",
              "0           Neutral  \n",
              "1          Positive  \n",
              "2          Negative  \n",
              "3           Neutral  \n",
              "4           Neutral  \n",
              "\n",
              "[5 rows x 22 columns]"
            ],
            "text/html": [
              "\n",
              "  <div id=\"df-726a077b-2e69-40ff-a97d-06465a4319b4\">\n",
              "    <div class=\"colab-df-container\">\n",
              "      <div>\n",
              "<style scoped>\n",
              "    .dataframe tbody tr th:only-of-type {\n",
              "        vertical-align: middle;\n",
              "    }\n",
              "\n",
              "    .dataframe tbody tr th {\n",
              "        vertical-align: top;\n",
              "    }\n",
              "\n",
              "    .dataframe thead th {\n",
              "        text-align: right;\n",
              "    }\n",
              "</style>\n",
              "<table border=\"1\" class=\"dataframe\">\n",
              "  <thead>\n",
              "    <tr style=\"text-align: right;\">\n",
              "      <th></th>\n",
              "      <th>Datetime</th>\n",
              "      <th>Tweet Id</th>\n",
              "      <th>Text</th>\n",
              "      <th>Username</th>\n",
              "      <th>Permalink</th>\n",
              "      <th>User</th>\n",
              "      <th>Outlinks</th>\n",
              "      <th>CountLinks</th>\n",
              "      <th>ReplyCount</th>\n",
              "      <th>RetweetCount</th>\n",
              "      <th>...</th>\n",
              "      <th>ConversationId</th>\n",
              "      <th>Language</th>\n",
              "      <th>Source</th>\n",
              "      <th>Media</th>\n",
              "      <th>QuotedTweet</th>\n",
              "      <th>MentionedUsers</th>\n",
              "      <th>hashtag</th>\n",
              "      <th>hastag_counts</th>\n",
              "      <th>ProcessedText</th>\n",
              "      <th>Sentimented_Texts</th>\n",
              "    </tr>\n",
              "  </thead>\n",
              "  <tbody>\n",
              "    <tr>\n",
              "      <th>0</th>\n",
              "      <td>2023-01-22 13:44:34+00:00</td>\n",
              "      <td>1617156270871699456</td>\n",
              "      <td>ChatGPTで遊ぶの忘れてた！！\\n書類作るコード書いてみてほしいのと、\\nどこまで思考整...</td>\n",
              "      <td>mochico0123</td>\n",
              "      <td>https://twitter.com/mochico0123/status/1617156...</td>\n",
              "      <td>https://twitter.com/mochico0123</td>\n",
              "      <td>Unknown</td>\n",
              "      <td>Unknown</td>\n",
              "      <td>1.0</td>\n",
              "      <td>0.0</td>\n",
              "      <td>...</td>\n",
              "      <td>1617156270871699456.0</td>\n",
              "      <td>ja</td>\n",
              "      <td>&lt;a href=\"http://twitter.com/download/iphone\" r...</td>\n",
              "      <td>Unknown</td>\n",
              "      <td>Unknown</td>\n",
              "      <td>Unknown</td>\n",
              "      <td>None</td>\n",
              "      <td>0.0</td>\n",
              "      <td>chatgpt</td>\n",
              "      <td>Neutral</td>\n",
              "    </tr>\n",
              "    <tr>\n",
              "      <th>1</th>\n",
              "      <td>2023-01-22 13:44:39+00:00</td>\n",
              "      <td>1617156291046133761</td>\n",
              "      <td>@AlexandrovnaIng Prohibition of ChatGPT has be...</td>\n",
              "      <td>Caput_LupinumSG</td>\n",
              "      <td>https://twitter.com/Caput_LupinumSG/status/161...</td>\n",
              "      <td>https://twitter.com/Caput_LupinumSG</td>\n",
              "      <td>Unknown</td>\n",
              "      <td>Unknown</td>\n",
              "      <td>1.0</td>\n",
              "      <td>0.0</td>\n",
              "      <td>...</td>\n",
              "      <td>1617148639993806848.0</td>\n",
              "      <td>en</td>\n",
              "      <td>&lt;a href=\"http://twitter.com/download/iphone\" r...</td>\n",
              "      <td>Unknown</td>\n",
              "      <td>Unknown</td>\n",
              "      <td>[User(username='AlexandrovnaIng', id=282705900...</td>\n",
              "      <td>None</td>\n",
              "      <td>0.0</td>\n",
              "      <td>prohibition chatgpt added honor code daughter ...</td>\n",
              "      <td>Positive</td>\n",
              "    </tr>\n",
              "    <tr>\n",
              "      <th>2</th>\n",
              "      <td>2023-01-22 13:44:44+00:00</td>\n",
              "      <td>1617156308926349312</td>\n",
              "      <td>Schaut Euch an, was @fobizz @DianaKnodel alles...</td>\n",
              "      <td>ciffi</td>\n",
              "      <td>https://twitter.com/ciffi/status/1617156308926...</td>\n",
              "      <td>https://twitter.com/ciffi</td>\n",
              "      <td>['https://us02web.zoom.us/webinar/register/801...</td>\n",
              "      <td>['https://t.co/DsoeVJrPBp', 'https://t.co/HflT...</td>\n",
              "      <td>0.0</td>\n",
              "      <td>0.0</td>\n",
              "      <td>...</td>\n",
              "      <td>1617156308926349312.0</td>\n",
              "      <td>de</td>\n",
              "      <td>&lt;a href=\"http://twitter.com/#!/download/ipad\" ...</td>\n",
              "      <td>[Photo(previewUrl='https://pbs.twimg.com/media...</td>\n",
              "      <td>https://twitter.com/DianaKnodel/status/1617153...</td>\n",
              "      <td>[User(username='fobizz', id=884708145792253952...</td>\n",
              "      <td>['#ChatGPT']</td>\n",
              "      <td>1.0</td>\n",
              "      <td>schaut euch alles auf die piste bringt um euch...</td>\n",
              "      <td>Negative</td>\n",
              "    </tr>\n",
              "    <tr>\n",
              "      <th>3</th>\n",
              "      <td>2023-01-22 13:44:49+00:00</td>\n",
              "      <td>1617156332297256961</td>\n",
              "      <td>Bow down to chatGPT 🫡..... https://t.co/ENTSzi...</td>\n",
              "      <td>Vishwasrisiri</td>\n",
              "      <td>https://twitter.com/Vishwasrisiri/status/16171...</td>\n",
              "      <td>https://twitter.com/Vishwasrisiri</td>\n",
              "      <td>['https://twitter.com/agadmator/status/1617155...</td>\n",
              "      <td>['https://t.co/ENTSzi2AQ9']</td>\n",
              "      <td>0.0</td>\n",
              "      <td>0.0</td>\n",
              "      <td>...</td>\n",
              "      <td>1617156332297256960.0</td>\n",
              "      <td>en</td>\n",
              "      <td>&lt;a href=\"http://twitter.com/download/android\" ...</td>\n",
              "      <td>Unknown</td>\n",
              "      <td>https://twitter.com/agadmator/status/161715501...</td>\n",
              "      <td>Unknown</td>\n",
              "      <td>None</td>\n",
              "      <td>0.0</td>\n",
              "      <td>bow chatgpt</td>\n",
              "      <td>Neutral</td>\n",
              "    </tr>\n",
              "    <tr>\n",
              "      <th>4</th>\n",
              "      <td>2023-01-22 13:44:52+00:00</td>\n",
              "      <td>1617156345064570880</td>\n",
              "      <td>Profilinde vatan, Türkiye falan yazan bireyler...</td>\n",
              "      <td>0xGenetikciniz</td>\n",
              "      <td>https://twitter.com/0xGenetikciniz/status/1617...</td>\n",
              "      <td>https://twitter.com/0xGenetikciniz</td>\n",
              "      <td>Unknown</td>\n",
              "      <td>Unknown</td>\n",
              "      <td>0.0</td>\n",
              "      <td>0.0</td>\n",
              "      <td>...</td>\n",
              "      <td>1617156345064570880.0</td>\n",
              "      <td>tr</td>\n",
              "      <td>&lt;a href=\"http://twitter.com/download/iphone\" r...</td>\n",
              "      <td>Unknown</td>\n",
              "      <td>Unknown</td>\n",
              "      <td>Unknown</td>\n",
              "      <td>None</td>\n",
              "      <td>0.0</td>\n",
              "      <td>profilinde vatan rkiye falan yazan bireylerin ...</td>\n",
              "      <td>Neutral</td>\n",
              "    </tr>\n",
              "  </tbody>\n",
              "</table>\n",
              "<p>5 rows × 22 columns</p>\n",
              "</div>\n",
              "      <button class=\"colab-df-convert\" onclick=\"convertToInteractive('df-726a077b-2e69-40ff-a97d-06465a4319b4')\"\n",
              "              title=\"Convert this dataframe to an interactive table.\"\n",
              "              style=\"display:none;\">\n",
              "        \n",
              "  <svg xmlns=\"http://www.w3.org/2000/svg\" height=\"24px\"viewBox=\"0 0 24 24\"\n",
              "       width=\"24px\">\n",
              "    <path d=\"M0 0h24v24H0V0z\" fill=\"none\"/>\n",
              "    <path d=\"M18.56 5.44l.94 2.06.94-2.06 2.06-.94-2.06-.94-.94-2.06-.94 2.06-2.06.94zm-11 1L8.5 8.5l.94-2.06 2.06-.94-2.06-.94L8.5 2.5l-.94 2.06-2.06.94zm10 10l.94 2.06.94-2.06 2.06-.94-2.06-.94-.94-2.06-.94 2.06-2.06.94z\"/><path d=\"M17.41 7.96l-1.37-1.37c-.4-.4-.92-.59-1.43-.59-.52 0-1.04.2-1.43.59L10.3 9.45l-7.72 7.72c-.78.78-.78 2.05 0 2.83L4 21.41c.39.39.9.59 1.41.59.51 0 1.02-.2 1.41-.59l7.78-7.78 2.81-2.81c.8-.78.8-2.07 0-2.86zM5.41 20L4 18.59l7.72-7.72 1.47 1.35L5.41 20z\"/>\n",
              "  </svg>\n",
              "      </button>\n",
              "      \n",
              "  <style>\n",
              "    .colab-df-container {\n",
              "      display:flex;\n",
              "      flex-wrap:wrap;\n",
              "      gap: 12px;\n",
              "    }\n",
              "\n",
              "    .colab-df-convert {\n",
              "      background-color: #E8F0FE;\n",
              "      border: none;\n",
              "      border-radius: 50%;\n",
              "      cursor: pointer;\n",
              "      display: none;\n",
              "      fill: #1967D2;\n",
              "      height: 32px;\n",
              "      padding: 0 0 0 0;\n",
              "      width: 32px;\n",
              "    }\n",
              "\n",
              "    .colab-df-convert:hover {\n",
              "      background-color: #E2EBFA;\n",
              "      box-shadow: 0px 1px 2px rgba(60, 64, 67, 0.3), 0px 1px 3px 1px rgba(60, 64, 67, 0.15);\n",
              "      fill: #174EA6;\n",
              "    }\n",
              "\n",
              "    [theme=dark] .colab-df-convert {\n",
              "      background-color: #3B4455;\n",
              "      fill: #D2E3FC;\n",
              "    }\n",
              "\n",
              "    [theme=dark] .colab-df-convert:hover {\n",
              "      background-color: #434B5C;\n",
              "      box-shadow: 0px 1px 3px 1px rgba(0, 0, 0, 0.15);\n",
              "      filter: drop-shadow(0px 1px 2px rgba(0, 0, 0, 0.3));\n",
              "      fill: #FFFFFF;\n",
              "    }\n",
              "  </style>\n",
              "\n",
              "      <script>\n",
              "        const buttonEl =\n",
              "          document.querySelector('#df-726a077b-2e69-40ff-a97d-06465a4319b4 button.colab-df-convert');\n",
              "        buttonEl.style.display =\n",
              "          google.colab.kernel.accessAllowed ? 'block' : 'none';\n",
              "\n",
              "        async function convertToInteractive(key) {\n",
              "          const element = document.querySelector('#df-726a077b-2e69-40ff-a97d-06465a4319b4');\n",
              "          const dataTable =\n",
              "            await google.colab.kernel.invokeFunction('convertToInteractive',\n",
              "                                                     [key], {});\n",
              "          if (!dataTable) return;\n",
              "\n",
              "          const docLinkHtml = 'Like what you see? Visit the ' +\n",
              "            '<a target=\"_blank\" href=https://colab.research.google.com/notebooks/data_table.ipynb>data table notebook</a>'\n",
              "            + ' to learn more about interactive tables.';\n",
              "          element.innerHTML = '';\n",
              "          dataTable['output_type'] = 'display_data';\n",
              "          await google.colab.output.renderOutput(dataTable, element);\n",
              "          const docLink = document.createElement('div');\n",
              "          docLink.innerHTML = docLinkHtml;\n",
              "          element.appendChild(docLink);\n",
              "        }\n",
              "      </script>\n",
              "    </div>\n",
              "  </div>\n",
              "  "
            ]
          },
          "metadata": {},
          "execution_count": 23
        }
      ]
    },
    {
      "cell_type": "code",
      "source": [],
      "metadata": {
        "id": "SZ6cQqEkxwOb"
      },
      "execution_count": null,
      "outputs": []
    },
    {
      "cell_type": "markdown",
      "source": [
        "# **QUESTION 1 PART 2: USER CLASSIFICATION**"
      ],
      "metadata": {
        "id": "7QN2eX0jcxWo"
      }
    },
    {
      "cell_type": "code",
      "source": [
        "from sklearn.model_selection import train_test_split\n",
        "from sklearn.neighbors import KNeighborsClassifier\n",
        "from sklearn.metrics import accuracy_score\n",
        "from sklearn.preprocessing import LabelEncoder"
      ],
      "metadata": {
        "id": "49oIIDWvdVkl"
      },
      "execution_count": 35,
      "outputs": []
    },
    {
      "cell_type": "code",
      "source": [
        "\n",
        "\n",
        "# Convert 'ProcessedText' and 'Username' columns to numerical representation\n",
        "text_encoder = LabelEncoder()\n",
        "dataset['ProcessedText'] = text_encoder.fit_transform(dataset['ProcessedText'])\n",
        "\n",
        "username_encoder = LabelEncoder()\n",
        "dataset['Username'] = username_encoder.fit_transform(dataset['Username'])"
      ],
      "metadata": {
        "id": "mn61_BQQbg0b"
      },
      "execution_count": 37,
      "outputs": []
    },
    {
      "cell_type": "code",
      "source": [
        "# Set the features and target variables\n",
        "X = dataset['ProcessedText']  # Feature: preprocessed texts\n",
        "y = dataset['Username']  # Target variable: usernames"
      ],
      "metadata": {
        "id": "5CWdWn3rox3N"
      },
      "execution_count": 38,
      "outputs": []
    },
    {
      "cell_type": "code",
      "source": [
        "#the training set is 80% and the test set is 20%\n",
        "X_train, X_test, y_train, y_test = train_test_split(X, y, test_size=0.2, random_state=42)\n"
      ],
      "metadata": {
        "id": "2Maf2q2pbg84"
      },
      "execution_count": 44,
      "outputs": []
    },
    {
      "cell_type": "code",
      "source": [
        "k = 5  # Number of nearest neighbors\n",
        "knn = KNeighborsClassifier(n_neighbors=k)\n"
      ],
      "metadata": {
        "id": "6WkL8WOebhFb"
      },
      "execution_count": 45,
      "outputs": []
    },
    {
      "cell_type": "code",
      "source": [
        "knn.fit(X_train.values.reshape(-1, 1), y_train)  # Reshape X_train to match the expected input shape\n",
        "\n"
      ],
      "metadata": {
        "colab": {
          "base_uri": "https://localhost:8080/",
          "height": 74
        },
        "id": "iZw9Lhi_bhNs",
        "outputId": "1449912d-f09a-4f8b-ce54-d5cb4ac49635"
      },
      "execution_count": 46,
      "outputs": [
        {
          "output_type": "execute_result",
          "data": {
            "text/plain": [
              "KNeighborsClassifier()"
            ],
            "text/html": [
              "<style>#sk-container-id-2 {color: black;background-color: white;}#sk-container-id-2 pre{padding: 0;}#sk-container-id-2 div.sk-toggleable {background-color: white;}#sk-container-id-2 label.sk-toggleable__label {cursor: pointer;display: block;width: 100%;margin-bottom: 0;padding: 0.3em;box-sizing: border-box;text-align: center;}#sk-container-id-2 label.sk-toggleable__label-arrow:before {content: \"▸\";float: left;margin-right: 0.25em;color: #696969;}#sk-container-id-2 label.sk-toggleable__label-arrow:hover:before {color: black;}#sk-container-id-2 div.sk-estimator:hover label.sk-toggleable__label-arrow:before {color: black;}#sk-container-id-2 div.sk-toggleable__content {max-height: 0;max-width: 0;overflow: hidden;text-align: left;background-color: #f0f8ff;}#sk-container-id-2 div.sk-toggleable__content pre {margin: 0.2em;color: black;border-radius: 0.25em;background-color: #f0f8ff;}#sk-container-id-2 input.sk-toggleable__control:checked~div.sk-toggleable__content {max-height: 200px;max-width: 100%;overflow: auto;}#sk-container-id-2 input.sk-toggleable__control:checked~label.sk-toggleable__label-arrow:before {content: \"▾\";}#sk-container-id-2 div.sk-estimator input.sk-toggleable__control:checked~label.sk-toggleable__label {background-color: #d4ebff;}#sk-container-id-2 div.sk-label input.sk-toggleable__control:checked~label.sk-toggleable__label {background-color: #d4ebff;}#sk-container-id-2 input.sk-hidden--visually {border: 0;clip: rect(1px 1px 1px 1px);clip: rect(1px, 1px, 1px, 1px);height: 1px;margin: -1px;overflow: hidden;padding: 0;position: absolute;width: 1px;}#sk-container-id-2 div.sk-estimator {font-family: monospace;background-color: #f0f8ff;border: 1px dotted black;border-radius: 0.25em;box-sizing: border-box;margin-bottom: 0.5em;}#sk-container-id-2 div.sk-estimator:hover {background-color: #d4ebff;}#sk-container-id-2 div.sk-parallel-item::after {content: \"\";width: 100%;border-bottom: 1px solid gray;flex-grow: 1;}#sk-container-id-2 div.sk-label:hover label.sk-toggleable__label {background-color: #d4ebff;}#sk-container-id-2 div.sk-serial::before {content: \"\";position: absolute;border-left: 1px solid gray;box-sizing: border-box;top: 0;bottom: 0;left: 50%;z-index: 0;}#sk-container-id-2 div.sk-serial {display: flex;flex-direction: column;align-items: center;background-color: white;padding-right: 0.2em;padding-left: 0.2em;position: relative;}#sk-container-id-2 div.sk-item {position: relative;z-index: 1;}#sk-container-id-2 div.sk-parallel {display: flex;align-items: stretch;justify-content: center;background-color: white;position: relative;}#sk-container-id-2 div.sk-item::before, #sk-container-id-2 div.sk-parallel-item::before {content: \"\";position: absolute;border-left: 1px solid gray;box-sizing: border-box;top: 0;bottom: 0;left: 50%;z-index: -1;}#sk-container-id-2 div.sk-parallel-item {display: flex;flex-direction: column;z-index: 1;position: relative;background-color: white;}#sk-container-id-2 div.sk-parallel-item:first-child::after {align-self: flex-end;width: 50%;}#sk-container-id-2 div.sk-parallel-item:last-child::after {align-self: flex-start;width: 50%;}#sk-container-id-2 div.sk-parallel-item:only-child::after {width: 0;}#sk-container-id-2 div.sk-dashed-wrapped {border: 1px dashed gray;margin: 0 0.4em 0.5em 0.4em;box-sizing: border-box;padding-bottom: 0.4em;background-color: white;}#sk-container-id-2 div.sk-label label {font-family: monospace;font-weight: bold;display: inline-block;line-height: 1.2em;}#sk-container-id-2 div.sk-label-container {text-align: center;}#sk-container-id-2 div.sk-container {/* jupyter's `normalize.less` sets `[hidden] { display: none; }` but bootstrap.min.css set `[hidden] { display: none !important; }` so we also need the `!important` here to be able to override the default hidden behavior on the sphinx rendered scikit-learn.org. See: https://github.com/scikit-learn/scikit-learn/issues/21755 */display: inline-block !important;position: relative;}#sk-container-id-2 div.sk-text-repr-fallback {display: none;}</style><div id=\"sk-container-id-2\" class=\"sk-top-container\"><div class=\"sk-text-repr-fallback\"><pre>KNeighborsClassifier()</pre><b>In a Jupyter environment, please rerun this cell to show the HTML representation or trust the notebook. <br />On GitHub, the HTML representation is unable to render, please try loading this page with nbviewer.org.</b></div><div class=\"sk-container\" hidden><div class=\"sk-item\"><div class=\"sk-estimator sk-toggleable\"><input class=\"sk-toggleable__control sk-hidden--visually\" id=\"sk-estimator-id-2\" type=\"checkbox\" checked><label for=\"sk-estimator-id-2\" class=\"sk-toggleable__label sk-toggleable__label-arrow\">KNeighborsClassifier</label><div class=\"sk-toggleable__content\"><pre>KNeighborsClassifier()</pre></div></div></div></div></div>"
            ]
          },
          "metadata": {},
          "execution_count": 46
        }
      ]
    },
    {
      "cell_type": "code",
      "source": [
        "# Make predictions on the test set\n",
        "y_pred = knn.predict(X_test.values.reshape(-1, 1))  # Reshape X_test to match the expected input shape\n",
        "\n"
      ],
      "metadata": {
        "id": "owOUZ_ssbhVs"
      },
      "execution_count": 47,
      "outputs": []
    },
    {
      "cell_type": "code",
      "source": [
        "# Calculate the accuracy of the model\n",
        "accuracy = accuracy_score(y_test, y_pred)\n",
        "print(f\"Accuracy: {accuracy}\")\n"
      ],
      "metadata": {
        "colab": {
          "base_uri": "https://localhost:8080/"
        },
        "id": "P3Xl5P28dNCO",
        "outputId": "ed9111ec-8b2b-4285-8b6d-4653af31bd2a"
      },
      "execution_count": 48,
      "outputs": [
        {
          "output_type": "stream",
          "name": "stdout",
          "text": [
            "Accuracy: 0.007017543859649123\n"
          ]
        }
      ]
    },
    {
      "cell_type": "markdown",
      "source": [
        "# **QUESTION 1 PART 3: CLUSTERING**"
      ],
      "metadata": {
        "id": "yQUFrCfwpmuT"
      }
    },
    {
      "cell_type": "code",
      "source": [
        "from sklearn.feature_extraction.text import TfidfVectorizer\n",
        "from sklearn.cluster import KMeans\n",
        "from sklearn.decomposition import PCA"
      ],
      "metadata": {
        "id": "YI7HiATMpsiK"
      },
      "execution_count": 86,
      "outputs": []
    },
    {
      "cell_type": "code",
      "source": [
        "dataset = dataset[['Tweet IDs', 'ProcessedText']]"
      ],
      "metadata": {
        "colab": {
          "base_uri": "https://localhost:8080/",
          "height": 307
        },
        "id": "xLQIywIops7N",
        "outputId": "a21bf634-51b8-4a9d-d6fa-9123b9e687ce"
      },
      "execution_count": 99,
      "outputs": [
        {
          "output_type": "error",
          "ename": "KeyError",
          "evalue": "ignored",
          "traceback": [
            "\u001b[0;31m---------------------------------------------------------------------------\u001b[0m",
            "\u001b[0;31mKeyError\u001b[0m                                  Traceback (most recent call last)",
            "\u001b[0;32m<ipython-input-99-7c2db5d70f82>\u001b[0m in \u001b[0;36m<cell line: 1>\u001b[0;34m()\u001b[0m\n\u001b[0;32m----> 1\u001b[0;31m \u001b[0mdataset\u001b[0m \u001b[0;34m=\u001b[0m \u001b[0mdataset\u001b[0m\u001b[0;34m[\u001b[0m\u001b[0;34m[\u001b[0m\u001b[0;34m'Tweet IDs'\u001b[0m\u001b[0;34m,\u001b[0m \u001b[0;34m'ProcessedText'\u001b[0m\u001b[0;34m]\u001b[0m\u001b[0;34m]\u001b[0m\u001b[0;34m\u001b[0m\u001b[0;34m\u001b[0m\u001b[0m\n\u001b[0m",
            "\u001b[0;32m/usr/local/lib/python3.10/dist-packages/pandas/core/frame.py\u001b[0m in \u001b[0;36m__getitem__\u001b[0;34m(self, key)\u001b[0m\n\u001b[1;32m   3811\u001b[0m             \u001b[0;32mif\u001b[0m \u001b[0mis_iterator\u001b[0m\u001b[0;34m(\u001b[0m\u001b[0mkey\u001b[0m\u001b[0;34m)\u001b[0m\u001b[0;34m:\u001b[0m\u001b[0;34m\u001b[0m\u001b[0;34m\u001b[0m\u001b[0m\n\u001b[1;32m   3812\u001b[0m                 \u001b[0mkey\u001b[0m \u001b[0;34m=\u001b[0m \u001b[0mlist\u001b[0m\u001b[0;34m(\u001b[0m\u001b[0mkey\u001b[0m\u001b[0;34m)\u001b[0m\u001b[0;34m\u001b[0m\u001b[0;34m\u001b[0m\u001b[0m\n\u001b[0;32m-> 3813\u001b[0;31m             \u001b[0mindexer\u001b[0m \u001b[0;34m=\u001b[0m \u001b[0mself\u001b[0m\u001b[0;34m.\u001b[0m\u001b[0mcolumns\u001b[0m\u001b[0;34m.\u001b[0m\u001b[0m_get_indexer_strict\u001b[0m\u001b[0;34m(\u001b[0m\u001b[0mkey\u001b[0m\u001b[0;34m,\u001b[0m \u001b[0;34m\"columns\"\u001b[0m\u001b[0;34m)\u001b[0m\u001b[0;34m[\u001b[0m\u001b[0;36m1\u001b[0m\u001b[0;34m]\u001b[0m\u001b[0;34m\u001b[0m\u001b[0;34m\u001b[0m\u001b[0m\n\u001b[0m\u001b[1;32m   3814\u001b[0m \u001b[0;34m\u001b[0m\u001b[0m\n\u001b[1;32m   3815\u001b[0m         \u001b[0;31m# take() does not accept boolean indexers\u001b[0m\u001b[0;34m\u001b[0m\u001b[0;34m\u001b[0m\u001b[0m\n",
            "\u001b[0;32m/usr/local/lib/python3.10/dist-packages/pandas/core/indexes/base.py\u001b[0m in \u001b[0;36m_get_indexer_strict\u001b[0;34m(self, key, axis_name)\u001b[0m\n\u001b[1;32m   6068\u001b[0m             \u001b[0mkeyarr\u001b[0m\u001b[0;34m,\u001b[0m \u001b[0mindexer\u001b[0m\u001b[0;34m,\u001b[0m \u001b[0mnew_indexer\u001b[0m \u001b[0;34m=\u001b[0m \u001b[0mself\u001b[0m\u001b[0;34m.\u001b[0m\u001b[0m_reindex_non_unique\u001b[0m\u001b[0;34m(\u001b[0m\u001b[0mkeyarr\u001b[0m\u001b[0;34m)\u001b[0m\u001b[0;34m\u001b[0m\u001b[0;34m\u001b[0m\u001b[0m\n\u001b[1;32m   6069\u001b[0m \u001b[0;34m\u001b[0m\u001b[0m\n\u001b[0;32m-> 6070\u001b[0;31m         \u001b[0mself\u001b[0m\u001b[0;34m.\u001b[0m\u001b[0m_raise_if_missing\u001b[0m\u001b[0;34m(\u001b[0m\u001b[0mkeyarr\u001b[0m\u001b[0;34m,\u001b[0m \u001b[0mindexer\u001b[0m\u001b[0;34m,\u001b[0m \u001b[0maxis_name\u001b[0m\u001b[0;34m)\u001b[0m\u001b[0;34m\u001b[0m\u001b[0;34m\u001b[0m\u001b[0m\n\u001b[0m\u001b[1;32m   6071\u001b[0m \u001b[0;34m\u001b[0m\u001b[0m\n\u001b[1;32m   6072\u001b[0m         \u001b[0mkeyarr\u001b[0m \u001b[0;34m=\u001b[0m \u001b[0mself\u001b[0m\u001b[0;34m.\u001b[0m\u001b[0mtake\u001b[0m\u001b[0;34m(\u001b[0m\u001b[0mindexer\u001b[0m\u001b[0;34m)\u001b[0m\u001b[0;34m\u001b[0m\u001b[0;34m\u001b[0m\u001b[0m\n",
            "\u001b[0;32m/usr/local/lib/python3.10/dist-packages/pandas/core/indexes/base.py\u001b[0m in \u001b[0;36m_raise_if_missing\u001b[0;34m(self, key, indexer, axis_name)\u001b[0m\n\u001b[1;32m   6131\u001b[0m \u001b[0;34m\u001b[0m\u001b[0m\n\u001b[1;32m   6132\u001b[0m             \u001b[0mnot_found\u001b[0m \u001b[0;34m=\u001b[0m \u001b[0mlist\u001b[0m\u001b[0;34m(\u001b[0m\u001b[0mensure_index\u001b[0m\u001b[0;34m(\u001b[0m\u001b[0mkey\u001b[0m\u001b[0;34m)\u001b[0m\u001b[0;34m[\u001b[0m\u001b[0mmissing_mask\u001b[0m\u001b[0;34m.\u001b[0m\u001b[0mnonzero\u001b[0m\u001b[0;34m(\u001b[0m\u001b[0;34m)\u001b[0m\u001b[0;34m[\u001b[0m\u001b[0;36m0\u001b[0m\u001b[0;34m]\u001b[0m\u001b[0;34m]\u001b[0m\u001b[0;34m.\u001b[0m\u001b[0munique\u001b[0m\u001b[0;34m(\u001b[0m\u001b[0;34m)\u001b[0m\u001b[0;34m)\u001b[0m\u001b[0;34m\u001b[0m\u001b[0;34m\u001b[0m\u001b[0m\n\u001b[0;32m-> 6133\u001b[0;31m             \u001b[0;32mraise\u001b[0m \u001b[0mKeyError\u001b[0m\u001b[0;34m(\u001b[0m\u001b[0;34mf\"{not_found} not in index\"\u001b[0m\u001b[0;34m)\u001b[0m\u001b[0;34m\u001b[0m\u001b[0;34m\u001b[0m\u001b[0m\n\u001b[0m\u001b[1;32m   6134\u001b[0m \u001b[0;34m\u001b[0m\u001b[0m\n\u001b[1;32m   6135\u001b[0m     \u001b[0;34m@\u001b[0m\u001b[0moverload\u001b[0m\u001b[0;34m\u001b[0m\u001b[0;34m\u001b[0m\u001b[0m\n",
            "\u001b[0;31mKeyError\u001b[0m: \"['Tweet IDs'] not in index\""
          ]
        }
      ]
    },
    {
      "cell_type": "code",
      "source": [
        "vectorizer = TfidfVectorizer()\n",
        "X = vectorizer.fit_transform(dataset['ProcessedText'])"
      ],
      "metadata": {
        "id": "2tICusPWptT7"
      },
      "execution_count": 55,
      "outputs": []
    },
    {
      "cell_type": "code",
      "source": [
        "distortions = []\n",
        "K = range(1, 10)\n",
        "for k in K:\n",
        "    kmeans = KMeans(n_clusters=k, random_state=42)\n",
        "    kmeans.fit(X)\n",
        "    distortions.append(kmeans.inertia_)\n",
        "\n",
        "# Plot the elbow curve\n",
        "plt.plot(K, distortions, 'bx-')\n",
        "plt.xlabel('Number of Clusters (K)')\n",
        "plt.ylabel('Distortion')\n",
        "plt.title('Elbow Method')\n",
        "plt.show()"
      ],
      "metadata": {
        "colab": {
          "base_uri": "https://localhost:8080/",
          "height": 526
        },
        "id": "CWnSsU3Sptsq",
        "outputId": "146761b1-a807-4eb2-fb28-c50c58b738ac"
      },
      "execution_count": 56,
      "outputs": [
        {
          "output_type": "stream",
          "name": "stderr",
          "text": [
            "/usr/local/lib/python3.10/dist-packages/sklearn/cluster/_kmeans.py:870: FutureWarning: The default value of `n_init` will change from 10 to 'auto' in 1.4. Set the value of `n_init` explicitly to suppress the warning\n",
            "  warnings.warn(\n"
          ]
        },
        {
          "output_type": "display_data",
          "data": {
            "text/plain": [
              "<Figure size 640x480 with 1 Axes>"
            ],
            "image/png": "[encoded data removed]"
          },
          "metadata": {}
        }
      ]
    },
    {
      "cell_type": "code",
      "source": [
        "k = 5  # Choose the optimal value of K based on the elbow curve\n",
        "kmeans = KMeans(n_clusters=k, random_state=42)\n",
        "kmeans.fit(X)"
      ],
      "metadata": {
        "colab": {
          "base_uri": "https://localhost:8080/",
          "height": 128
        },
        "id": "84reitxKpuFV",
        "outputId": "92b4cf6c-d956-4f1c-d8b7-f71df954f66c"
      },
      "execution_count": 63,
      "outputs": [
        {
          "output_type": "stream",
          "name": "stderr",
          "text": [
            "/usr/local/lib/python3.10/dist-packages/sklearn/cluster/_kmeans.py:870: FutureWarning: The default value of `n_init` will change from 10 to 'auto' in 1.4. Set the value of `n_init` explicitly to suppress the warning\n",
            "  warnings.warn(\n"
          ]
        },
        {
          "output_type": "execute_result",
          "data": {
            "text/plain": [
              "KMeans(n_clusters=10, random_state=42)"
            ],
            "text/html": [
              "<style>#sk-container-id-4 {color: black;background-color: white;}#sk-container-id-4 pre{padding: 0;}#sk-container-id-4 div.sk-toggleable {background-color: white;}#sk-container-id-4 label.sk-toggleable__label {cursor: pointer;display: block;width: 100%;margin-bottom: 0;padding: 0.3em;box-sizing: border-box;text-align: center;}#sk-container-id-4 label.sk-toggleable__label-arrow:before {content: \"▸\";float: left;margin-right: 0.25em;color: #696969;}#sk-container-id-4 label.sk-toggleable__label-arrow:hover:before {color: black;}#sk-container-id-4 div.sk-estimator:hover label.sk-toggleable__label-arrow:before {color: black;}#sk-container-id-4 div.sk-toggleable__content {max-height: 0;max-width: 0;overflow: hidden;text-align: left;background-color: #f0f8ff;}#sk-container-id-4 div.sk-toggleable__content pre {margin: 0.2em;color: black;border-radius: 0.25em;background-color: #f0f8ff;}#sk-container-id-4 input.sk-toggleable__control:checked~div.sk-toggleable__content {max-height: 200px;max-width: 100%;overflow: auto;}#sk-container-id-4 input.sk-toggleable__control:checked~label.sk-toggleable__label-arrow:before {content: \"▾\";}#sk-container-id-4 div.sk-estimator input.sk-toggleable__control:checked~label.sk-toggleable__label {background-color: #d4ebff;}#sk-container-id-4 div.sk-label input.sk-toggleable__control:checked~label.sk-toggleable__label {background-color: #d4ebff;}#sk-container-id-4 input.sk-hidden--visually {border: 0;clip: rect(1px 1px 1px 1px);clip: rect(1px, 1px, 1px, 1px);height: 1px;margin: -1px;overflow: hidden;padding: 0;position: absolute;width: 1px;}#sk-container-id-4 div.sk-estimator {font-family: monospace;background-color: #f0f8ff;border: 1px dotted black;border-radius: 0.25em;box-sizing: border-box;margin-bottom: 0.5em;}#sk-container-id-4 div.sk-estimator:hover {background-color: #d4ebff;}#sk-container-id-4 div.sk-parallel-item::after {content: \"\";width: 100%;border-bottom: 1px solid gray;flex-grow: 1;}#sk-container-id-4 div.sk-label:hover label.sk-toggleable__label {background-color: #d4ebff;}#sk-container-id-4 div.sk-serial::before {content: \"\";position: absolute;border-left: 1px solid gray;box-sizing: border-box;top: 0;bottom: 0;left: 50%;z-index: 0;}#sk-container-id-4 div.sk-serial {display: flex;flex-direction: column;align-items: center;background-color: white;padding-right: 0.2em;padding-left: 0.2em;position: relative;}#sk-container-id-4 div.sk-item {position: relative;z-index: 1;}#sk-container-id-4 div.sk-parallel {display: flex;align-items: stretch;justify-content: center;background-color: white;position: relative;}#sk-container-id-4 div.sk-item::before, #sk-container-id-4 div.sk-parallel-item::before {content: \"\";position: absolute;border-left: 1px solid gray;box-sizing: border-box;top: 0;bottom: 0;left: 50%;z-index: -1;}#sk-container-id-4 div.sk-parallel-item {display: flex;flex-direction: column;z-index: 1;position: relative;background-color: white;}#sk-container-id-4 div.sk-parallel-item:first-child::after {align-self: flex-end;width: 50%;}#sk-container-id-4 div.sk-parallel-item:last-child::after {align-self: flex-start;width: 50%;}#sk-container-id-4 div.sk-parallel-item:only-child::after {width: 0;}#sk-container-id-4 div.sk-dashed-wrapped {border: 1px dashed gray;margin: 0 0.4em 0.5em 0.4em;box-sizing: border-box;padding-bottom: 0.4em;background-color: white;}#sk-container-id-4 div.sk-label label {font-family: monospace;font-weight: bold;display: inline-block;line-height: 1.2em;}#sk-container-id-4 div.sk-label-container {text-align: center;}#sk-container-id-4 div.sk-container {/* jupyter's `normalize.less` sets `[hidden] { display: none; }` but bootstrap.min.css set `[hidden] { display: none !important; }` so we also need the `!important` here to be able to override the default hidden behavior on the sphinx rendered scikit-learn.org. See: https://github.com/scikit-learn/scikit-learn/issues/21755 */display: inline-block !important;position: relative;}#sk-container-id-4 div.sk-text-repr-fallback {display: none;}</style><div id=\"sk-container-id-4\" class=\"sk-top-container\"><div class=\"sk-text-repr-fallback\"><pre>KMeans(n_clusters=10, random_state=42)</pre><b>In a Jupyter environment, please rerun this cell to show the HTML representation or trust the notebook. <br />On GitHub, the HTML representation is unable to render, please try loading this page with nbviewer.org.</b></div><div class=\"sk-container\" hidden><div class=\"sk-item\"><div class=\"sk-estimator sk-toggleable\"><input class=\"sk-toggleable__control sk-hidden--visually\" id=\"sk-estimator-id-4\" type=\"checkbox\" checked><label for=\"sk-estimator-id-4\" class=\"sk-toggleable__label sk-toggleable__label-arrow\">KMeans</label><div class=\"sk-toggleable__content\"><pre>KMeans(n_clusters=10, random_state=42)</pre></div></div></div></div></div>"
            ]
          },
          "metadata": {},
          "execution_count": 63
        }
      ]
    },
    {
      "cell_type": "code",
      "source": [
        "dataset['Cluster'] = kmeans.labels_"
      ],
      "metadata": {
        "id": "2QmrdbL2sMNJ"
      },
      "execution_count": 64,
      "outputs": []
    },
    {
      "cell_type": "code",
      "source": [
        "y_kmeans = kmeans.predict(X)\n",
        "\n",
        "# Convert X to a dense array for indexing in the scatter plot\n",
        "X_dense = X.toarray()\n",
        "\n",
        "# Visualize the clusters\n",
        "plt.scatter(X_dense[y_kmeans==0, 0], X_dense[y_kmeans==0, 1], s=100, c='red', label ='Cluster 1')\n",
        "plt.scatter(X_dense[y_kmeans==1, 0], X_dense[y_kmeans==1, 1], s=100, c='blue', label ='Cluster 2')\n",
        "plt.scatter(X_dense[y_kmeans==2, 0], X_dense[y_kmeans==2, 1], s=100, c='green', label ='Cluster 3')\n",
        "plt.scatter(X_dense[y_kmeans==3, 0], X_dense[y_kmeans==3, 1], s=100, c='cyan', label ='Cluster 4')\n",
        "plt.scatter(X_dense[y_kmeans==4, 0], X_dense[y_kmeans==4, 1], s=100, c='magenta', label ='Cluster 5')\n",
        "\n",
        "# Plot the centroids\n",
        "plt.scatter(kmeans.cluster_centers_[:, 0], kmeans.cluster_centers_[:, 1], s=300, c='yellow', label='Centroids')\n",
        "plt.title('Clusters of Customers')\n",
        "plt.xlabel('Processed Tweets')\n",
        "plt.ylabel('Hashtags')\n",
        "plt.legend()\n",
        "plt.show()"
      ],
      "metadata": {
        "colab": {
          "base_uri": "https://localhost:8080/",
          "height": 375
        },
        "id": "YXCxOwkBsMry",
        "outputId": "a27d95d1-864b-4f72-fee3-de633d26c2f1"
      },
      "execution_count": 85,
      "outputs": [
        {
          "output_type": "error",
          "ename": "ValueError",
          "evalue": "ignored",
          "traceback": [
            "\u001b[0;31m---------------------------------------------------------------------------\u001b[0m",
            "\u001b[0;31mValueError\u001b[0m                                Traceback (most recent call last)",
            "\u001b[0;32m<ipython-input-85-d865cdedb2f5>\u001b[0m in \u001b[0;36m<cell line: 1>\u001b[0;34m()\u001b[0m\n\u001b[0;32m----> 1\u001b[0;31m \u001b[0my_kmeans\u001b[0m \u001b[0;34m=\u001b[0m \u001b[0mkmeans\u001b[0m\u001b[0;34m.\u001b[0m\u001b[0mpredict\u001b[0m\u001b[0;34m(\u001b[0m\u001b[0mX\u001b[0m\u001b[0;34m)\u001b[0m\u001b[0;34m\u001b[0m\u001b[0;34m\u001b[0m\u001b[0m\n\u001b[0m\u001b[1;32m      2\u001b[0m \u001b[0;34m\u001b[0m\u001b[0m\n\u001b[1;32m      3\u001b[0m \u001b[0;31m# Convert X to a dense array for indexing in the scatter plot\u001b[0m\u001b[0;34m\u001b[0m\u001b[0;34m\u001b[0m\u001b[0m\n\u001b[1;32m      4\u001b[0m \u001b[0mX_dense\u001b[0m \u001b[0;34m=\u001b[0m \u001b[0mX\u001b[0m\u001b[0;34m.\u001b[0m\u001b[0mtoarray\u001b[0m\u001b[0;34m(\u001b[0m\u001b[0;34m)\u001b[0m\u001b[0;34m\u001b[0m\u001b[0;34m\u001b[0m\u001b[0m\n\u001b[1;32m      5\u001b[0m \u001b[0;34m\u001b[0m\u001b[0m\n",
            "\u001b[0;32m/usr/local/lib/python3.10/dist-packages/sklearn/cluster/_kmeans.py\u001b[0m in \u001b[0;36mpredict\u001b[0;34m(self, X, sample_weight)\u001b[0m\n\u001b[1;32m   1056\u001b[0m         \u001b[0mcheck_is_fitted\u001b[0m\u001b[0;34m(\u001b[0m\u001b[0mself\u001b[0m\u001b[0;34m)\u001b[0m\u001b[0;34m\u001b[0m\u001b[0;34m\u001b[0m\u001b[0m\n\u001b[1;32m   1057\u001b[0m \u001b[0;34m\u001b[0m\u001b[0m\n\u001b[0;32m-> 1058\u001b[0;31m         \u001b[0mX\u001b[0m \u001b[0;34m=\u001b[0m \u001b[0mself\u001b[0m\u001b[0;34m.\u001b[0m\u001b[0m_check_test_data\u001b[0m\u001b[0;34m(\u001b[0m\u001b[0mX\u001b[0m\u001b[0;34m)\u001b[0m\u001b[0;34m\u001b[0m\u001b[0;34m\u001b[0m\u001b[0m\n\u001b[0m\u001b[1;32m   1059\u001b[0m         \u001b[0msample_weight\u001b[0m \u001b[0;34m=\u001b[0m \u001b[0m_check_sample_weight\u001b[0m\u001b[0;34m(\u001b[0m\u001b[0msample_weight\u001b[0m\u001b[0;34m,\u001b[0m \u001b[0mX\u001b[0m\u001b[0;34m,\u001b[0m \u001b[0mdtype\u001b[0m\u001b[0;34m=\u001b[0m\u001b[0mX\u001b[0m\u001b[0;34m.\u001b[0m\u001b[0mdtype\u001b[0m\u001b[0;34m)\u001b[0m\u001b[0;34m\u001b[0m\u001b[0;34m\u001b[0m\u001b[0m\n\u001b[1;32m   1060\u001b[0m \u001b[0;34m\u001b[0m\u001b[0m\n",
            "\u001b[0;32m/usr/local/lib/python3.10/dist-packages/sklearn/cluster/_kmeans.py\u001b[0m in \u001b[0;36m_check_test_data\u001b[0;34m(self, X)\u001b[0m\n\u001b[1;32m    932\u001b[0m \u001b[0;34m\u001b[0m\u001b[0m\n\u001b[1;32m    933\u001b[0m     \u001b[0;32mdef\u001b[0m \u001b[0m_check_test_data\u001b[0m\u001b[0;34m(\u001b[0m\u001b[0mself\u001b[0m\u001b[0;34m,\u001b[0m \u001b[0mX\u001b[0m\u001b[0;34m)\u001b[0m\u001b[0;34m:\u001b[0m\u001b[0;34m\u001b[0m\u001b[0;34m\u001b[0m\u001b[0m\n\u001b[0;32m--> 934\u001b[0;31m         X = self._validate_data(\n\u001b[0m\u001b[1;32m    935\u001b[0m             \u001b[0mX\u001b[0m\u001b[0;34m,\u001b[0m\u001b[0;34m\u001b[0m\u001b[0;34m\u001b[0m\u001b[0m\n\u001b[1;32m    936\u001b[0m             \u001b[0maccept_sparse\u001b[0m\u001b[0;34m=\u001b[0m\u001b[0;34m\"csr\"\u001b[0m\u001b[0;34m,\u001b[0m\u001b[0;34m\u001b[0m\u001b[0;34m\u001b[0m\u001b[0m\n",
            "\u001b[0;32m/usr/local/lib/python3.10/dist-packages/sklearn/base.py\u001b[0m in \u001b[0;36m_validate_data\u001b[0;34m(self, X, y, reset, validate_separately, **check_params)\u001b[0m\n\u001b[1;32m    586\u001b[0m \u001b[0;34m\u001b[0m\u001b[0m\n\u001b[1;32m    587\u001b[0m         \u001b[0;32mif\u001b[0m \u001b[0;32mnot\u001b[0m \u001b[0mno_val_X\u001b[0m \u001b[0;32mand\u001b[0m \u001b[0mcheck_params\u001b[0m\u001b[0;34m.\u001b[0m\u001b[0mget\u001b[0m\u001b[0;34m(\u001b[0m\u001b[0;34m\"ensure_2d\"\u001b[0m\u001b[0;34m,\u001b[0m \u001b[0;32mTrue\u001b[0m\u001b[0;34m)\u001b[0m\u001b[0;34m:\u001b[0m\u001b[0;34m\u001b[0m\u001b[0;34m\u001b[0m\u001b[0m\n\u001b[0;32m--> 588\u001b[0;31m             \u001b[0mself\u001b[0m\u001b[0;34m.\u001b[0m\u001b[0m_check_n_features\u001b[0m\u001b[0;34m(\u001b[0m\u001b[0mX\u001b[0m\u001b[0;34m,\u001b[0m \u001b[0mreset\u001b[0m\u001b[0;34m=\u001b[0m\u001b[0mreset\u001b[0m\u001b[0;34m)\u001b[0m\u001b[0;34m\u001b[0m\u001b[0;34m\u001b[0m\u001b[0m\n\u001b[0m\u001b[1;32m    589\u001b[0m \u001b[0;34m\u001b[0m\u001b[0m\n\u001b[1;32m    590\u001b[0m         \u001b[0;32mreturn\u001b[0m \u001b[0mout\u001b[0m\u001b[0;34m\u001b[0m\u001b[0;34m\u001b[0m\u001b[0m\n",
            "\u001b[0;32m/usr/local/lib/python3.10/dist-packages/sklearn/base.py\u001b[0m in \u001b[0;36m_check_n_features\u001b[0;34m(self, X, reset)\u001b[0m\n\u001b[1;32m    387\u001b[0m \u001b[0;34m\u001b[0m\u001b[0m\n\u001b[1;32m    388\u001b[0m         \u001b[0;32mif\u001b[0m \u001b[0mn_features\u001b[0m \u001b[0;34m!=\u001b[0m \u001b[0mself\u001b[0m\u001b[0;34m.\u001b[0m\u001b[0mn_features_in_\u001b[0m\u001b[0;34m:\u001b[0m\u001b[0;34m\u001b[0m\u001b[0;34m\u001b[0m\u001b[0m\n\u001b[0;32m--> 389\u001b[0;31m             raise ValueError(\n\u001b[0m\u001b[1;32m    390\u001b[0m                 \u001b[0;34mf\"X has {n_features} features, but {self.__class__.__name__} \"\u001b[0m\u001b[0;34m\u001b[0m\u001b[0;34m\u001b[0m\u001b[0m\n\u001b[1;32m    391\u001b[0m                 \u001b[0;34mf\"is expecting {self.n_features_in_} features as input.\"\u001b[0m\u001b[0;34m\u001b[0m\u001b[0;34m\u001b[0m\u001b[0m\n",
            "\u001b[0;31mValueError\u001b[0m: X has 2428 features, but KMeans is expecting 1 features as input."
          ]
        }
      ]
    },
    {
      "cell_type": "markdown",
      "source": [
        "# **QUESTION 1 PART 4: ENGAGEMENT ANALYSIS**"
      ],
      "metadata": {
        "id": "M94KwANL3ZOg"
      }
    },
    {
      "cell_type": "code",
      "source": [
        "from sklearn.model_selection import train_test_split\n",
        "from sklearn.ensemble import RandomForestRegressor\n",
        "from sklearn.metrics import mean_squared_error\n",
        "\n",
        "# Load the dataset\n",
        "df = pd.read_csv('/content/CHATGPT1.csv')  # Replace 'your_dataset.csv' with the actual file path\n",
        "\n",
        "# Select the relevant columns for prediction\n",
        "data = df[['Text', 'ReplyCount', 'RetweetCount']]\n",
        "\n",
        "# Split the data into training and testing sets\n",
        "X = data['Text']\n",
        "y_reply = data['ReplyCount']\n",
        "y_retweet = data['RetweetCount']\n",
        "X_train, X_test, y_reply_train, y_reply_test, y_retweet_train, y_retweet_test = train_test_split(\n",
        "    X, y_reply, y_retweet, test_size=0.2, random_state=42)\n",
        "\n",
        "# Vectorize the sentimented texts\n",
        "vectorizer = TfidfVectorizer()\n",
        "X_train = vectorizer.fit_transform(X_train)\n",
        "X_test = vectorizer.transform(X_test)\n",
        "\n",
        "# Train the Random Forest model for ReplyCount\n",
        "rf_reply = RandomForestRegressor(n_estimators=100, random_state=42)\n",
        "rf_reply.fit(X_train, y_reply_train)\n",
        "\n",
        "# Train the Random Forest model for RetweetCount\n",
        "rf_retweet = RandomForestRegressor(n_estimators=100, random_state=42)\n",
        "rf_retweet.fit(X_train, y_retweet_train)\n",
        "\n",
        "# Make predictions on the test set\n",
        "reply_predictions = rf_reply.predict(X_test)\n",
        "retweet_predictions = rf_retweet.predict(X_test)\n",
        "\n",
        "# Calculate root mean squared error (RMSE)\n",
        "reply_rmse = mean_squared_error(y_reply_test, reply_predictions, squared=False)\n",
        "retweet_rmse = mean_squared_error(y_retweet_test, retweet_predictions, squared=False)\n",
        "\n",
        "# Print the predictions\n",
        "for i, sentiment_text in enumerate(X_test):\n",
        "    print(f\"Text: {X_test[i]}\")\n",
        "    print(f\"Predicted ReplyCount: {reply_predictions[i]}\")\n",
        "    print(f\"Predicted RetweetCount: {retweet_predictions[i]}\")\n",
        "    print()\n",
        "\n",
        "# Print RMSE\n",
        "print(f\"ReplyCount RMSE: {reply_rmse}\")\n",
        "print(f\"RetweetCount RMSE: {retweet_rmse}\")"
      ],
      "metadata": {
        "id": "lcLAsEo63fhM"
      },
      "execution_count": null,
      "outputs": []
    },
    {
      "cell_type": "code",
      "source": [],
      "metadata": {
        "id": "rcdgbO8O3pAG"
      },
      "execution_count": null,
      "outputs": []
    }
  ]
}